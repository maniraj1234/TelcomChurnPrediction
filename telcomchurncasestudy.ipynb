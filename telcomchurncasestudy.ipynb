{
 "cells": [
  {
   "cell_type": "code",
   "execution_count": 1,
   "id": "3ec7ba59",
   "metadata": {
    "_cell_guid": "b1076dfc-b9ad-4769-8c92-a6c4dae69d19",
    "_uuid": "8f2839f25d086af736a60e9eeb907d3b93b6e0e5",
    "execution": {
     "iopub.execute_input": "2022-10-08T12:53:54.292082Z",
     "iopub.status.busy": "2022-10-08T12:53:54.291625Z",
     "iopub.status.idle": "2022-10-08T12:53:54.304625Z",
     "shell.execute_reply": "2022-10-08T12:53:54.303451Z"
    },
    "papermill": {
     "duration": 0.03005,
     "end_time": "2022-10-08T12:53:54.307748",
     "exception": false,
     "start_time": "2022-10-08T12:53:54.277698",
     "status": "completed"
    },
    "tags": []
   },
   "outputs": [
    {
     "name": "stdout",
     "output_type": "stream",
     "text": [
      "/kaggle/input/telecom-churn-case-study-hackathon-c40/data_dictionary.csv\n",
      "/kaggle/input/telecom-churn-case-study-hackathon-c40/train.csv\n",
      "/kaggle/input/telecom-churn-case-study-hackathon-c40/test.csv\n",
      "/kaggle/input/telecom-churn-case-study-hackathon-c40/solution.csv\n"
     ]
    }
   ],
   "source": [
    "# This Python 3 environment comes with many helpful analytics libraries installed\n",
    "# It is defined by the kaggle/python Docker image: https://github.com/kaggle/docker-python\n",
    "# For example, here's several helpful packages to load\n",
    "\n",
    "import numpy as np # linear algebra\n",
    "import pandas as pd # data processing, CSV file I/O (e.g. pd.read_csv)\n",
    "\n",
    "# Input data files are available in the read-only \"../input/\" directory\n",
    "# For example, running this (by clicking run or pressing Shift+Enter) will list all files under the input directory\n",
    "\n",
    "import os\n",
    "for dirname, _, filenames in os.walk('/kaggle/input'):\n",
    "    for filename in filenames:\n",
    "        print(os.path.join(dirname, filename))\n",
    "\n",
    "# You can write up to 20GB to the current directory (/kaggle/working/) that gets preserved as output when you create a version using \"Save & Run All\" \n",
    "# You can also write temporary files to /kaggle/temp/, but they won't be saved outside of the current session"
   ]
  },
  {
   "cell_type": "code",
   "execution_count": 2,
   "id": "c7299bf5",
   "metadata": {
    "execution": {
     "iopub.execute_input": "2022-10-08T12:53:54.330212Z",
     "iopub.status.busy": "2022-10-08T12:53:54.329554Z",
     "iopub.status.idle": "2022-10-08T12:53:54.334514Z",
     "shell.execute_reply": "2022-10-08T12:53:54.333730Z"
    },
    "papermill": {
     "duration": 0.018125,
     "end_time": "2022-10-08T12:53:54.336549",
     "exception": false,
     "start_time": "2022-10-08T12:53:54.318424",
     "status": "completed"
    },
    "tags": []
   },
   "outputs": [],
   "source": [
    "pd.set_option('display.max_rows', 30)"
   ]
  },
  {
   "cell_type": "code",
   "execution_count": 3,
   "id": "8544ec1a",
   "metadata": {
    "execution": {
     "iopub.execute_input": "2022-10-08T12:53:54.358291Z",
     "iopub.status.busy": "2022-10-08T12:53:54.357657Z",
     "iopub.status.idle": "2022-10-08T12:53:56.352343Z",
     "shell.execute_reply": "2022-10-08T12:53:56.351111Z"
    },
    "papermill": {
     "duration": 2.008734,
     "end_time": "2022-10-08T12:53:56.355055",
     "exception": false,
     "start_time": "2022-10-08T12:53:54.346321",
     "status": "completed"
    },
    "tags": []
   },
   "outputs": [],
   "source": [
    "telcom_data = pd.read_csv('/kaggle/input/telecom-churn-case-study-hackathon-c40/train.csv');\n",
    "telcom_data.set_index('id', inplace=True)"
   ]
  },
  {
   "cell_type": "code",
   "execution_count": 4,
   "id": "13cd7ef1",
   "metadata": {
    "execution": {
     "iopub.execute_input": "2022-10-08T12:53:56.378643Z",
     "iopub.status.busy": "2022-10-08T12:53:56.377967Z",
     "iopub.status.idle": "2022-10-08T12:53:56.422587Z",
     "shell.execute_reply": "2022-10-08T12:53:56.421316Z"
    },
    "papermill": {
     "duration": 0.058848,
     "end_time": "2022-10-08T12:53:56.425431",
     "exception": false,
     "start_time": "2022-10-08T12:53:56.366583",
     "status": "completed"
    },
    "tags": []
   },
   "outputs": [
    {
     "data": {
      "text/html": [
       "<div>\n",
       "<style scoped>\n",
       "    .dataframe tbody tr th:only-of-type {\n",
       "        vertical-align: middle;\n",
       "    }\n",
       "\n",
       "    .dataframe tbody tr th {\n",
       "        vertical-align: top;\n",
       "    }\n",
       "\n",
       "    .dataframe thead th {\n",
       "        text-align: right;\n",
       "    }\n",
       "</style>\n",
       "<table border=\"1\" class=\"dataframe\">\n",
       "  <thead>\n",
       "    <tr style=\"text-align: right;\">\n",
       "      <th></th>\n",
       "      <th>circle_id</th>\n",
       "      <th>loc_og_t2o_mou</th>\n",
       "      <th>std_og_t2o_mou</th>\n",
       "      <th>loc_ic_t2o_mou</th>\n",
       "      <th>last_date_of_month_6</th>\n",
       "      <th>last_date_of_month_7</th>\n",
       "      <th>last_date_of_month_8</th>\n",
       "      <th>arpu_6</th>\n",
       "      <th>arpu_7</th>\n",
       "      <th>arpu_8</th>\n",
       "      <th>...</th>\n",
       "      <th>sachet_3g_7</th>\n",
       "      <th>sachet_3g_8</th>\n",
       "      <th>fb_user_6</th>\n",
       "      <th>fb_user_7</th>\n",
       "      <th>fb_user_8</th>\n",
       "      <th>aon</th>\n",
       "      <th>aug_vbc_3g</th>\n",
       "      <th>jul_vbc_3g</th>\n",
       "      <th>jun_vbc_3g</th>\n",
       "      <th>churn_probability</th>\n",
       "    </tr>\n",
       "    <tr>\n",
       "      <th>id</th>\n",
       "      <th></th>\n",
       "      <th></th>\n",
       "      <th></th>\n",
       "      <th></th>\n",
       "      <th></th>\n",
       "      <th></th>\n",
       "      <th></th>\n",
       "      <th></th>\n",
       "      <th></th>\n",
       "      <th></th>\n",
       "      <th></th>\n",
       "      <th></th>\n",
       "      <th></th>\n",
       "      <th></th>\n",
       "      <th></th>\n",
       "      <th></th>\n",
       "      <th></th>\n",
       "      <th></th>\n",
       "      <th></th>\n",
       "      <th></th>\n",
       "      <th></th>\n",
       "    </tr>\n",
       "  </thead>\n",
       "  <tbody>\n",
       "    <tr>\n",
       "      <th>0</th>\n",
       "      <td>109</td>\n",
       "      <td>0.0</td>\n",
       "      <td>0.0</td>\n",
       "      <td>0.0</td>\n",
       "      <td>6/30/2014</td>\n",
       "      <td>7/31/2014</td>\n",
       "      <td>8/31/2014</td>\n",
       "      <td>31.277</td>\n",
       "      <td>87.009</td>\n",
       "      <td>7.527</td>\n",
       "      <td>...</td>\n",
       "      <td>0</td>\n",
       "      <td>0</td>\n",
       "      <td>NaN</td>\n",
       "      <td>NaN</td>\n",
       "      <td>NaN</td>\n",
       "      <td>1958</td>\n",
       "      <td>0.0</td>\n",
       "      <td>0.0</td>\n",
       "      <td>0.0</td>\n",
       "      <td>0</td>\n",
       "    </tr>\n",
       "    <tr>\n",
       "      <th>1</th>\n",
       "      <td>109</td>\n",
       "      <td>0.0</td>\n",
       "      <td>0.0</td>\n",
       "      <td>0.0</td>\n",
       "      <td>6/30/2014</td>\n",
       "      <td>7/31/2014</td>\n",
       "      <td>8/31/2014</td>\n",
       "      <td>0.000</td>\n",
       "      <td>122.787</td>\n",
       "      <td>42.953</td>\n",
       "      <td>...</td>\n",
       "      <td>0</td>\n",
       "      <td>0</td>\n",
       "      <td>NaN</td>\n",
       "      <td>1.0</td>\n",
       "      <td>NaN</td>\n",
       "      <td>710</td>\n",
       "      <td>0.0</td>\n",
       "      <td>0.0</td>\n",
       "      <td>0.0</td>\n",
       "      <td>0</td>\n",
       "    </tr>\n",
       "    <tr>\n",
       "      <th>2</th>\n",
       "      <td>109</td>\n",
       "      <td>0.0</td>\n",
       "      <td>0.0</td>\n",
       "      <td>0.0</td>\n",
       "      <td>6/30/2014</td>\n",
       "      <td>7/31/2014</td>\n",
       "      <td>8/31/2014</td>\n",
       "      <td>60.806</td>\n",
       "      <td>103.176</td>\n",
       "      <td>0.000</td>\n",
       "      <td>...</td>\n",
       "      <td>0</td>\n",
       "      <td>0</td>\n",
       "      <td>NaN</td>\n",
       "      <td>NaN</td>\n",
       "      <td>NaN</td>\n",
       "      <td>882</td>\n",
       "      <td>0.0</td>\n",
       "      <td>0.0</td>\n",
       "      <td>0.0</td>\n",
       "      <td>0</td>\n",
       "    </tr>\n",
       "    <tr>\n",
       "      <th>3</th>\n",
       "      <td>109</td>\n",
       "      <td>0.0</td>\n",
       "      <td>0.0</td>\n",
       "      <td>0.0</td>\n",
       "      <td>6/30/2014</td>\n",
       "      <td>7/31/2014</td>\n",
       "      <td>8/31/2014</td>\n",
       "      <td>156.362</td>\n",
       "      <td>205.260</td>\n",
       "      <td>111.095</td>\n",
       "      <td>...</td>\n",
       "      <td>0</td>\n",
       "      <td>0</td>\n",
       "      <td>NaN</td>\n",
       "      <td>NaN</td>\n",
       "      <td>NaN</td>\n",
       "      <td>982</td>\n",
       "      <td>0.0</td>\n",
       "      <td>0.0</td>\n",
       "      <td>0.0</td>\n",
       "      <td>0</td>\n",
       "    </tr>\n",
       "    <tr>\n",
       "      <th>4</th>\n",
       "      <td>109</td>\n",
       "      <td>0.0</td>\n",
       "      <td>0.0</td>\n",
       "      <td>0.0</td>\n",
       "      <td>6/30/2014</td>\n",
       "      <td>7/31/2014</td>\n",
       "      <td>8/31/2014</td>\n",
       "      <td>240.708</td>\n",
       "      <td>128.191</td>\n",
       "      <td>101.565</td>\n",
       "      <td>...</td>\n",
       "      <td>1</td>\n",
       "      <td>0</td>\n",
       "      <td>1.0</td>\n",
       "      <td>1.0</td>\n",
       "      <td>1.0</td>\n",
       "      <td>647</td>\n",
       "      <td>0.0</td>\n",
       "      <td>0.0</td>\n",
       "      <td>0.0</td>\n",
       "      <td>0</td>\n",
       "    </tr>\n",
       "  </tbody>\n",
       "</table>\n",
       "<p>5 rows × 171 columns</p>\n",
       "</div>"
      ],
      "text/plain": [
       "    circle_id  loc_og_t2o_mou  std_og_t2o_mou  loc_ic_t2o_mou  \\\n",
       "id                                                              \n",
       "0         109             0.0             0.0             0.0   \n",
       "1         109             0.0             0.0             0.0   \n",
       "2         109             0.0             0.0             0.0   \n",
       "3         109             0.0             0.0             0.0   \n",
       "4         109             0.0             0.0             0.0   \n",
       "\n",
       "   last_date_of_month_6 last_date_of_month_7 last_date_of_month_8   arpu_6  \\\n",
       "id                                                                           \n",
       "0             6/30/2014            7/31/2014            8/31/2014   31.277   \n",
       "1             6/30/2014            7/31/2014            8/31/2014    0.000   \n",
       "2             6/30/2014            7/31/2014            8/31/2014   60.806   \n",
       "3             6/30/2014            7/31/2014            8/31/2014  156.362   \n",
       "4             6/30/2014            7/31/2014            8/31/2014  240.708   \n",
       "\n",
       "     arpu_7   arpu_8  ...  sachet_3g_7  sachet_3g_8  fb_user_6  fb_user_7  \\\n",
       "id                    ...                                                   \n",
       "0    87.009    7.527  ...            0            0        NaN        NaN   \n",
       "1   122.787   42.953  ...            0            0        NaN        1.0   \n",
       "2   103.176    0.000  ...            0            0        NaN        NaN   \n",
       "3   205.260  111.095  ...            0            0        NaN        NaN   \n",
       "4   128.191  101.565  ...            1            0        1.0        1.0   \n",
       "\n",
       "    fb_user_8   aon  aug_vbc_3g  jul_vbc_3g  jun_vbc_3g  churn_probability  \n",
       "id                                                                          \n",
       "0         NaN  1958         0.0         0.0         0.0                  0  \n",
       "1         NaN   710         0.0         0.0         0.0                  0  \n",
       "2         NaN   882         0.0         0.0         0.0                  0  \n",
       "3         NaN   982         0.0         0.0         0.0                  0  \n",
       "4         1.0   647         0.0         0.0         0.0                  0  \n",
       "\n",
       "[5 rows x 171 columns]"
      ]
     },
     "execution_count": 4,
     "metadata": {},
     "output_type": "execute_result"
    }
   ],
   "source": [
    "telcom_data.head()"
   ]
  },
  {
   "cell_type": "code",
   "execution_count": 5,
   "id": "d49ebb14",
   "metadata": {
    "execution": {
     "iopub.execute_input": "2022-10-08T12:53:56.448042Z",
     "iopub.status.busy": "2022-10-08T12:53:56.447371Z",
     "iopub.status.idle": "2022-10-08T12:53:56.453964Z",
     "shell.execute_reply": "2022-10-08T12:53:56.453092Z"
    },
    "papermill": {
     "duration": 0.020396,
     "end_time": "2022-10-08T12:53:56.456074",
     "exception": false,
     "start_time": "2022-10-08T12:53:56.435678",
     "status": "completed"
    },
    "tags": []
   },
   "outputs": [
    {
     "data": {
      "text/plain": [
       "(69999, 171)"
      ]
     },
     "execution_count": 5,
     "metadata": {},
     "output_type": "execute_result"
    }
   ],
   "source": [
    "telcom_data.shape"
   ]
  },
  {
   "cell_type": "code",
   "execution_count": 6,
   "id": "88ac169c",
   "metadata": {
    "execution": {
     "iopub.execute_input": "2022-10-08T12:53:56.478978Z",
     "iopub.status.busy": "2022-10-08T12:53:56.478014Z",
     "iopub.status.idle": "2022-10-08T12:53:56.490795Z",
     "shell.execute_reply": "2022-10-08T12:53:56.489787Z"
    },
    "papermill": {
     "duration": 0.026897,
     "end_time": "2022-10-08T12:53:56.493294",
     "exception": false,
     "start_time": "2022-10-08T12:53:56.466397",
     "status": "completed"
    },
    "tags": []
   },
   "outputs": [
    {
     "data": {
      "text/plain": [
       "circle_id                     int64\n",
       "loc_og_t2o_mou              float64\n",
       "std_og_t2o_mou              float64\n",
       "loc_ic_t2o_mou              float64\n",
       "last_date_of_month_6         object\n",
       "last_date_of_month_7         object\n",
       "last_date_of_month_8         object\n",
       "arpu_6                      float64\n",
       "arpu_7                      float64\n",
       "arpu_8                      float64\n",
       "onnet_mou_6                 float64\n",
       "onnet_mou_7                 float64\n",
       "onnet_mou_8                 float64\n",
       "offnet_mou_6                float64\n",
       "offnet_mou_7                float64\n",
       "offnet_mou_8                float64\n",
       "roam_ic_mou_6               float64\n",
       "roam_ic_mou_7               float64\n",
       "roam_ic_mou_8               float64\n",
       "roam_og_mou_6               float64\n",
       "roam_og_mou_7               float64\n",
       "roam_og_mou_8               float64\n",
       "loc_og_t2t_mou_6            float64\n",
       "loc_og_t2t_mou_7            float64\n",
       "loc_og_t2t_mou_8            float64\n",
       "loc_og_t2m_mou_6            float64\n",
       "loc_og_t2m_mou_7            float64\n",
       "loc_og_t2m_mou_8            float64\n",
       "loc_og_t2f_mou_6            float64\n",
       "loc_og_t2f_mou_7            float64\n",
       "loc_og_t2f_mou_8            float64\n",
       "loc_og_t2c_mou_6            float64\n",
       "loc_og_t2c_mou_7            float64\n",
       "loc_og_t2c_mou_8            float64\n",
       "loc_og_mou_6                float64\n",
       "loc_og_mou_7                float64\n",
       "loc_og_mou_8                float64\n",
       "std_og_t2t_mou_6            float64\n",
       "std_og_t2t_mou_7            float64\n",
       "std_og_t2t_mou_8            float64\n",
       "std_og_t2m_mou_6            float64\n",
       "std_og_t2m_mou_7            float64\n",
       "std_og_t2m_mou_8            float64\n",
       "std_og_t2f_mou_6            float64\n",
       "std_og_t2f_mou_7            float64\n",
       "std_og_t2f_mou_8            float64\n",
       "std_og_t2c_mou_6            float64\n",
       "std_og_t2c_mou_7            float64\n",
       "std_og_t2c_mou_8            float64\n",
       "std_og_mou_6                float64\n",
       "std_og_mou_7                float64\n",
       "std_og_mou_8                float64\n",
       "isd_og_mou_6                float64\n",
       "isd_og_mou_7                float64\n",
       "isd_og_mou_8                float64\n",
       "spl_og_mou_6                float64\n",
       "spl_og_mou_7                float64\n",
       "spl_og_mou_8                float64\n",
       "og_others_6                 float64\n",
       "og_others_7                 float64\n",
       "og_others_8                 float64\n",
       "total_og_mou_6              float64\n",
       "total_og_mou_7              float64\n",
       "total_og_mou_8              float64\n",
       "loc_ic_t2t_mou_6            float64\n",
       "loc_ic_t2t_mou_7            float64\n",
       "loc_ic_t2t_mou_8            float64\n",
       "loc_ic_t2m_mou_6            float64\n",
       "loc_ic_t2m_mou_7            float64\n",
       "loc_ic_t2m_mou_8            float64\n",
       "loc_ic_t2f_mou_6            float64\n",
       "loc_ic_t2f_mou_7            float64\n",
       "loc_ic_t2f_mou_8            float64\n",
       "loc_ic_mou_6                float64\n",
       "loc_ic_mou_7                float64\n",
       "loc_ic_mou_8                float64\n",
       "std_ic_t2t_mou_6            float64\n",
       "std_ic_t2t_mou_7            float64\n",
       "std_ic_t2t_mou_8            float64\n",
       "std_ic_t2m_mou_6            float64\n",
       "std_ic_t2m_mou_7            float64\n",
       "std_ic_t2m_mou_8            float64\n",
       "std_ic_t2f_mou_6            float64\n",
       "std_ic_t2f_mou_7            float64\n",
       "std_ic_t2f_mou_8            float64\n",
       "std_ic_t2o_mou_6            float64\n",
       "std_ic_t2o_mou_7            float64\n",
       "std_ic_t2o_mou_8            float64\n",
       "std_ic_mou_6                float64\n",
       "std_ic_mou_7                float64\n",
       "std_ic_mou_8                float64\n",
       "total_ic_mou_6              float64\n",
       "total_ic_mou_7              float64\n",
       "total_ic_mou_8              float64\n",
       "spl_ic_mou_6                float64\n",
       "spl_ic_mou_7                float64\n",
       "spl_ic_mou_8                float64\n",
       "isd_ic_mou_6                float64\n",
       "isd_ic_mou_7                float64\n",
       "isd_ic_mou_8                float64\n",
       "ic_others_6                 float64\n",
       "ic_others_7                 float64\n",
       "ic_others_8                 float64\n",
       "total_rech_num_6              int64\n",
       "total_rech_num_7              int64\n",
       "total_rech_num_8              int64\n",
       "total_rech_amt_6              int64\n",
       "total_rech_amt_7              int64\n",
       "total_rech_amt_8              int64\n",
       "max_rech_amt_6                int64\n",
       "max_rech_amt_7                int64\n",
       "max_rech_amt_8                int64\n",
       "date_of_last_rech_6          object\n",
       "date_of_last_rech_7          object\n",
       "date_of_last_rech_8          object\n",
       "last_day_rch_amt_6            int64\n",
       "last_day_rch_amt_7            int64\n",
       "last_day_rch_amt_8            int64\n",
       "date_of_last_rech_data_6     object\n",
       "date_of_last_rech_data_7     object\n",
       "date_of_last_rech_data_8     object\n",
       "total_rech_data_6           float64\n",
       "total_rech_data_7           float64\n",
       "total_rech_data_8           float64\n",
       "max_rech_data_6             float64\n",
       "max_rech_data_7             float64\n",
       "max_rech_data_8             float64\n",
       "count_rech_2g_6             float64\n",
       "count_rech_2g_7             float64\n",
       "count_rech_2g_8             float64\n",
       "count_rech_3g_6             float64\n",
       "count_rech_3g_7             float64\n",
       "count_rech_3g_8             float64\n",
       "av_rech_amt_data_6          float64\n",
       "av_rech_amt_data_7          float64\n",
       "av_rech_amt_data_8          float64\n",
       "vol_2g_mb_6                 float64\n",
       "vol_2g_mb_7                 float64\n",
       "vol_2g_mb_8                 float64\n",
       "vol_3g_mb_6                 float64\n",
       "vol_3g_mb_7                 float64\n",
       "vol_3g_mb_8                 float64\n",
       "arpu_3g_6                   float64\n",
       "arpu_3g_7                   float64\n",
       "arpu_3g_8                   float64\n",
       "arpu_2g_6                   float64\n",
       "arpu_2g_7                   float64\n",
       "arpu_2g_8                   float64\n",
       "night_pck_user_6            float64\n",
       "night_pck_user_7            float64\n",
       "night_pck_user_8            float64\n",
       "monthly_2g_6                  int64\n",
       "monthly_2g_7                  int64\n",
       "monthly_2g_8                  int64\n",
       "sachet_2g_6                   int64\n",
       "sachet_2g_7                   int64\n",
       "sachet_2g_8                   int64\n",
       "monthly_3g_6                  int64\n",
       "monthly_3g_7                  int64\n",
       "monthly_3g_8                  int64\n",
       "sachet_3g_6                   int64\n",
       "sachet_3g_7                   int64\n",
       "sachet_3g_8                   int64\n",
       "fb_user_6                   float64\n",
       "fb_user_7                   float64\n",
       "fb_user_8                   float64\n",
       "aon                           int64\n",
       "aug_vbc_3g                  float64\n",
       "jul_vbc_3g                  float64\n",
       "jun_vbc_3g                  float64\n",
       "churn_probability             int64\n",
       "dtype: object"
      ]
     },
     "execution_count": 6,
     "metadata": {},
     "output_type": "execute_result"
    }
   ],
   "source": [
    "pd.set_option('display.max_rows', None)\n",
    "telcom_data.dtypes\n",
    "#pd.set_option('display.max_rows', 30)"
   ]
  },
  {
   "cell_type": "code",
   "execution_count": 7,
   "id": "efffaa20",
   "metadata": {
    "execution": {
     "iopub.execute_input": "2022-10-08T12:53:56.517174Z",
     "iopub.status.busy": "2022-10-08T12:53:56.516317Z",
     "iopub.status.idle": "2022-10-08T12:53:57.056441Z",
     "shell.execute_reply": "2022-10-08T12:53:57.055169Z"
    },
    "papermill": {
     "duration": 0.554774,
     "end_time": "2022-10-08T12:53:57.058961",
     "exception": false,
     "start_time": "2022-10-08T12:53:56.504187",
     "status": "completed"
    },
    "tags": []
   },
   "outputs": [
    {
     "name": "stdout",
     "output_type": "stream",
     "text": [
      "['circle_id', 'loc_og_t2o_mou', 'std_og_t2o_mou', 'loc_ic_t2o_mou', 'last_date_of_month_6', 'last_date_of_month_7', 'last_date_of_month_8', 'std_og_t2c_mou_6', 'std_og_t2c_mou_7', 'std_og_t2c_mou_8', 'std_ic_t2o_mou_6', 'std_ic_t2o_mou_7', 'std_ic_t2o_mou_8']\n"
     ]
    }
   ],
   "source": [
    "# clean the data for safe checks like empty columns and empty rows...\n",
    "def sanity_clean_data(telcom_data):\n",
    "    #columns with all empty values to be removed\n",
    "    telcom_data.dropna(axis=1, how='all', inplace=True)\n",
    "    \n",
    "    #columns with all same values to be removed as they dont provide any insight\n",
    "    cols_nounique = [i for i in telcom_data.columns if telcom_data[i].nunique()==1]\n",
    "    telcom_data.drop(columns=cols_nounique, inplace=True, axis=1)\n",
    "    print(cols_nounique)\n",
    "    \n",
    "    #rows with all NAs to be removed\n",
    "    telcom_data.dropna(axis=0,how='all',inplace=True)\n",
    "    \n",
    "sanity_clean_data(telcom_data)    "
   ]
  },
  {
   "cell_type": "code",
   "execution_count": 8,
   "id": "408839b9",
   "metadata": {
    "execution": {
     "iopub.execute_input": "2022-10-08T12:53:57.083104Z",
     "iopub.status.busy": "2022-10-08T12:53:57.082163Z",
     "iopub.status.idle": "2022-10-08T12:53:57.089028Z",
     "shell.execute_reply": "2022-10-08T12:53:57.087997Z"
    },
    "papermill": {
     "duration": 0.02132,
     "end_time": "2022-10-08T12:53:57.091308",
     "exception": false,
     "start_time": "2022-10-08T12:53:57.069988",
     "status": "completed"
    },
    "tags": []
   },
   "outputs": [
    {
     "data": {
      "text/plain": [
       "(69999, 158)"
      ]
     },
     "execution_count": 8,
     "metadata": {},
     "output_type": "execute_result"
    }
   ],
   "source": [
    "telcom_data.shape"
   ]
  },
  {
   "cell_type": "code",
   "execution_count": 9,
   "id": "0a475b2c",
   "metadata": {
    "execution": {
     "iopub.execute_input": "2022-10-08T12:53:57.115341Z",
     "iopub.status.busy": "2022-10-08T12:53:57.114813Z",
     "iopub.status.idle": "2022-10-08T12:53:57.143813Z",
     "shell.execute_reply": "2022-10-08T12:53:57.142672Z"
    },
    "papermill": {
     "duration": 0.044091,
     "end_time": "2022-10-08T12:53:57.146333",
     "exception": false,
     "start_time": "2022-10-08T12:53:57.102242",
     "status": "completed"
    },
    "tags": []
   },
   "outputs": [
    {
     "data": {
      "text/html": [
       "<div>\n",
       "<style scoped>\n",
       "    .dataframe tbody tr th:only-of-type {\n",
       "        vertical-align: middle;\n",
       "    }\n",
       "\n",
       "    .dataframe tbody tr th {\n",
       "        vertical-align: top;\n",
       "    }\n",
       "\n",
       "    .dataframe thead th {\n",
       "        text-align: right;\n",
       "    }\n",
       "</style>\n",
       "<table border=\"1\" class=\"dataframe\">\n",
       "  <thead>\n",
       "    <tr style=\"text-align: right;\">\n",
       "      <th></th>\n",
       "      <th>arpu_6</th>\n",
       "      <th>arpu_7</th>\n",
       "      <th>arpu_8</th>\n",
       "      <th>onnet_mou_6</th>\n",
       "      <th>onnet_mou_7</th>\n",
       "      <th>onnet_mou_8</th>\n",
       "      <th>offnet_mou_6</th>\n",
       "      <th>offnet_mou_7</th>\n",
       "      <th>offnet_mou_8</th>\n",
       "      <th>roam_ic_mou_6</th>\n",
       "      <th>...</th>\n",
       "      <th>sachet_3g_7</th>\n",
       "      <th>sachet_3g_8</th>\n",
       "      <th>fb_user_6</th>\n",
       "      <th>fb_user_7</th>\n",
       "      <th>fb_user_8</th>\n",
       "      <th>aon</th>\n",
       "      <th>aug_vbc_3g</th>\n",
       "      <th>jul_vbc_3g</th>\n",
       "      <th>jun_vbc_3g</th>\n",
       "      <th>churn_probability</th>\n",
       "    </tr>\n",
       "    <tr>\n",
       "      <th>id</th>\n",
       "      <th></th>\n",
       "      <th></th>\n",
       "      <th></th>\n",
       "      <th></th>\n",
       "      <th></th>\n",
       "      <th></th>\n",
       "      <th></th>\n",
       "      <th></th>\n",
       "      <th></th>\n",
       "      <th></th>\n",
       "      <th></th>\n",
       "      <th></th>\n",
       "      <th></th>\n",
       "      <th></th>\n",
       "      <th></th>\n",
       "      <th></th>\n",
       "      <th></th>\n",
       "      <th></th>\n",
       "      <th></th>\n",
       "      <th></th>\n",
       "      <th></th>\n",
       "    </tr>\n",
       "  </thead>\n",
       "  <tbody>\n",
       "    <tr>\n",
       "      <th>0</th>\n",
       "      <td>31.277</td>\n",
       "      <td>87.009</td>\n",
       "      <td>7.527</td>\n",
       "      <td>48.58</td>\n",
       "      <td>124.38</td>\n",
       "      <td>1.29</td>\n",
       "      <td>32.24</td>\n",
       "      <td>96.68</td>\n",
       "      <td>2.33</td>\n",
       "      <td>0.00</td>\n",
       "      <td>...</td>\n",
       "      <td>0</td>\n",
       "      <td>0</td>\n",
       "      <td>NaN</td>\n",
       "      <td>NaN</td>\n",
       "      <td>NaN</td>\n",
       "      <td>1958</td>\n",
       "      <td>0.0</td>\n",
       "      <td>0.0</td>\n",
       "      <td>0.0</td>\n",
       "      <td>0</td>\n",
       "    </tr>\n",
       "    <tr>\n",
       "      <th>1</th>\n",
       "      <td>0.000</td>\n",
       "      <td>122.787</td>\n",
       "      <td>42.953</td>\n",
       "      <td>0.00</td>\n",
       "      <td>0.00</td>\n",
       "      <td>0.00</td>\n",
       "      <td>0.00</td>\n",
       "      <td>25.99</td>\n",
       "      <td>30.89</td>\n",
       "      <td>0.00</td>\n",
       "      <td>...</td>\n",
       "      <td>0</td>\n",
       "      <td>0</td>\n",
       "      <td>NaN</td>\n",
       "      <td>1.0</td>\n",
       "      <td>NaN</td>\n",
       "      <td>710</td>\n",
       "      <td>0.0</td>\n",
       "      <td>0.0</td>\n",
       "      <td>0.0</td>\n",
       "      <td>0</td>\n",
       "    </tr>\n",
       "    <tr>\n",
       "      <th>2</th>\n",
       "      <td>60.806</td>\n",
       "      <td>103.176</td>\n",
       "      <td>0.000</td>\n",
       "      <td>0.53</td>\n",
       "      <td>15.93</td>\n",
       "      <td>0.00</td>\n",
       "      <td>53.99</td>\n",
       "      <td>82.05</td>\n",
       "      <td>0.00</td>\n",
       "      <td>0.00</td>\n",
       "      <td>...</td>\n",
       "      <td>0</td>\n",
       "      <td>0</td>\n",
       "      <td>NaN</td>\n",
       "      <td>NaN</td>\n",
       "      <td>NaN</td>\n",
       "      <td>882</td>\n",
       "      <td>0.0</td>\n",
       "      <td>0.0</td>\n",
       "      <td>0.0</td>\n",
       "      <td>0</td>\n",
       "    </tr>\n",
       "    <tr>\n",
       "      <th>3</th>\n",
       "      <td>156.362</td>\n",
       "      <td>205.260</td>\n",
       "      <td>111.095</td>\n",
       "      <td>7.26</td>\n",
       "      <td>16.01</td>\n",
       "      <td>0.00</td>\n",
       "      <td>68.76</td>\n",
       "      <td>78.48</td>\n",
       "      <td>50.23</td>\n",
       "      <td>0.00</td>\n",
       "      <td>...</td>\n",
       "      <td>0</td>\n",
       "      <td>0</td>\n",
       "      <td>NaN</td>\n",
       "      <td>NaN</td>\n",
       "      <td>NaN</td>\n",
       "      <td>982</td>\n",
       "      <td>0.0</td>\n",
       "      <td>0.0</td>\n",
       "      <td>0.0</td>\n",
       "      <td>0</td>\n",
       "    </tr>\n",
       "    <tr>\n",
       "      <th>4</th>\n",
       "      <td>240.708</td>\n",
       "      <td>128.191</td>\n",
       "      <td>101.565</td>\n",
       "      <td>21.28</td>\n",
       "      <td>4.83</td>\n",
       "      <td>6.13</td>\n",
       "      <td>56.99</td>\n",
       "      <td>38.11</td>\n",
       "      <td>9.63</td>\n",
       "      <td>53.64</td>\n",
       "      <td>...</td>\n",
       "      <td>1</td>\n",
       "      <td>0</td>\n",
       "      <td>1.0</td>\n",
       "      <td>1.0</td>\n",
       "      <td>1.0</td>\n",
       "      <td>647</td>\n",
       "      <td>0.0</td>\n",
       "      <td>0.0</td>\n",
       "      <td>0.0</td>\n",
       "      <td>0</td>\n",
       "    </tr>\n",
       "  </tbody>\n",
       "</table>\n",
       "<p>5 rows × 158 columns</p>\n",
       "</div>"
      ],
      "text/plain": [
       "     arpu_6   arpu_7   arpu_8  onnet_mou_6  onnet_mou_7  onnet_mou_8  \\\n",
       "id                                                                     \n",
       "0    31.277   87.009    7.527        48.58       124.38         1.29   \n",
       "1     0.000  122.787   42.953         0.00         0.00         0.00   \n",
       "2    60.806  103.176    0.000         0.53        15.93         0.00   \n",
       "3   156.362  205.260  111.095         7.26        16.01         0.00   \n",
       "4   240.708  128.191  101.565        21.28         4.83         6.13   \n",
       "\n",
       "    offnet_mou_6  offnet_mou_7  offnet_mou_8  roam_ic_mou_6  ...  sachet_3g_7  \\\n",
       "id                                                           ...                \n",
       "0          32.24         96.68          2.33           0.00  ...            0   \n",
       "1           0.00         25.99         30.89           0.00  ...            0   \n",
       "2          53.99         82.05          0.00           0.00  ...            0   \n",
       "3          68.76         78.48         50.23           0.00  ...            0   \n",
       "4          56.99         38.11          9.63          53.64  ...            1   \n",
       "\n",
       "    sachet_3g_8  fb_user_6  fb_user_7  fb_user_8   aon  aug_vbc_3g  \\\n",
       "id                                                                   \n",
       "0             0        NaN        NaN        NaN  1958         0.0   \n",
       "1             0        NaN        1.0        NaN   710         0.0   \n",
       "2             0        NaN        NaN        NaN   882         0.0   \n",
       "3             0        NaN        NaN        NaN   982         0.0   \n",
       "4             0        1.0        1.0        1.0   647         0.0   \n",
       "\n",
       "    jul_vbc_3g  jun_vbc_3g  churn_probability  \n",
       "id                                             \n",
       "0          0.0         0.0                  0  \n",
       "1          0.0         0.0                  0  \n",
       "2          0.0         0.0                  0  \n",
       "3          0.0         0.0                  0  \n",
       "4          0.0         0.0                  0  \n",
       "\n",
       "[5 rows x 158 columns]"
      ]
     },
     "execution_count": 9,
     "metadata": {},
     "output_type": "execute_result"
    }
   ],
   "source": [
    "telcom_data.head()"
   ]
  },
  {
   "cell_type": "code",
   "execution_count": 10,
   "id": "ec509f98",
   "metadata": {
    "execution": {
     "iopub.execute_input": "2022-10-08T12:53:57.171463Z",
     "iopub.status.busy": "2022-10-08T12:53:57.170240Z",
     "iopub.status.idle": "2022-10-08T12:53:57.390233Z",
     "shell.execute_reply": "2022-10-08T12:53:57.389093Z"
    },
    "papermill": {
     "duration": 0.235412,
     "end_time": "2022-10-08T12:53:57.393159",
     "exception": false,
     "start_time": "2022-10-08T12:53:57.157747",
     "status": "completed"
    },
    "tags": []
   },
   "outputs": [],
   "source": [
    "telcom_data.dtypes\n",
    "#since the data is only from year 2014, converting it to day of the year.\n",
    "# to keep it extensible for any other years, multiplying it with days in year + day in year\n",
    "def reform_dates(telcom_data):\n",
    "    date_cols = ['date_of_last_rech_6', 'date_of_last_rech_7', 'date_of_last_rech_8', 'date_of_last_rech_data_6', 'date_of_last_rech_data_7', 'date_of_last_rech_data_8']\n",
    "    for col_name in date_cols:\n",
    "        telcom_data[col_name] = pd.to_datetime(telcom_data[col_name]).dt.year*366 + pd.to_datetime(telcom_data[col_name]).dt.dayofyear\n",
    "    return telcom_data\n",
    "telcom_data = reform_dates(telcom_data)\n",
    "#DatetimeIndex(telcom_data['date_of_last_rech_6']).day"
   ]
  },
  {
   "cell_type": "code",
   "execution_count": null,
   "id": "8ca4e93b",
   "metadata": {
    "papermill": {
     "duration": 0.010871,
     "end_time": "2022-10-08T12:53:57.415105",
     "exception": false,
     "start_time": "2022-10-08T12:53:57.404234",
     "status": "completed"
    },
    "tags": []
   },
   "outputs": [],
   "source": []
  },
  {
   "cell_type": "code",
   "execution_count": null,
   "id": "1a6f8294",
   "metadata": {
    "papermill": {
     "duration": 0.010837,
     "end_time": "2022-10-08T12:53:57.436905",
     "exception": false,
     "start_time": "2022-10-08T12:53:57.426068",
     "status": "completed"
    },
    "tags": []
   },
   "outputs": [],
   "source": []
  },
  {
   "cell_type": "code",
   "execution_count": 11,
   "id": "9f4648c2",
   "metadata": {
    "execution": {
     "iopub.execute_input": "2022-10-08T12:53:57.461618Z",
     "iopub.status.busy": "2022-10-08T12:53:57.460499Z",
     "iopub.status.idle": "2022-10-08T12:53:57.479062Z",
     "shell.execute_reply": "2022-10-08T12:53:57.478254Z"
    },
    "papermill": {
     "duration": 0.03327,
     "end_time": "2022-10-08T12:53:57.481262",
     "exception": false,
     "start_time": "2022-10-08T12:53:57.447992",
     "status": "completed"
    },
    "tags": []
   },
   "outputs": [
    {
     "data": {
      "text/plain": [
       "Index(['onnet_mou_6', 'onnet_mou_7', 'onnet_mou_8', 'offnet_mou_6',\n",
       "       'offnet_mou_7', 'offnet_mou_8', 'roam_ic_mou_6', 'roam_ic_mou_7',\n",
       "       'roam_ic_mou_8', 'roam_og_mou_6',\n",
       "       ...\n",
       "       'arpu_3g_8', 'arpu_2g_6', 'arpu_2g_7', 'arpu_2g_8', 'night_pck_user_6',\n",
       "       'night_pck_user_7', 'night_pck_user_8', 'fb_user_6', 'fb_user_7',\n",
       "       'fb_user_8'],\n",
       "      dtype='object', length=114)"
      ]
     },
     "execution_count": 11,
     "metadata": {},
     "output_type": "execute_result"
    }
   ],
   "source": [
    "telcom_data.columns[telcom_data.isna().any()]"
   ]
  },
  {
   "cell_type": "code",
   "execution_count": 12,
   "id": "1da51512",
   "metadata": {
    "execution": {
     "iopub.execute_input": "2022-10-08T12:53:57.505510Z",
     "iopub.status.busy": "2022-10-08T12:53:57.505056Z",
     "iopub.status.idle": "2022-10-08T12:53:57.513107Z",
     "shell.execute_reply": "2022-10-08T12:53:57.512242Z"
    },
    "papermill": {
     "duration": 0.022637,
     "end_time": "2022-10-08T12:53:57.515119",
     "exception": false,
     "start_time": "2022-10-08T12:53:57.492482",
     "status": "completed"
    },
    "tags": []
   },
   "outputs": [
    {
     "data": {
      "text/plain": [
       "array([nan,  1.,  0.])"
      ]
     },
     "execution_count": 12,
     "metadata": {},
     "output_type": "execute_result"
    }
   ],
   "source": [
    "telcom_data['fb_user_6'].unique()"
   ]
  },
  {
   "cell_type": "code",
   "execution_count": 13,
   "id": "50918397",
   "metadata": {
    "execution": {
     "iopub.execute_input": "2022-10-08T12:53:57.539792Z",
     "iopub.status.busy": "2022-10-08T12:53:57.539019Z",
     "iopub.status.idle": "2022-10-08T12:53:57.550599Z",
     "shell.execute_reply": "2022-10-08T12:53:57.549638Z"
    },
    "papermill": {
     "duration": 0.026223,
     "end_time": "2022-10-08T12:53:57.552684",
     "exception": false,
     "start_time": "2022-10-08T12:53:57.526461",
     "status": "completed"
    },
    "tags": []
   },
   "outputs": [
    {
     "data": {
      "text/plain": [
       "arpu_6                      float64\n",
       "arpu_7                      float64\n",
       "arpu_8                      float64\n",
       "onnet_mou_6                 float64\n",
       "onnet_mou_7                 float64\n",
       "onnet_mou_8                 float64\n",
       "offnet_mou_6                float64\n",
       "offnet_mou_7                float64\n",
       "offnet_mou_8                float64\n",
       "roam_ic_mou_6               float64\n",
       "roam_ic_mou_7               float64\n",
       "roam_ic_mou_8               float64\n",
       "roam_og_mou_6               float64\n",
       "roam_og_mou_7               float64\n",
       "roam_og_mou_8               float64\n",
       "loc_og_t2t_mou_6            float64\n",
       "loc_og_t2t_mou_7            float64\n",
       "loc_og_t2t_mou_8            float64\n",
       "loc_og_t2m_mou_6            float64\n",
       "loc_og_t2m_mou_7            float64\n",
       "loc_og_t2m_mou_8            float64\n",
       "loc_og_t2f_mou_6            float64\n",
       "loc_og_t2f_mou_7            float64\n",
       "loc_og_t2f_mou_8            float64\n",
       "loc_og_t2c_mou_6            float64\n",
       "loc_og_t2c_mou_7            float64\n",
       "loc_og_t2c_mou_8            float64\n",
       "loc_og_mou_6                float64\n",
       "loc_og_mou_7                float64\n",
       "loc_og_mou_8                float64\n",
       "std_og_t2t_mou_6            float64\n",
       "std_og_t2t_mou_7            float64\n",
       "std_og_t2t_mou_8            float64\n",
       "std_og_t2m_mou_6            float64\n",
       "std_og_t2m_mou_7            float64\n",
       "std_og_t2m_mou_8            float64\n",
       "std_og_t2f_mou_6            float64\n",
       "std_og_t2f_mou_7            float64\n",
       "std_og_t2f_mou_8            float64\n",
       "std_og_mou_6                float64\n",
       "std_og_mou_7                float64\n",
       "std_og_mou_8                float64\n",
       "isd_og_mou_6                float64\n",
       "isd_og_mou_7                float64\n",
       "isd_og_mou_8                float64\n",
       "spl_og_mou_6                float64\n",
       "spl_og_mou_7                float64\n",
       "spl_og_mou_8                float64\n",
       "og_others_6                 float64\n",
       "og_others_7                 float64\n",
       "og_others_8                 float64\n",
       "total_og_mou_6              float64\n",
       "total_og_mou_7              float64\n",
       "total_og_mou_8              float64\n",
       "loc_ic_t2t_mou_6            float64\n",
       "loc_ic_t2t_mou_7            float64\n",
       "loc_ic_t2t_mou_8            float64\n",
       "loc_ic_t2m_mou_6            float64\n",
       "loc_ic_t2m_mou_7            float64\n",
       "loc_ic_t2m_mou_8            float64\n",
       "loc_ic_t2f_mou_6            float64\n",
       "loc_ic_t2f_mou_7            float64\n",
       "loc_ic_t2f_mou_8            float64\n",
       "loc_ic_mou_6                float64\n",
       "loc_ic_mou_7                float64\n",
       "loc_ic_mou_8                float64\n",
       "std_ic_t2t_mou_6            float64\n",
       "std_ic_t2t_mou_7            float64\n",
       "std_ic_t2t_mou_8            float64\n",
       "std_ic_t2m_mou_6            float64\n",
       "std_ic_t2m_mou_7            float64\n",
       "std_ic_t2m_mou_8            float64\n",
       "std_ic_t2f_mou_6            float64\n",
       "std_ic_t2f_mou_7            float64\n",
       "std_ic_t2f_mou_8            float64\n",
       "std_ic_mou_6                float64\n",
       "std_ic_mou_7                float64\n",
       "std_ic_mou_8                float64\n",
       "total_ic_mou_6              float64\n",
       "total_ic_mou_7              float64\n",
       "total_ic_mou_8              float64\n",
       "spl_ic_mou_6                float64\n",
       "spl_ic_mou_7                float64\n",
       "spl_ic_mou_8                float64\n",
       "isd_ic_mou_6                float64\n",
       "isd_ic_mou_7                float64\n",
       "isd_ic_mou_8                float64\n",
       "ic_others_6                 float64\n",
       "ic_others_7                 float64\n",
       "ic_others_8                 float64\n",
       "total_rech_num_6              int64\n",
       "total_rech_num_7              int64\n",
       "total_rech_num_8              int64\n",
       "total_rech_amt_6              int64\n",
       "total_rech_amt_7              int64\n",
       "total_rech_amt_8              int64\n",
       "max_rech_amt_6                int64\n",
       "max_rech_amt_7                int64\n",
       "max_rech_amt_8                int64\n",
       "date_of_last_rech_6         float64\n",
       "date_of_last_rech_7         float64\n",
       "date_of_last_rech_8         float64\n",
       "last_day_rch_amt_6            int64\n",
       "last_day_rch_amt_7            int64\n",
       "last_day_rch_amt_8            int64\n",
       "date_of_last_rech_data_6    float64\n",
       "date_of_last_rech_data_7    float64\n",
       "date_of_last_rech_data_8    float64\n",
       "total_rech_data_6           float64\n",
       "total_rech_data_7           float64\n",
       "total_rech_data_8           float64\n",
       "max_rech_data_6             float64\n",
       "max_rech_data_7             float64\n",
       "max_rech_data_8             float64\n",
       "count_rech_2g_6             float64\n",
       "count_rech_2g_7             float64\n",
       "count_rech_2g_8             float64\n",
       "count_rech_3g_6             float64\n",
       "count_rech_3g_7             float64\n",
       "count_rech_3g_8             float64\n",
       "av_rech_amt_data_6          float64\n",
       "av_rech_amt_data_7          float64\n",
       "av_rech_amt_data_8          float64\n",
       "vol_2g_mb_6                 float64\n",
       "vol_2g_mb_7                 float64\n",
       "vol_2g_mb_8                 float64\n",
       "vol_3g_mb_6                 float64\n",
       "vol_3g_mb_7                 float64\n",
       "vol_3g_mb_8                 float64\n",
       "arpu_3g_6                   float64\n",
       "arpu_3g_7                   float64\n",
       "arpu_3g_8                   float64\n",
       "arpu_2g_6                   float64\n",
       "arpu_2g_7                   float64\n",
       "arpu_2g_8                   float64\n",
       "night_pck_user_6            float64\n",
       "night_pck_user_7            float64\n",
       "night_pck_user_8            float64\n",
       "monthly_2g_6                  int64\n",
       "monthly_2g_7                  int64\n",
       "monthly_2g_8                  int64\n",
       "sachet_2g_6                   int64\n",
       "sachet_2g_7                   int64\n",
       "sachet_2g_8                   int64\n",
       "monthly_3g_6                  int64\n",
       "monthly_3g_7                  int64\n",
       "monthly_3g_8                  int64\n",
       "sachet_3g_6                   int64\n",
       "sachet_3g_7                   int64\n",
       "sachet_3g_8                   int64\n",
       "fb_user_6                   float64\n",
       "fb_user_7                   float64\n",
       "fb_user_8                   float64\n",
       "aon                           int64\n",
       "aug_vbc_3g                  float64\n",
       "jul_vbc_3g                  float64\n",
       "jun_vbc_3g                  float64\n",
       "churn_probability             int64\n",
       "dtype: object"
      ]
     },
     "execution_count": 13,
     "metadata": {},
     "output_type": "execute_result"
    }
   ],
   "source": [
    "pd.set_option('display.max_rows', None)\n",
    "telcom_data.dtypes"
   ]
  },
  {
   "cell_type": "code",
   "execution_count": 14,
   "id": "66b80001",
   "metadata": {
    "execution": {
     "iopub.execute_input": "2022-10-08T12:53:57.578093Z",
     "iopub.status.busy": "2022-10-08T12:53:57.577334Z",
     "iopub.status.idle": "2022-10-08T12:53:57.581809Z",
     "shell.execute_reply": "2022-10-08T12:53:57.580982Z"
    },
    "papermill": {
     "duration": 0.019481,
     "end_time": "2022-10-08T12:53:57.583773",
     "exception": false,
     "start_time": "2022-10-08T12:53:57.564292",
     "status": "completed"
    },
    "tags": []
   },
   "outputs": [],
   "source": [
    "# aug_vbc_3g, jul_vbc_3g, jun_vbc_3g are not following same naming standard, let's rename these columns\n",
    "#telcom_data.rename(columns = {'aug_vbc_3g':'vbc_3g_8', 'jul_vbc_3g': 'vbc_3g_7', 'jun_vbc_3g': 'vbc_3g_6' }, inplace = True)"
   ]
  },
  {
   "cell_type": "code",
   "execution_count": 15,
   "id": "3c4a230b",
   "metadata": {
    "execution": {
     "iopub.execute_input": "2022-10-08T12:53:57.608764Z",
     "iopub.status.busy": "2022-10-08T12:53:57.607710Z",
     "iopub.status.idle": "2022-10-08T12:53:57.615608Z",
     "shell.execute_reply": "2022-10-08T12:53:57.614788Z"
    },
    "papermill": {
     "duration": 0.022542,
     "end_time": "2022-10-08T12:53:57.617720",
     "exception": false,
     "start_time": "2022-10-08T12:53:57.595178",
     "status": "completed"
    },
    "tags": []
   },
   "outputs": [
    {
     "data": {
      "text/plain": [
       "['date_of_last_rech_6',\n",
       " 'date_of_last_rech_data_6',\n",
       " 'night_pck_user_6',\n",
       " 'date_of_last_rech_7',\n",
       " 'date_of_last_rech_data_7',\n",
       " 'night_pck_user_7',\n",
       " 'date_of_last_rech_8',\n",
       " 'date_of_last_rech_data_8',\n",
       " 'night_pck_user_8']"
      ]
     },
     "execution_count": 15,
     "metadata": {},
     "output_type": "execute_result"
    }
   ],
   "source": [
    "#Lets look at the data dictionary and classify numeric vs categorical columns\n",
    "cat_col_prefix = ['date_of_last_rech_','date_of_last_rech_data_','night_pck_user_']\n",
    "cat_cols = []\n",
    "for i in range(6,9):\n",
    "    for prefix in cat_col_prefix:\n",
    "        cat_cols.append(prefix+str(i));\n",
    "cat_cols"
   ]
  },
  {
   "cell_type": "code",
   "execution_count": 16,
   "id": "7e3b5708",
   "metadata": {
    "execution": {
     "iopub.execute_input": "2022-10-08T12:53:57.643028Z",
     "iopub.status.busy": "2022-10-08T12:53:57.642594Z",
     "iopub.status.idle": "2022-10-08T12:53:57.648133Z",
     "shell.execute_reply": "2022-10-08T12:53:57.647077Z"
    },
    "papermill": {
     "duration": 0.020817,
     "end_time": "2022-10-08T12:53:57.650253",
     "exception": false,
     "start_time": "2022-10-08T12:53:57.629436",
     "status": "completed"
    },
    "tags": []
   },
   "outputs": [],
   "source": [
    "num_cols = [i for i in telcom_data.columns if i not in cat_cols]"
   ]
  },
  {
   "cell_type": "code",
   "execution_count": 17,
   "id": "f62b9a06",
   "metadata": {
    "execution": {
     "iopub.execute_input": "2022-10-08T12:53:57.675148Z",
     "iopub.status.busy": "2022-10-08T12:53:57.674752Z",
     "iopub.status.idle": "2022-10-08T12:53:57.863739Z",
     "shell.execute_reply": "2022-10-08T12:53:57.862359Z"
    },
    "papermill": {
     "duration": 0.204331,
     "end_time": "2022-10-08T12:53:57.866181",
     "exception": false,
     "start_time": "2022-10-08T12:53:57.661850",
     "status": "completed"
    },
    "tags": []
   },
   "outputs": [],
   "source": [
    "#Missing values imputation:\n",
    "# impute all numeric cols with median and categorical ones with mode\n",
    "#for col in num_cols:\n",
    "#    telcom_data[col].fillna(telcom_data[col].median(), inplace=True)\n",
    "def impute_missing_values(data):\n",
    "    #impute non applicable data with zeros\n",
    "    data[num_cols] = data.filter(num_cols).fillna(0)#data.median(numeric_only=True).iloc[0])\n",
    "    data[cat_cols] = data.filter(cat_cols).fillna(0)#data.mode().iloc[0])\n",
    "    return data;\n",
    "telcom_data = impute_missing_values(telcom_data)"
   ]
  },
  {
   "cell_type": "code",
   "execution_count": 18,
   "id": "f343366f",
   "metadata": {
    "execution": {
     "iopub.execute_input": "2022-10-08T12:53:57.891850Z",
     "iopub.status.busy": "2022-10-08T12:53:57.891445Z",
     "iopub.status.idle": "2022-10-08T12:53:57.919412Z",
     "shell.execute_reply": "2022-10-08T12:53:57.918323Z"
    },
    "papermill": {
     "duration": 0.043765,
     "end_time": "2022-10-08T12:53:57.921694",
     "exception": false,
     "start_time": "2022-10-08T12:53:57.877929",
     "status": "completed"
    },
    "tags": []
   },
   "outputs": [
    {
     "data": {
      "text/plain": [
       "Index([], dtype='object')"
      ]
     },
     "execution_count": 18,
     "metadata": {},
     "output_type": "execute_result"
    }
   ],
   "source": [
    "telcom_data.columns[telcom_data.isna().sum()>0]"
   ]
  },
  {
   "cell_type": "code",
   "execution_count": 19,
   "id": "ab0b4a7f",
   "metadata": {
    "execution": {
     "iopub.execute_input": "2022-10-08T12:53:57.947610Z",
     "iopub.status.busy": "2022-10-08T12:53:57.947197Z",
     "iopub.status.idle": "2022-10-08T12:53:57.952715Z",
     "shell.execute_reply": "2022-10-08T12:53:57.951947Z"
    },
    "papermill": {
     "duration": 0.021106,
     "end_time": "2022-10-08T12:53:57.954656",
     "exception": false,
     "start_time": "2022-10-08T12:53:57.933550",
     "status": "completed"
    },
    "tags": []
   },
   "outputs": [
    {
     "data": {
      "text/plain": [
       "(69999, 158)"
      ]
     },
     "execution_count": 19,
     "metadata": {},
     "output_type": "execute_result"
    }
   ],
   "source": [
    "#telcom_data['night_pck_user_6']#, 'night_pck_user_7', 'night_pck_user_8']\n",
    "telcom_data.shape"
   ]
  },
  {
   "cell_type": "code",
   "execution_count": 20,
   "id": "1972eb91",
   "metadata": {
    "execution": {
     "iopub.execute_input": "2022-10-08T12:53:57.980868Z",
     "iopub.status.busy": "2022-10-08T12:53:57.980063Z",
     "iopub.status.idle": "2022-10-08T12:53:58.011726Z",
     "shell.execute_reply": "2022-10-08T12:53:58.010531Z"
    },
    "papermill": {
     "duration": 0.047407,
     "end_time": "2022-10-08T12:53:58.014118",
     "exception": false,
     "start_time": "2022-10-08T12:53:57.966711",
     "status": "completed"
    },
    "tags": []
   },
   "outputs": [],
   "source": [
    "X = telcom_data.iloc[:,0:157]\n",
    "y = telcom_data['churn_probability']"
   ]
  },
  {
   "cell_type": "code",
   "execution_count": 21,
   "id": "062fc00c",
   "metadata": {
    "execution": {
     "iopub.execute_input": "2022-10-08T12:53:58.041514Z",
     "iopub.status.busy": "2022-10-08T12:53:58.041050Z",
     "iopub.status.idle": "2022-10-08T12:53:59.166642Z",
     "shell.execute_reply": "2022-10-08T12:53:59.165416Z"
    },
    "papermill": {
     "duration": 1.141684,
     "end_time": "2022-10-08T12:53:59.169298",
     "exception": false,
     "start_time": "2022-10-08T12:53:58.027614",
     "status": "completed"
    },
    "tags": []
   },
   "outputs": [],
   "source": [
    "from sklearn.preprocessing import StandardScaler\n",
    "x_std = StandardScaler().fit_transform(X)\n"
   ]
  },
  {
   "cell_type": "code",
   "execution_count": 22,
   "id": "9e676571",
   "metadata": {
    "execution": {
     "iopub.execute_input": "2022-10-08T12:53:59.195559Z",
     "iopub.status.busy": "2022-10-08T12:53:59.194490Z",
     "iopub.status.idle": "2022-10-08T12:54:01.199553Z",
     "shell.execute_reply": "2022-10-08T12:54:01.198348Z"
    },
    "papermill": {
     "duration": 2.021169,
     "end_time": "2022-10-08T12:54:01.202523",
     "exception": false,
     "start_time": "2022-10-08T12:53:59.181354",
     "status": "completed"
    },
    "tags": []
   },
   "outputs": [
    {
     "data": {
      "text/plain": [
       "(69999, 16)"
      ]
     },
     "execution_count": 22,
     "metadata": {},
     "output_type": "execute_result"
    }
   ],
   "source": [
    "from sklearn.decomposition import IncrementalPCA\n",
    "pca = IncrementalPCA(n_components=16)\n",
    "X_train_pca = pca.fit_transform(x_std)\n",
    "X_train_pca.shape"
   ]
  },
  {
   "cell_type": "code",
   "execution_count": 23,
   "id": "85b232cb",
   "metadata": {
    "execution": {
     "iopub.execute_input": "2022-10-08T12:54:01.243111Z",
     "iopub.status.busy": "2022-10-08T12:54:01.242551Z",
     "iopub.status.idle": "2022-10-08T12:54:01.307125Z",
     "shell.execute_reply": "2022-10-08T12:54:01.305850Z"
    },
    "papermill": {
     "duration": 0.089318,
     "end_time": "2022-10-08T12:54:01.311106",
     "exception": false,
     "start_time": "2022-10-08T12:54:01.221788",
     "status": "completed"
    },
    "tags": []
   },
   "outputs": [],
   "source": [
    "from sklearn.tree import DecisionTreeClassifier\n",
    "dt_base = DecisionTreeClassifier(random_state=42, max_depth=4)"
   ]
  },
  {
   "cell_type": "code",
   "execution_count": 24,
   "id": "919b8567",
   "metadata": {
    "execution": {
     "iopub.execute_input": "2022-10-08T12:54:01.338519Z",
     "iopub.status.busy": "2022-10-08T12:54:01.338115Z",
     "iopub.status.idle": "2022-10-08T12:54:03.814806Z",
     "shell.execute_reply": "2022-10-08T12:54:03.813532Z"
    },
    "papermill": {
     "duration": 2.492586,
     "end_time": "2022-10-08T12:54:03.817253",
     "exception": false,
     "start_time": "2022-10-08T12:54:01.324667",
     "status": "completed"
    },
    "tags": []
   },
   "outputs": [
    {
     "data": {
      "text/plain": [
       "DecisionTreeClassifier(max_depth=4, random_state=42)"
      ]
     },
     "execution_count": 24,
     "metadata": {},
     "output_type": "execute_result"
    }
   ],
   "source": [
    "dt_base.fit(X, y)"
   ]
  },
  {
   "cell_type": "code",
   "execution_count": 25,
   "id": "62edb9bc",
   "metadata": {
    "execution": {
     "iopub.execute_input": "2022-10-08T12:54:03.843906Z",
     "iopub.status.busy": "2022-10-08T12:54:03.843132Z",
     "iopub.status.idle": "2022-10-08T12:54:03.909505Z",
     "shell.execute_reply": "2022-10-08T12:54:03.908440Z"
    },
    "papermill": {
     "duration": 0.082398,
     "end_time": "2022-10-08T12:54:03.912146",
     "exception": false,
     "start_time": "2022-10-08T12:54:03.829748",
     "status": "completed"
    },
    "tags": []
   },
   "outputs": [],
   "source": [
    "y_train_pred = dt_base.predict(X)"
   ]
  },
  {
   "cell_type": "code",
   "execution_count": 26,
   "id": "81f76f83",
   "metadata": {
    "execution": {
     "iopub.execute_input": "2022-10-08T12:54:03.938658Z",
     "iopub.status.busy": "2022-10-08T12:54:03.937892Z",
     "iopub.status.idle": "2022-10-08T12:54:03.966228Z",
     "shell.execute_reply": "2022-10-08T12:54:03.965072Z"
    },
    "papermill": {
     "duration": 0.044394,
     "end_time": "2022-10-08T12:54:03.968953",
     "exception": false,
     "start_time": "2022-10-08T12:54:03.924559",
     "status": "completed"
    },
    "tags": []
   },
   "outputs": [
    {
     "name": "stdout",
     "output_type": "stream",
     "text": [
      "0.9418848840697724\n"
     ]
    },
    {
     "data": {
      "text/plain": [
       "array([[61608,  1259],\n",
       "       [ 2809,  4323]])"
      ]
     },
     "execution_count": 26,
     "metadata": {},
     "output_type": "execute_result"
    }
   ],
   "source": [
    "from sklearn.metrics import confusion_matrix, accuracy_score\n",
    "print(accuracy_score(y, y_train_pred))\n",
    "confusion_matrix(y, y_train_pred)"
   ]
  },
  {
   "cell_type": "markdown",
   "id": "ff686b53",
   "metadata": {
    "papermill": {
     "duration": 0.012281,
     "end_time": "2022-10-08T12:54:03.993858",
     "exception": false,
     "start_time": "2022-10-08T12:54:03.981577",
     "status": "completed"
    },
    "tags": []
   },
   "source": [
    "## "
   ]
  },
  {
   "cell_type": "code",
   "execution_count": 27,
   "id": "5daf6274",
   "metadata": {
    "execution": {
     "iopub.execute_input": "2022-10-08T12:54:04.019958Z",
     "iopub.status.busy": "2022-10-08T12:54:04.019529Z",
     "iopub.status.idle": "2022-10-08T12:54:05.079525Z",
     "shell.execute_reply": "2022-10-08T12:54:05.078334Z"
    },
    "papermill": {
     "duration": 1.076253,
     "end_time": "2022-10-08T12:54:05.082406",
     "exception": false,
     "start_time": "2022-10-08T12:54:04.006153",
     "status": "completed"
    },
    "tags": []
   },
   "outputs": [],
   "source": [
    "test_data = pd.read_csv('/kaggle/input/telecom-churn-case-study-hackathon-c40/test.csv');\n",
    "#test_data.set_index('id', inplace=True)\n",
    "test_data = reform_dates(test_data)\n",
    "test_data['churn_probability'] = 0\n",
    "test_data = impute_missing_values(test_data)\n",
    "y_test = test_data.pop('churn_probability')"
   ]
  },
  {
   "cell_type": "code",
   "execution_count": 28,
   "id": "8fccace1",
   "metadata": {
    "execution": {
     "iopub.execute_input": "2022-10-08T12:54:05.109336Z",
     "iopub.status.busy": "2022-10-08T12:54:05.108929Z",
     "iopub.status.idle": "2022-10-08T12:54:05.145135Z",
     "shell.execute_reply": "2022-10-08T12:54:05.143999Z"
    },
    "papermill": {
     "duration": 0.052793,
     "end_time": "2022-10-08T12:54:05.147596",
     "exception": false,
     "start_time": "2022-10-08T12:54:05.094803",
     "status": "completed"
    },
    "tags": []
   },
   "outputs": [],
   "source": [
    "X_test = test_data[X.columns]"
   ]
  },
  {
   "cell_type": "code",
   "execution_count": 29,
   "id": "1357dd8f",
   "metadata": {
    "execution": {
     "iopub.execute_input": "2022-10-08T12:54:05.174201Z",
     "iopub.status.busy": "2022-10-08T12:54:05.173776Z",
     "iopub.status.idle": "2022-10-08T12:54:05.205165Z",
     "shell.execute_reply": "2022-10-08T12:54:05.203950Z"
    },
    "papermill": {
     "duration": 0.047559,
     "end_time": "2022-10-08T12:54:05.207650",
     "exception": false,
     "start_time": "2022-10-08T12:54:05.160091",
     "status": "completed"
    },
    "tags": []
   },
   "outputs": [],
   "source": [
    "test_data['churn_probability'] = dt_base.predict(X_test)"
   ]
  },
  {
   "cell_type": "code",
   "execution_count": 30,
   "id": "93432957",
   "metadata": {
    "execution": {
     "iopub.execute_input": "2022-10-08T12:54:05.233843Z",
     "iopub.status.busy": "2022-10-08T12:54:05.233427Z",
     "iopub.status.idle": "2022-10-08T12:54:05.242471Z",
     "shell.execute_reply": "2022-10-08T12:54:05.241277Z"
    },
    "papermill": {
     "duration": 0.024895,
     "end_time": "2022-10-08T12:54:05.244859",
     "exception": false,
     "start_time": "2022-10-08T12:54:05.219964",
     "status": "completed"
    },
    "tags": []
   },
   "outputs": [],
   "source": [
    "solution = test_data[['id', 'churn_probability']]"
   ]
  },
  {
   "cell_type": "code",
   "execution_count": 31,
   "id": "6ba15865",
   "metadata": {
    "execution": {
     "iopub.execute_input": "2022-10-08T12:54:05.271399Z",
     "iopub.status.busy": "2022-10-08T12:54:05.270966Z",
     "iopub.status.idle": "2022-10-08T12:54:05.276908Z",
     "shell.execute_reply": "2022-10-08T12:54:05.275774Z"
    },
    "papermill": {
     "duration": 0.021454,
     "end_time": "2022-10-08T12:54:05.278941",
     "exception": false,
     "start_time": "2022-10-08T12:54:05.257487",
     "status": "completed"
    },
    "tags": []
   },
   "outputs": [],
   "source": [
    "solution.set_index('id', inplace=True)"
   ]
  },
  {
   "cell_type": "code",
   "execution_count": 32,
   "id": "8aab7670",
   "metadata": {
    "execution": {
     "iopub.execute_input": "2022-10-08T12:54:05.305644Z",
     "iopub.status.busy": "2022-10-08T12:54:05.305104Z",
     "iopub.status.idle": "2022-10-08T12:54:05.315286Z",
     "shell.execute_reply": "2022-10-08T12:54:05.314170Z"
    },
    "papermill": {
     "duration": 0.026227,
     "end_time": "2022-10-08T12:54:05.317508",
     "exception": false,
     "start_time": "2022-10-08T12:54:05.291281",
     "status": "completed"
    },
    "tags": []
   },
   "outputs": [
    {
     "data": {
      "text/html": [
       "<div>\n",
       "<style scoped>\n",
       "    .dataframe tbody tr th:only-of-type {\n",
       "        vertical-align: middle;\n",
       "    }\n",
       "\n",
       "    .dataframe tbody tr th {\n",
       "        vertical-align: top;\n",
       "    }\n",
       "\n",
       "    .dataframe thead th {\n",
       "        text-align: right;\n",
       "    }\n",
       "</style>\n",
       "<table border=\"1\" class=\"dataframe\">\n",
       "  <thead>\n",
       "    <tr style=\"text-align: right;\">\n",
       "      <th></th>\n",
       "      <th>churn_probability</th>\n",
       "    </tr>\n",
       "    <tr>\n",
       "      <th>id</th>\n",
       "      <th></th>\n",
       "    </tr>\n",
       "  </thead>\n",
       "  <tbody>\n",
       "    <tr>\n",
       "      <th>69999</th>\n",
       "      <td>0</td>\n",
       "    </tr>\n",
       "    <tr>\n",
       "      <th>70000</th>\n",
       "      <td>0</td>\n",
       "    </tr>\n",
       "    <tr>\n",
       "      <th>70001</th>\n",
       "      <td>1</td>\n",
       "    </tr>\n",
       "    <tr>\n",
       "      <th>70002</th>\n",
       "      <td>0</td>\n",
       "    </tr>\n",
       "    <tr>\n",
       "      <th>70003</th>\n",
       "      <td>0</td>\n",
       "    </tr>\n",
       "  </tbody>\n",
       "</table>\n",
       "</div>"
      ],
      "text/plain": [
       "       churn_probability\n",
       "id                      \n",
       "69999                  0\n",
       "70000                  0\n",
       "70001                  1\n",
       "70002                  0\n",
       "70003                  0"
      ]
     },
     "execution_count": 32,
     "metadata": {},
     "output_type": "execute_result"
    }
   ],
   "source": [
    "solution.head()"
   ]
  },
  {
   "cell_type": "code",
   "execution_count": 33,
   "id": "8bb895ba",
   "metadata": {
    "execution": {
     "iopub.execute_input": "2022-10-08T12:54:05.344460Z",
     "iopub.status.busy": "2022-10-08T12:54:05.343734Z",
     "iopub.status.idle": "2022-10-08T12:54:05.384798Z",
     "shell.execute_reply": "2022-10-08T12:54:05.383768Z"
    },
    "papermill": {
     "duration": 0.057454,
     "end_time": "2022-10-08T12:54:05.387426",
     "exception": false,
     "start_time": "2022-10-08T12:54:05.329972",
     "status": "completed"
    },
    "tags": []
   },
   "outputs": [],
   "source": [
    "solution.to_csv('solution.csv', header=True, index=True)"
   ]
  },
  {
   "cell_type": "code",
   "execution_count": 34,
   "id": "d3a0fc28",
   "metadata": {
    "execution": {
     "iopub.execute_input": "2022-10-08T12:54:05.414681Z",
     "iopub.status.busy": "2022-10-08T12:54:05.414252Z",
     "iopub.status.idle": "2022-10-08T12:54:05.418827Z",
     "shell.execute_reply": "2022-10-08T12:54:05.417549Z"
    },
    "papermill": {
     "duration": 0.020938,
     "end_time": "2022-10-08T12:54:05.421048",
     "exception": false,
     "start_time": "2022-10-08T12:54:05.400110",
     "status": "completed"
    },
    "tags": []
   },
   "outputs": [],
   "source": [
    "## Use Random forest classifier"
   ]
  },
  {
   "cell_type": "markdown",
   "id": "ad165aa7",
   "metadata": {
    "papermill": {
     "duration": 0.012181,
     "end_time": "2022-10-08T12:54:05.446117",
     "exception": false,
     "start_time": "2022-10-08T12:54:05.433936",
     "status": "completed"
    },
    "tags": []
   },
   "source": [
    "## .\n"
   ]
  },
  {
   "cell_type": "code",
   "execution_count": 35,
   "id": "73789229",
   "metadata": {
    "execution": {
     "iopub.execute_input": "2022-10-08T12:54:05.473715Z",
     "iopub.status.busy": "2022-10-08T12:54:05.473015Z",
     "iopub.status.idle": "2022-10-08T12:54:05.477888Z",
     "shell.execute_reply": "2022-10-08T12:54:05.476767Z"
    },
    "papermill": {
     "duration": 0.021674,
     "end_time": "2022-10-08T12:54:05.480280",
     "exception": false,
     "start_time": "2022-10-08T12:54:05.458606",
     "status": "completed"
    },
    "tags": []
   },
   "outputs": [],
   "source": [
    "from sklearn.metrics import precision_score, make_scorer\n",
    "custom_scorer = make_scorer(precision_score, greater_is_better=True,  pos_label=0)"
   ]
  },
  {
   "cell_type": "code",
   "execution_count": 36,
   "id": "39f5a77f",
   "metadata": {
    "execution": {
     "iopub.execute_input": "2022-10-08T12:54:05.507547Z",
     "iopub.status.busy": "2022-10-08T12:54:05.507070Z",
     "iopub.status.idle": "2022-10-08T12:54:05.572005Z",
     "shell.execute_reply": "2022-10-08T12:54:05.570823Z"
    },
    "papermill": {
     "duration": 0.081887,
     "end_time": "2022-10-08T12:54:05.574761",
     "exception": false,
     "start_time": "2022-10-08T12:54:05.492874",
     "status": "completed"
    },
    "tags": []
   },
   "outputs": [],
   "source": [
    "from sklearn.ensemble import RandomForestClassifier\n",
    "from sklearn.model_selection import GridSearchCV\n",
    "classifier_rf = RandomForestClassifier(random_state=42, n_jobs=-1)\n",
    "# Create the parameter grid based on the results of random search \n",
    "params = {\n",
    "    'max_depth': [2, 5, 10],\n",
    "    'min_samples_leaf': [5, 10, 20, 50, 100],\n",
    "    'max_features': [2,5, 10],\n",
    "    'n_estimators': [2,5,10]\n",
    "}\n",
    "# Instantiate the grid search model\n",
    "grid_search = GridSearchCV(estimator=classifier_rf, param_grid=params, \n",
    "                          cv=4, n_jobs=-1, verbose=2, scoring = custom_scorer)"
   ]
  },
  {
   "cell_type": "code",
   "execution_count": null,
   "id": "99486494",
   "metadata": {
    "execution": {
     "iopub.execute_input": "2022-10-08T12:34:26.327393Z",
     "iopub.status.busy": "2022-10-08T12:34:26.326546Z",
     "iopub.status.idle": "2022-10-08T12:34:26.334586Z",
     "shell.execute_reply": "2022-10-08T12:34:26.333209Z",
     "shell.execute_reply.started": "2022-10-08T12:34:26.327336Z"
    },
    "papermill": {
     "duration": 0.012246,
     "end_time": "2022-10-08T12:54:05.599567",
     "exception": false,
     "start_time": "2022-10-08T12:54:05.587321",
     "status": "completed"
    },
    "tags": []
   },
   "outputs": [],
   "source": []
  },
  {
   "cell_type": "code",
   "execution_count": 37,
   "id": "5f2e484b",
   "metadata": {
    "execution": {
     "iopub.execute_input": "2022-10-08T12:54:05.626556Z",
     "iopub.status.busy": "2022-10-08T12:54:05.626091Z",
     "iopub.status.idle": "2022-10-08T12:57:32.616565Z",
     "shell.execute_reply": "2022-10-08T12:57:32.615319Z"
    },
    "papermill": {
     "duration": 207.020199,
     "end_time": "2022-10-08T12:57:32.632321",
     "exception": false,
     "start_time": "2022-10-08T12:54:05.612122",
     "status": "completed"
    },
    "tags": []
   },
   "outputs": [
    {
     "name": "stdout",
     "output_type": "stream",
     "text": [
      "Fitting 4 folds for each of 135 candidates, totalling 540 fits\n",
      "[CV] END max_depth=2, max_features=2, min_samples_leaf=5, n_estimators=2; total time=   0.3s\n",
      "[CV] END max_depth=2, max_features=2, min_samples_leaf=5, n_estimators=5; total time=   0.3s\n",
      "[CV] END max_depth=2, max_features=2, min_samples_leaf=5, n_estimators=10; total time=   0.6s\n",
      "[CV] END max_depth=2, max_features=2, min_samples_leaf=10, n_estimators=2; total time=   0.2s\n",
      "[CV] END max_depth=2, max_features=2, min_samples_leaf=10, n_estimators=5; total time=   0.4s\n",
      "[CV] END max_depth=2, max_features=2, min_samples_leaf=10, n_estimators=10; total time=   0.5s\n",
      "[CV] END max_depth=2, max_features=2, min_samples_leaf=20, n_estimators=2; total time=   0.2s\n",
      "[CV] END max_depth=2, max_features=2, min_samples_leaf=20, n_estimators=2; total time=   0.2s\n",
      "[CV] END max_depth=2, max_features=2, min_samples_leaf=20, n_estimators=5; total time=   0.4s\n",
      "[CV] END max_depth=2, max_features=2, min_samples_leaf=20, n_estimators=10; total time=   0.4s\n",
      "[CV] END max_depth=2, max_features=2, min_samples_leaf=50, n_estimators=5; total time=   0.4s\n",
      "[CV] END max_depth=2, max_features=2, min_samples_leaf=50, n_estimators=10; total time=   0.5s\n",
      "[CV] END max_depth=2, max_features=2, min_samples_leaf=100, n_estimators=2; total time=   0.2s\n",
      "[CV] END max_depth=2, max_features=2, min_samples_leaf=100, n_estimators=5; total time=   0.3s\n",
      "[CV] END max_depth=2, max_features=2, min_samples_leaf=100, n_estimators=10; total time=   0.5s\n",
      "[CV] END max_depth=2, max_features=5, min_samples_leaf=5, n_estimators=2; total time=   0.4s\n",
      "[CV] END max_depth=2, max_features=5, min_samples_leaf=5, n_estimators=5; total time=   0.6s\n",
      "[CV] END max_depth=2, max_features=5, min_samples_leaf=5, n_estimators=10; total time=   1.1s\n",
      "[CV] END max_depth=2, max_features=5, min_samples_leaf=10, n_estimators=2; total time=   0.2s\n",
      "[CV] END max_depth=2, max_features=5, min_samples_leaf=10, n_estimators=5; total time=   0.5s\n",
      "[CV] END max_depth=2, max_features=5, min_samples_leaf=10, n_estimators=10; total time=   1.0s\n",
      "[CV] END max_depth=2, max_features=5, min_samples_leaf=20, n_estimators=2; total time=   0.2s\n",
      "[CV] END max_depth=2, max_features=5, min_samples_leaf=20, n_estimators=5; total time=   0.5s\n",
      "[CV] END max_depth=2, max_features=5, min_samples_leaf=20, n_estimators=10; total time=   1.1s\n",
      "[CV] END max_depth=2, max_features=5, min_samples_leaf=50, n_estimators=2; total time=   0.2s\n",
      "[CV] END max_depth=2, max_features=5, min_samples_leaf=50, n_estimators=5; total time=   0.5s\n",
      "[CV] END max_depth=2, max_features=5, min_samples_leaf=50, n_estimators=10; total time=   0.9s\n",
      "[CV] END max_depth=2, max_features=5, min_samples_leaf=100, n_estimators=2; total time=   0.4s\n",
      "[CV] END max_depth=2, max_features=5, min_samples_leaf=100, n_estimators=5; total time=   0.5s\n",
      "[CV] END max_depth=2, max_features=5, min_samples_leaf=100, n_estimators=10; total time=   1.1s\n",
      "[CV] END max_depth=2, max_features=10, min_samples_leaf=5, n_estimators=2; total time=   0.4s\n",
      "[CV] END max_depth=2, max_features=10, min_samples_leaf=5, n_estimators=5; total time=   1.0s\n",
      "[CV] END max_depth=2, max_features=10, min_samples_leaf=5, n_estimators=10; total time=   1.8s\n",
      "[CV] END max_depth=2, max_features=10, min_samples_leaf=10, n_estimators=2; total time=   0.5s\n",
      "[CV] END max_depth=2, max_features=10, min_samples_leaf=10, n_estimators=5; total time=   1.0s\n",
      "[CV] END max_depth=2, max_features=10, min_samples_leaf=10, n_estimators=10; total time=   1.9s\n",
      "[CV] END max_depth=2, max_features=10, min_samples_leaf=20, n_estimators=2; total time=   0.5s\n",
      "[CV] END max_depth=2, max_features=10, min_samples_leaf=20, n_estimators=5; total time=   1.0s\n",
      "[CV] END max_depth=2, max_features=10, min_samples_leaf=20, n_estimators=10; total time=   1.8s\n",
      "[CV] END max_depth=2, max_features=10, min_samples_leaf=50, n_estimators=2; total time=   0.6s\n",
      "[CV] END max_depth=2, max_features=10, min_samples_leaf=50, n_estimators=5; total time=   1.3s\n",
      "[CV] END max_depth=2, max_features=10, min_samples_leaf=50, n_estimators=10; total time=   1.6s\n",
      "[CV] END max_depth=2, max_features=10, min_samples_leaf=100, n_estimators=5; total time=   0.6s\n",
      "[CV] END max_depth=2, max_features=10, min_samples_leaf=100, n_estimators=10; total time=   1.8s\n",
      "[CV] END max_depth=5, max_features=2, min_samples_leaf=5, n_estimators=2; total time=   0.8s\n",
      "[CV] END max_depth=5, max_features=2, min_samples_leaf=5, n_estimators=2; total time=   0.3s\n",
      "[CV] END max_depth=5, max_features=2, min_samples_leaf=5, n_estimators=5; total time=   0.6s\n",
      "[CV] END max_depth=5, max_features=2, min_samples_leaf=5, n_estimators=10; total time=   0.8s\n",
      "[CV] END max_depth=5, max_features=2, min_samples_leaf=10, n_estimators=2; total time=   0.3s\n",
      "[CV] END max_depth=5, max_features=2, min_samples_leaf=10, n_estimators=5; total time=   0.5s\n",
      "[CV] END max_depth=5, max_features=2, min_samples_leaf=10, n_estimators=10; total time=   1.0s\n",
      "[CV] END max_depth=5, max_features=2, min_samples_leaf=20, n_estimators=2; total time=   0.4s\n",
      "[CV] END max_depth=5, max_features=2, min_samples_leaf=20, n_estimators=5; total time=   0.5s\n",
      "[CV] END max_depth=5, max_features=2, min_samples_leaf=20, n_estimators=10; total time=   1.1s\n",
      "[CV] END max_depth=5, max_features=2, min_samples_leaf=50, n_estimators=2; total time=   0.3s\n",
      "[CV] END max_depth=5, max_features=2, min_samples_leaf=50, n_estimators=5; total time=   0.5s\n",
      "[CV] END max_depth=5, max_features=2, min_samples_leaf=50, n_estimators=10; total time=   0.9s\n",
      "[CV] END max_depth=5, max_features=2, min_samples_leaf=100, n_estimators=2; total time=   0.2s\n",
      "[CV] END max_depth=5, max_features=2, min_samples_leaf=100, n_estimators=5; total time=   0.5s\n",
      "[CV] END max_depth=5, max_features=2, min_samples_leaf=100, n_estimators=10; total time=   1.0s\n",
      "[CV] END max_depth=5, max_features=5, min_samples_leaf=5, n_estimators=2; total time=   0.5s\n",
      "[CV] END max_depth=5, max_features=5, min_samples_leaf=5, n_estimators=5; total time=   1.0s\n",
      "[CV] END max_depth=5, max_features=5, min_samples_leaf=5, n_estimators=10; total time=   1.7s\n",
      "[CV] END max_depth=5, max_features=5, min_samples_leaf=10, n_estimators=2; total time=   0.8s\n",
      "[CV] END max_depth=5, max_features=5, min_samples_leaf=10, n_estimators=5; total time=   0.9s\n",
      "[CV] END max_depth=5, max_features=5, min_samples_leaf=10, n_estimators=10; total time=   1.8s\n",
      "[CV] END max_depth=5, max_features=5, min_samples_leaf=20, n_estimators=2; total time=   0.9s\n",
      "[CV] END max_depth=5, max_features=5, min_samples_leaf=20, n_estimators=2; total time=   0.3s\n",
      "[CV] END max_depth=5, max_features=5, min_samples_leaf=20, n_estimators=5; total time=   1.1s\n",
      "[CV] END max_depth=5, max_features=5, min_samples_leaf=20, n_estimators=10; total time=   2.3s\n",
      "[CV] END max_depth=5, max_features=5, min_samples_leaf=50, n_estimators=2; total time=   0.5s\n",
      "[CV] END max_depth=5, max_features=5, min_samples_leaf=50, n_estimators=5; total time=   1.2s\n",
      "[CV] END max_depth=5, max_features=5, min_samples_leaf=50, n_estimators=10; total time=   2.3s\n",
      "[CV] END max_depth=5, max_features=5, min_samples_leaf=100, n_estimators=2; total time=   0.6s\n",
      "[CV] END max_depth=5, max_features=5, min_samples_leaf=100, n_estimators=5; total time=   1.2s\n",
      "[CV] END max_depth=5, max_features=5, min_samples_leaf=100, n_estimators=10; total time=   2.0s\n",
      "[CV] END max_depth=5, max_features=10, min_samples_leaf=5, n_estimators=5; total time=   2.2s\n",
      "[CV] END max_depth=5, max_features=10, min_samples_leaf=5, n_estimators=10; total time=   4.2s\n",
      "[CV] END max_depth=5, max_features=10, min_samples_leaf=10, n_estimators=2; total time=   1.2s\n",
      "[CV] END max_depth=5, max_features=10, min_samples_leaf=10, n_estimators=2; total time=   1.1s\n",
      "[CV] END max_depth=5, max_features=10, min_samples_leaf=10, n_estimators=5; total time=   1.8s\n",
      "[CV] END max_depth=5, max_features=10, min_samples_leaf=10, n_estimators=10; total time=   4.0s\n",
      "[CV] END max_depth=5, max_features=10, min_samples_leaf=20, n_estimators=2; total time=   0.9s\n",
      "[CV] END max_depth=5, max_features=10, min_samples_leaf=20, n_estimators=5; total time=   2.1s\n",
      "[CV] END max_depth=5, max_features=10, min_samples_leaf=20, n_estimators=10; total time=   4.2s\n",
      "[CV] END max_depth=5, max_features=10, min_samples_leaf=50, n_estimators=2; total time=   0.8s\n",
      "[CV] END max_depth=5, max_features=10, min_samples_leaf=50, n_estimators=5; total time=   2.1s[CV] END max_depth=2, max_features=2, min_samples_leaf=5, n_estimators=2; total time=   0.2s\n",
      "[CV] END max_depth=2, max_features=2, min_samples_leaf=5, n_estimators=5; total time=   0.3s\n",
      "[CV] END max_depth=2, max_features=2, min_samples_leaf=5, n_estimators=10; total time=   0.6s\n",
      "[CV] END max_depth=2, max_features=2, min_samples_leaf=10, n_estimators=2; total time=   0.2s\n",
      "[CV] END max_depth=2, max_features=2, min_samples_leaf=10, n_estimators=5; total time=   0.4s\n",
      "[CV] END max_depth=2, max_features=2, min_samples_leaf=10, n_estimators=10; total time=   0.6s\n",
      "[CV] END max_depth=2, max_features=2, min_samples_leaf=20, n_estimators=5; total time=   0.2s\n",
      "[CV] END max_depth=2, max_features=2, min_samples_leaf=20, n_estimators=10; total time=   0.5s\n",
      "[CV] END max_depth=2, max_features=2, min_samples_leaf=50, n_estimators=2; total time=   0.2s\n",
      "[CV] END max_depth=2, max_features=2, min_samples_leaf=50, n_estimators=2; total time=   0.2s\n",
      "[CV] END max_depth=2, max_features=2, min_samples_leaf=50, n_estimators=5; total time=   0.3s\n",
      "[CV] END max_depth=2, max_features=2, min_samples_leaf=50, n_estimators=10; total time=   0.6s\n",
      "[CV] END max_depth=2, max_features=2, min_samples_leaf=100, n_estimators=2; total time=   0.2s\n",
      "[CV] END max_depth=2, max_features=2, min_samples_leaf=100, n_estimators=5; total time=   0.4s\n",
      "[CV] END max_depth=2, max_features=2, min_samples_leaf=100, n_estimators=10; total time=   0.5s\n",
      "[CV] END max_depth=2, max_features=5, min_samples_leaf=5, n_estimators=2; total time=   0.4s\n",
      "[CV] END max_depth=2, max_features=5, min_samples_leaf=5, n_estimators=5; total time=   0.5s\n",
      "[CV] END max_depth=2, max_features=5, min_samples_leaf=5, n_estimators=10; total time=   1.1s\n",
      "[CV] END max_depth=2, max_features=5, min_samples_leaf=10, n_estimators=2; total time=   0.3s\n",
      "[CV] END max_depth=2, max_features=5, min_samples_leaf=10, n_estimators=5; total time=   0.5s\n",
      "[CV] END max_depth=2, max_features=5, min_samples_leaf=10, n_estimators=10; total time=   0.9s\n",
      "[CV] END max_depth=2, max_features=5, min_samples_leaf=20, n_estimators=5; total time=   0.3s\n",
      "[CV] END max_depth=2, max_features=5, min_samples_leaf=20, n_estimators=10; total time=   1.0s\n",
      "[CV] END max_depth=2, max_features=5, min_samples_leaf=50, n_estimators=2; total time=   0.4s\n",
      "[CV] END max_depth=2, max_features=5, min_samples_leaf=50, n_estimators=5; total time=   0.5s\n",
      "[CV] END max_depth=2, max_features=5, min_samples_leaf=50, n_estimators=10; total time=   0.7s\n",
      "[CV] END max_depth=2, max_features=5, min_samples_leaf=100, n_estimators=2; total time=   0.5s\n",
      "[CV] END max_depth=2, max_features=5, min_samples_leaf=100, n_estimators=2; total time=   0.2s\n",
      "[CV] END max_depth=2, max_features=5, min_samples_leaf=100, n_estimators=5; total time=   0.6s\n",
      "[CV] END max_depth=2, max_features=5, min_samples_leaf=100, n_estimators=10; total time=   1.0s\n",
      "[CV] END max_depth=2, max_features=10, min_samples_leaf=5, n_estimators=2; total time=   0.4s\n",
      "[CV] END max_depth=2, max_features=10, min_samples_leaf=5, n_estimators=5; total time=   1.1s\n",
      "[CV] END max_depth=2, max_features=10, min_samples_leaf=5, n_estimators=10; total time=   1.7s\n",
      "[CV] END max_depth=2, max_features=10, min_samples_leaf=10, n_estimators=2; total time=   0.6s\n",
      "[CV] END max_depth=2, max_features=10, min_samples_leaf=10, n_estimators=5; total time=   1.0s\n",
      "[CV] END max_depth=2, max_features=10, min_samples_leaf=10, n_estimators=10; total time=   1.7s\n",
      "[CV] END max_depth=2, max_features=10, min_samples_leaf=20, n_estimators=2; total time=   0.6s\n",
      "[CV] END max_depth=2, max_features=10, min_samples_leaf=20, n_estimators=5; total time=   1.0s\n",
      "[CV] END max_depth=2, max_features=10, min_samples_leaf=20, n_estimators=10; total time=   1.7s\n",
      "[CV] END max_depth=2, max_features=10, min_samples_leaf=50, n_estimators=5; total time=   0.8s\n",
      "[CV] END max_depth=2, max_features=10, min_samples_leaf=50, n_estimators=10; total time=   1.7s\n",
      "[CV] END max_depth=2, max_features=10, min_samples_leaf=100, n_estimators=2; total time=   0.7s\n",
      "[CV] END max_depth=2, max_features=10, min_samples_leaf=100, n_estimators=2; total time=   0.5s\n",
      "[CV] END max_depth=2, max_features=10, min_samples_leaf=100, n_estimators=5; total time=   1.0s\n",
      "[CV] END max_depth=2, max_features=10, min_samples_leaf=100, n_estimators=10; total time=   2.0s\n",
      "[CV] END max_depth=5, max_features=2, min_samples_leaf=5, n_estimators=2; total time=   0.3s\n",
      "[CV] END max_depth=5, max_features=2, min_samples_leaf=5, n_estimators=5; total time=   0.7s\n",
      "[CV] END max_depth=5, max_features=2, min_samples_leaf=5, n_estimators=10; total time=   1.0s\n",
      "[CV] END max_depth=5, max_features=2, min_samples_leaf=10, n_estimators=5; total time=   0.5s\n",
      "[CV] END max_depth=5, max_features=2, min_samples_leaf=10, n_estimators=10; total time=   1.0s\n",
      "[CV] END max_depth=5, max_features=2, min_samples_leaf=20, n_estimators=2; total time=   0.2s\n",
      "[CV] END max_depth=5, max_features=2, min_samples_leaf=20, n_estimators=5; total time=   0.5s\n",
      "[CV] END max_depth=5, max_features=2, min_samples_leaf=20, n_estimators=10; total time=   0.7s\n",
      "[CV] END max_depth=5, max_features=2, min_samples_leaf=50, n_estimators=2; total time=   0.5s\n",
      "[CV] END max_depth=5, max_features=2, min_samples_leaf=50, n_estimators=2; total time=   0.3s\n",
      "[CV] END max_depth=5, max_features=2, min_samples_leaf=50, n_estimators=5; total time=   0.6s\n",
      "[CV] END max_depth=5, max_features=2, min_samples_leaf=50, n_estimators=10; total time=   1.0s\n",
      "[CV] END max_depth=5, max_features=2, min_samples_leaf=100, n_estimators=2; total time=   0.5s\n",
      "[CV] END max_depth=5, max_features=2, min_samples_leaf=100, n_estimators=5; total time=   0.5s\n",
      "[CV] END max_depth=5, max_features=2, min_samples_leaf=100, n_estimators=10; total time=   0.9s\n",
      "[CV] END max_depth=5, max_features=5, min_samples_leaf=5, n_estimators=2; total time=   0.5s\n",
      "[CV] END max_depth=5, max_features=5, min_samples_leaf=5, n_estimators=5; total time=   1.1s\n",
      "[CV] END max_depth=5, max_features=5, min_samples_leaf=5, n_estimators=10; total time=   2.1s\n",
      "[CV] END max_depth=5, max_features=5, min_samples_leaf=10, n_estimators=2; total time=   0.7s\n",
      "[CV] END max_depth=5, max_features=5, min_samples_leaf=10, n_estimators=5; total time=   1.3s\n",
      "[CV] END max_depth=5, max_features=5, min_samples_leaf=10, n_estimators=10; total time=   1.9s\n",
      "[CV] END max_depth=5, max_features=5, min_samples_leaf=20, n_estimators=5; total time=   1.2s\n",
      "[CV] END max_depth=5, max_features=5, min_samples_leaf=20, n_estimators=10; total time=   2.2s\n",
      "[CV] END max_depth=5, max_features=5, min_samples_leaf=50, n_estimators=2; total time=   0.5s\n",
      "[CV] END max_depth=5, max_features=5, min_samples_leaf=50, n_estimators=5; total time=   0.9s\n",
      "[CV] END max_depth=5, max_features=5, min_samples_leaf=50, n_estimators=10; total time=   2.0s\n",
      "[CV] END max_depth=5, max_features=5, min_samples_leaf=100, n_estimators=2; total time=   0.7s\n",
      "[CV] END max_depth=5, max_features=5, min_samples_leaf=100, n_estimators=2; total time=   0.6s\n",
      "[CV] END max_depth=5, max_features=5, min_samples_leaf=100, n_estimators=5; total time=   1.1s\n",
      "[CV] END max_depth=5, max_features=5, min_samples_leaf=100, n_estimators=10; total time=   2.0s\n",
      "[CV] END max_depth=5, max_features=10, min_samples_leaf=5, n_estimators=2; total time=   1.0s\n",
      "[CV] END max_depth=5, max_features=10, min_samples_leaf=5, n_estimators=5; total time=   1.9s\n",
      "[CV] END max_depth=5, max_features=10, min_samples_leaf=5, n_estimators=10; total time=   4.3s\n",
      "[CV] END max_depth=5, max_features=10, min_samples_leaf=10, n_estimators=2; total time=   0.7s\n",
      "[CV] END max_depth=5, max_features=10, min_samples_leaf=10, n_estimators=5; total time=   2.2s\n",
      "[CV] END max_depth=5, max_features=10, min_samples_leaf=10, n_estimators=10; total time=   4.4s\n",
      "[CV] END max_depth=5, max_features=10, min_samples_leaf=20, n_estimators=2; total time=   0.8s\n",
      "[CV] END max_depth=5, max_features=10, min_samples_leaf=20, n_estimators=5; total time=   2.1s\n",
      "[CV] END max_depth=5, max_features=10, min_samples_leaf=20, n_estimators=10; total time=   4.3s\n",
      "[CV] END max_depth=5, max_features=10, min_samples_leaf=50, n_estimators=2; total time=   0.9s\n",
      "[CV] END max_depth=5, max_features=10, min_samples_leaf=50, n_estimators=5; total time=   2.0s\n",
      "[CV] END max_depth=5, max_features=10, min_samples_leaf=50, n_estimators=10; total time=   4.2s[CV] END max_depth=2, max_features=2, min_samples_leaf=5, n_estimators=2; total time=   0.3s\n",
      "[CV] END max_depth=2, max_features=2, min_samples_leaf=5, n_estimators=5; total time=   0.2s\n",
      "[CV] END max_depth=2, max_features=2, min_samples_leaf=5, n_estimators=10; total time=   0.5s\n",
      "[CV] END max_depth=2, max_features=2, min_samples_leaf=10, n_estimators=2; total time=   0.2s\n",
      "[CV] END max_depth=2, max_features=2, min_samples_leaf=10, n_estimators=5; total time=   0.3s\n",
      "[CV] END max_depth=2, max_features=2, min_samples_leaf=10, n_estimators=10; total time=   0.6s\n",
      "[CV] END max_depth=2, max_features=2, min_samples_leaf=20, n_estimators=2; total time=   0.2s\n",
      "[CV] END max_depth=2, max_features=2, min_samples_leaf=20, n_estimators=5; total time=   0.3s\n",
      "[CV] END max_depth=2, max_features=2, min_samples_leaf=20, n_estimators=10; total time=   0.5s\n",
      "[CV] END max_depth=2, max_features=2, min_samples_leaf=50, n_estimators=2; total time=   0.2s\n",
      "[CV] END max_depth=2, max_features=2, min_samples_leaf=50, n_estimators=5; total time=   0.3s\n",
      "[CV] END max_depth=2, max_features=2, min_samples_leaf=50, n_estimators=10; total time=   0.6s\n",
      "[CV] END max_depth=2, max_features=2, min_samples_leaf=100, n_estimators=2; total time=   0.2s\n",
      "[CV] END max_depth=2, max_features=2, min_samples_leaf=100, n_estimators=5; total time=   0.2s\n",
      "[CV] END max_depth=2, max_features=2, min_samples_leaf=100, n_estimators=10; total time=   0.5s\n",
      "[CV] END max_depth=2, max_features=5, min_samples_leaf=5, n_estimators=2; total time=   0.4s\n",
      "[CV] END max_depth=2, max_features=5, min_samples_leaf=5, n_estimators=5; total time=   0.6s\n",
      "[CV] END max_depth=2, max_features=5, min_samples_leaf=5, n_estimators=10; total time=   0.9s\n",
      "[CV] END max_depth=2, max_features=5, min_samples_leaf=10, n_estimators=2; total time=   0.4s\n",
      "[CV] END max_depth=2, max_features=5, min_samples_leaf=10, n_estimators=5; total time=   0.5s\n",
      "[CV] END max_depth=2, max_features=5, min_samples_leaf=10, n_estimators=10; total time=   0.7s\n",
      "[CV] END max_depth=2, max_features=5, min_samples_leaf=20, n_estimators=2; total time=   0.5s\n",
      "[CV] END max_depth=2, max_features=5, min_samples_leaf=20, n_estimators=2; total time=   0.3s\n",
      "[CV] END max_depth=2, max_features=5, min_samples_leaf=20, n_estimators=5; total time=   0.5s\n",
      "[CV] END max_depth=2, max_features=5, min_samples_leaf=20, n_estimators=10; total time=   0.9s\n",
      "[CV] END max_depth=2, max_features=5, min_samples_leaf=50, n_estimators=2; total time=   0.3s\n",
      "[CV] END max_depth=2, max_features=5, min_samples_leaf=50, n_estimators=5; total time=   0.7s\n",
      "[CV] END max_depth=2, max_features=5, min_samples_leaf=50, n_estimators=10; total time=   1.0s\n",
      "[CV] END max_depth=2, max_features=5, min_samples_leaf=100, n_estimators=2; total time=   0.3s\n",
      "[CV] END max_depth=2, max_features=5, min_samples_leaf=100, n_estimators=5; total time=   0.5s\n",
      "[CV] END max_depth=2, max_features=5, min_samples_leaf=100, n_estimators=10; total time=   1.0s\n",
      "[CV] END max_depth=2, max_features=10, min_samples_leaf=5, n_estimators=2; total time=   0.5s\n",
      "[CV] END max_depth=2, max_features=10, min_samples_leaf=5, n_estimators=5; total time=   1.0s\n",
      "[CV] END max_depth=2, max_features=10, min_samples_leaf=5, n_estimators=10; total time=   1.8s\n",
      "[CV] END max_depth=2, max_features=10, min_samples_leaf=10, n_estimators=2; total time=   0.6s\n",
      "[CV] END max_depth=2, max_features=10, min_samples_leaf=10, n_estimators=5; total time=   1.0s\n",
      "[CV] END max_depth=2, max_features=10, min_samples_leaf=10, n_estimators=10; total time=   1.7s\n",
      "[CV] END max_depth=2, max_features=10, min_samples_leaf=20, n_estimators=5; total time=   0.7s\n",
      "[CV] END max_depth=2, max_features=10, min_samples_leaf=20, n_estimators=10; total time=   1.6s\n",
      "[CV] END max_depth=2, max_features=10, min_samples_leaf=50, n_estimators=2; total time=   0.8s\n",
      "[CV] END max_depth=2, max_features=10, min_samples_leaf=50, n_estimators=2; total time=   0.6s\n",
      "[CV] END max_depth=2, max_features=10, min_samples_leaf=50, n_estimators=5; total time=   1.0s\n",
      "[CV] END max_depth=2, max_features=10, min_samples_leaf=50, n_estimators=10; total time=   1.8s\n",
      "[CV] END max_depth=2, max_features=10, min_samples_leaf=100, n_estimators=2; total time=   0.5s\n",
      "[CV] END max_depth=2, max_features=10, min_samples_leaf=100, n_estimators=5; total time=   1.4s\n",
      "[CV] END max_depth=2, max_features=10, min_samples_leaf=100, n_estimators=10; total time=   1.9s\n",
      "[CV] END max_depth=5, max_features=2, min_samples_leaf=5, n_estimators=5; total time=   0.4s\n",
      "[CV] END max_depth=5, max_features=2, min_samples_leaf=5, n_estimators=10; total time=   0.8s\n",
      "[CV] END max_depth=5, max_features=2, min_samples_leaf=10, n_estimators=2; total time=   0.5s\n",
      "[CV] END max_depth=5, max_features=2, min_samples_leaf=10, n_estimators=2; total time=   0.4s\n",
      "[CV] END max_depth=5, max_features=2, min_samples_leaf=10, n_estimators=5; total time=   0.6s\n",
      "[CV] END max_depth=5, max_features=2, min_samples_leaf=10, n_estimators=10; total time=   0.8s\n",
      "[CV] END max_depth=5, max_features=2, min_samples_leaf=20, n_estimators=2; total time=   0.3s\n",
      "[CV] END max_depth=5, max_features=2, min_samples_leaf=20, n_estimators=5; total time=   0.5s\n",
      "[CV] END max_depth=5, max_features=2, min_samples_leaf=20, n_estimators=10; total time=   1.0s\n",
      "[CV] END max_depth=5, max_features=2, min_samples_leaf=50, n_estimators=5; total time=   0.3s\n",
      "[CV] END max_depth=5, max_features=2, min_samples_leaf=50, n_estimators=10; total time=   0.9s\n",
      "[CV] END max_depth=5, max_features=2, min_samples_leaf=100, n_estimators=2; total time=   0.5s\n",
      "[CV] END max_depth=5, max_features=2, min_samples_leaf=100, n_estimators=2; total time=   0.2s\n",
      "[CV] END max_depth=5, max_features=2, min_samples_leaf=100, n_estimators=5; total time=   0.6s\n",
      "[CV] END max_depth=5, max_features=2, min_samples_leaf=100, n_estimators=10; total time=   1.1s\n",
      "[CV] END max_depth=5, max_features=5, min_samples_leaf=5, n_estimators=2; total time=   0.5s\n",
      "[CV] END max_depth=5, max_features=5, min_samples_leaf=5, n_estimators=5; total time=   1.0s\n",
      "[CV] END max_depth=5, max_features=5, min_samples_leaf=5, n_estimators=10; total time=   2.2s\n",
      "[CV] END max_depth=5, max_features=5, min_samples_leaf=10, n_estimators=2; total time=   0.7s\n",
      "[CV] END max_depth=5, max_features=5, min_samples_leaf=10, n_estimators=5; total time=   1.5s\n",
      "[CV] END max_depth=5, max_features=5, min_samples_leaf=10, n_estimators=10; total time=   1.8s\n",
      "[CV] END max_depth=5, max_features=5, min_samples_leaf=20, n_estimators=5; total time=   1.3s\n",
      "[CV] END max_depth=5, max_features=5, min_samples_leaf=20, n_estimators=10; total time=   2.2s\n",
      "[CV] END max_depth=5, max_features=5, min_samples_leaf=50, n_estimators=2; total time=   0.5s\n",
      "[CV] END max_depth=5, max_features=5, min_samples_leaf=50, n_estimators=5; total time=   1.2s\n",
      "[CV] END max_depth=5, max_features=5, min_samples_leaf=50, n_estimators=10; total time=   2.1s\n",
      "[CV] END max_depth=5, max_features=5, min_samples_leaf=100, n_estimators=2; total time=   0.6s\n",
      "[CV] END max_depth=5, max_features=5, min_samples_leaf=100, n_estimators=5; total time=   1.3s\n",
      "[CV] END max_depth=5, max_features=5, min_samples_leaf=100, n_estimators=10; total time=   2.0s\n",
      "[CV] END max_depth=5, max_features=10, min_samples_leaf=5, n_estimators=2; total time=   1.0s\n",
      "[CV] END max_depth=5, max_features=10, min_samples_leaf=5, n_estimators=5; total time=   3.1s\n",
      "[CV] END max_depth=5, max_features=10, min_samples_leaf=5, n_estimators=10; total time=   3.7s\n",
      "[CV] END max_depth=5, max_features=10, min_samples_leaf=10, n_estimators=2; total time=   1.1s\n",
      "[CV] END max_depth=5, max_features=10, min_samples_leaf=10, n_estimators=5; total time=   1.7s\n",
      "[CV] END max_depth=5, max_features=10, min_samples_leaf=10, n_estimators=10; total time=   4.1s\n",
      "[CV] END max_depth=5, max_features=10, min_samples_leaf=20, n_estimators=2; total time=   1.1s\n",
      "[CV] END max_depth=5, max_features=10, min_samples_leaf=20, n_estimators=5; total time=   1.9s\n",
      "[CV] END max_depth=5, max_features=10, min_samples_leaf=20, n_estimators=10; total time=   4.2s\n",
      "[CV] END max_depth=5, max_features=10, min_samples_leaf=50, n_estimators=2; total time=   1.0s\n",
      "[CV] END max_depth=5, max_features=10, min_samples_leaf=50, n_estimators=5; total time=   2.0s\n",
      "[CV] END max_depth=5, max_features=10, min_samples_leaf=50, n_estimators=10; total time=   4.2s[CV] END max_depth=2, max_features=2, min_samples_leaf=5, n_estimators=2; total time=   0.3s\n",
      "[CV] END max_depth=2, max_features=2, min_samples_leaf=5, n_estimators=5; total time=   0.2s\n",
      "[CV] END max_depth=2, max_features=2, min_samples_leaf=5, n_estimators=10; total time=   0.5s\n",
      "[CV] END max_depth=2, max_features=2, min_samples_leaf=10, n_estimators=2; total time=   0.2s\n",
      "[CV] END max_depth=2, max_features=2, min_samples_leaf=10, n_estimators=5; total time=   0.3s\n",
      "[CV] END max_depth=2, max_features=2, min_samples_leaf=10, n_estimators=10; total time=   0.7s\n",
      "[CV] END max_depth=2, max_features=2, min_samples_leaf=20, n_estimators=2; total time=   0.2s\n",
      "[CV] END max_depth=2, max_features=2, min_samples_leaf=20, n_estimators=5; total time=   0.3s\n",
      "[CV] END max_depth=2, max_features=2, min_samples_leaf=20, n_estimators=10; total time=   0.5s\n",
      "[CV] END max_depth=2, max_features=2, min_samples_leaf=50, n_estimators=2; total time=   0.2s\n",
      "[CV] END max_depth=2, max_features=2, min_samples_leaf=50, n_estimators=5; total time=   0.3s\n",
      "[CV] END max_depth=2, max_features=2, min_samples_leaf=50, n_estimators=10; total time=   0.6s\n",
      "[CV] END max_depth=2, max_features=2, min_samples_leaf=100, n_estimators=2; total time=   0.2s\n",
      "[CV] END max_depth=2, max_features=2, min_samples_leaf=100, n_estimators=5; total time=   0.4s\n",
      "[CV] END max_depth=2, max_features=2, min_samples_leaf=100, n_estimators=10; total time=   0.6s\n",
      "[CV] END max_depth=2, max_features=5, min_samples_leaf=5, n_estimators=2; total time=   0.3s\n",
      "[CV] END max_depth=2, max_features=5, min_samples_leaf=5, n_estimators=5; total time=   0.4s\n",
      "[CV] END max_depth=2, max_features=5, min_samples_leaf=5, n_estimators=10; total time=   1.0s\n",
      "[CV] END max_depth=2, max_features=5, min_samples_leaf=10, n_estimators=2; total time=   0.2s\n",
      "[CV] END max_depth=2, max_features=5, min_samples_leaf=10, n_estimators=5; total time=   0.5s\n",
      "[CV] END max_depth=2, max_features=5, min_samples_leaf=10, n_estimators=10; total time=   1.0s\n",
      "[CV] END max_depth=2, max_features=5, min_samples_leaf=20, n_estimators=2; total time=   0.4s\n",
      "[CV] END max_depth=2, max_features=5, min_samples_leaf=20, n_estimators=5; total time=   0.5s\n",
      "[CV] END max_depth=2, max_features=5, min_samples_leaf=20, n_estimators=10; total time=   1.0s\n",
      "[CV] END max_depth=2, max_features=5, min_samples_leaf=50, n_estimators=2; total time=   0.4s\n",
      "[CV] END max_depth=2, max_features=5, min_samples_leaf=50, n_estimators=5; total time=   0.5s\n",
      "[CV] END max_depth=2, max_features=5, min_samples_leaf=50, n_estimators=10; total time=   1.0s\n",
      "[CV] END max_depth=2, max_features=5, min_samples_leaf=100, n_estimators=5; total time=   0.5s\n",
      "[CV] END max_depth=2, max_features=5, min_samples_leaf=100, n_estimators=10; total time=   1.0s\n",
      "[CV] END max_depth=2, max_features=10, min_samples_leaf=5, n_estimators=2; total time=   0.4s\n",
      "[CV] END max_depth=2, max_features=10, min_samples_leaf=5, n_estimators=5; total time=   0.8s\n",
      "[CV] END max_depth=2, max_features=10, min_samples_leaf=5, n_estimators=10; total time=   1.6s\n",
      "[CV] END max_depth=2, max_features=10, min_samples_leaf=10, n_estimators=2; total time=   0.7s\n",
      "[CV] END max_depth=2, max_features=10, min_samples_leaf=10, n_estimators=5; total time=   0.7s\n",
      "[CV] END max_depth=2, max_features=10, min_samples_leaf=10, n_estimators=10; total time=   1.5s\n",
      "[CV] END max_depth=2, max_features=10, min_samples_leaf=20, n_estimators=2; total time=   0.9s\n",
      "[CV] END max_depth=2, max_features=10, min_samples_leaf=20, n_estimators=2; total time=   0.4s\n",
      "[CV] END max_depth=2, max_features=10, min_samples_leaf=20, n_estimators=5; total time=   1.2s\n",
      "[CV] END max_depth=2, max_features=10, min_samples_leaf=20, n_estimators=10; total time=   1.8s\n",
      "[CV] END max_depth=2, max_features=10, min_samples_leaf=50, n_estimators=2; total time=   0.6s\n",
      "[CV] END max_depth=2, max_features=10, min_samples_leaf=50, n_estimators=5; total time=   1.0s\n",
      "[CV] END max_depth=2, max_features=10, min_samples_leaf=50, n_estimators=10; total time=   1.8s\n",
      "[CV] END max_depth=2, max_features=10, min_samples_leaf=100, n_estimators=2; total time=   0.3s\n",
      "[CV] END max_depth=2, max_features=10, min_samples_leaf=100, n_estimators=5; total time=   1.0s\n",
      "[CV] END max_depth=2, max_features=10, min_samples_leaf=100, n_estimators=10; total time=   2.2s\n",
      "[CV] END max_depth=5, max_features=2, min_samples_leaf=5, n_estimators=2; total time=   0.2s\n",
      "[CV] END max_depth=5, max_features=2, min_samples_leaf=5, n_estimators=5; total time=   0.7s\n",
      "[CV] END max_depth=5, max_features=2, min_samples_leaf=5, n_estimators=10; total time=   0.9s\n",
      "[CV] END max_depth=5, max_features=2, min_samples_leaf=10, n_estimators=2; total time=   0.2s\n",
      "[CV] END max_depth=5, max_features=2, min_samples_leaf=10, n_estimators=5; total time=   0.6s\n",
      "[CV] END max_depth=5, max_features=2, min_samples_leaf=10, n_estimators=10; total time=   0.9s\n",
      "[CV] END max_depth=5, max_features=2, min_samples_leaf=20, n_estimators=2; total time=   0.2s\n",
      "[CV] END max_depth=5, max_features=2, min_samples_leaf=20, n_estimators=5; total time=   0.5s\n",
      "[CV] END max_depth=5, max_features=2, min_samples_leaf=20, n_estimators=10; total time=   1.1s\n",
      "[CV] END max_depth=5, max_features=2, min_samples_leaf=50, n_estimators=2; total time=   0.4s\n",
      "[CV] END max_depth=5, max_features=2, min_samples_leaf=50, n_estimators=5; total time=   0.6s\n",
      "[CV] END max_depth=5, max_features=2, min_samples_leaf=50, n_estimators=10; total time=   1.0s\n",
      "[CV] END max_depth=5, max_features=2, min_samples_leaf=100, n_estimators=5; total time=   0.5s\n",
      "[CV] END max_depth=5, max_features=2, min_samples_leaf=100, n_estimators=10; total time=   0.9s\n",
      "[CV] END max_depth=5, max_features=5, min_samples_leaf=5, n_estimators=2; total time=   0.5s\n",
      "[CV] END max_depth=5, max_features=5, min_samples_leaf=5, n_estimators=5; total time=   1.4s\n",
      "[CV] END max_depth=5, max_features=5, min_samples_leaf=5, n_estimators=10; total time=   2.1s\n",
      "[CV] END max_depth=5, max_features=5, min_samples_leaf=10, n_estimators=2; total time=   0.6s\n",
      "[CV] END max_depth=5, max_features=5, min_samples_leaf=10, n_estimators=5; total time=   0.8s\n",
      "[CV] END max_depth=5, max_features=5, min_samples_leaf=10, n_estimators=10; total time=   2.0s\n",
      "[CV] END max_depth=5, max_features=5, min_samples_leaf=20, n_estimators=2; total time=   0.5s\n",
      "[CV] END max_depth=5, max_features=5, min_samples_leaf=20, n_estimators=2; total time=   0.5s\n",
      "[CV] END max_depth=5, max_features=5, min_samples_leaf=20, n_estimators=5; total time=   1.0s\n",
      "[CV] END max_depth=5, max_features=5, min_samples_leaf=20, n_estimators=10; total time=   2.1s\n",
      "[CV] END max_depth=5, max_features=5, min_samples_leaf=50, n_estimators=2; total time=   0.5s\n",
      "[CV] END max_depth=5, max_features=5, min_samples_leaf=50, n_estimators=5; total time=   1.2s\n",
      "[CV] END max_depth=5, max_features=5, min_samples_leaf=50, n_estimators=10; total time=   2.2s\n",
      "[CV] END max_depth=5, max_features=5, min_samples_leaf=100, n_estimators=5; total time=   0.9s\n",
      "[CV] END max_depth=5, max_features=5, min_samples_leaf=100, n_estimators=10; total time=   1.7s\n",
      "[CV] END max_depth=5, max_features=10, min_samples_leaf=5, n_estimators=2; total time=   1.1s\n",
      "[CV] END max_depth=5, max_features=10, min_samples_leaf=5, n_estimators=2; total time=   1.1s\n",
      "[CV] END max_depth=5, max_features=10, min_samples_leaf=5, n_estimators=5; total time=   3.1s\n",
      "[CV] END max_depth=5, max_features=10, min_samples_leaf=5, n_estimators=10; total time=   3.6s\n",
      "[CV] END max_depth=5, max_features=10, min_samples_leaf=10, n_estimators=5; total time=   2.4s\n",
      "[CV] END max_depth=5, max_features=10, min_samples_leaf=10, n_estimators=10; total time=   4.1s\n",
      "[CV] END max_depth=5, max_features=10, min_samples_leaf=20, n_estimators=2; total time=   0.8s\n",
      "[CV] END max_depth=5, max_features=10, min_samples_leaf=20, n_estimators=5; total time=   2.2s\n",
      "[CV] END max_depth=5, max_features=10, min_samples_leaf=20, n_estimators=10; total time=   4.2s\n",
      "[CV] END max_depth=5, max_features=10, min_samples_leaf=50, n_estimators=2; total time=   0.8s\n",
      "[CV] END max_depth=5, max_features=10, min_samples_leaf=50, n_estimators=5; total time=   2.1s\n",
      "[CV] END max_depth=5, max_features=10, min_samples_leaf=50, n_estimators=10; total time=   4.1s\n",
      "[CV] END max_depth=5, max_features=10, min_samples_leaf=100, n_estimators=2; total time=   0.7sCPU times: user 11.8 s, sys: 543 ms, total: 12.3 s\n",
      "Wall time: 3min 26s\n"
     ]
    },
    {
     "data": {
      "text/plain": [
       "GridSearchCV(cv=4, estimator=RandomForestClassifier(n_jobs=-1, random_state=42),\n",
       "             n_jobs=-1,\n",
       "             param_grid={'max_depth': [2, 5, 10], 'max_features': [2, 5, 10],\n",
       "                         'min_samples_leaf': [5, 10, 20, 50, 100],\n",
       "                         'n_estimators': [2, 5, 10]},\n",
       "             scoring=make_scorer(precision_score, pos_label=0), verbose=2)"
      ]
     },
     "execution_count": 37,
     "metadata": {},
     "output_type": "execute_result"
    }
   ],
   "source": [
    "%%time\n",
    "grid_search.fit(X_train_pca,y)"
   ]
  },
  {
   "cell_type": "code",
   "execution_count": 38,
   "id": "037ac7e3",
   "metadata": {
    "execution": {
     "iopub.execute_input": "2022-10-08T12:57:32.661911Z",
     "iopub.status.busy": "2022-10-08T12:57:32.661501Z",
     "iopub.status.idle": "2022-10-08T12:57:32.709182Z",
     "shell.execute_reply": "2022-10-08T12:57:32.708057Z"
    },
    "papermill": {
     "duration": 0.065349,
     "end_time": "2022-10-08T12:57:32.711553",
     "exception": false,
     "start_time": "2022-10-08T12:57:32.646204",
     "status": "completed"
    },
    "tags": []
   },
   "outputs": [
    {
     "data": {
      "text/html": [
       "<a href=solution.csv>Download CSV file</a>"
      ],
      "text/plain": [
       "<IPython.core.display.HTML object>"
      ]
     },
     "execution_count": 38,
     "metadata": {},
     "output_type": "execute_result"
    }
   ],
   "source": [
    "from IPython.display import HTML\n",
    "import pandas as pd\n",
    "import numpy as np\n",
    "\n",
    "solution.to_csv('solution.csv')\n",
    "\n",
    "def create_download_link(title = \"Download CSV file\", filename = \"data.csv\"):  \n",
    "    html = '<a href={filename}>{title}</a>'\n",
    "    html = html.format(title=title,filename=filename)\n",
    "    return HTML(html)\n",
    "\n",
    "# create a link to download the dataframe which was saved with .to_csv method\n",
    "create_download_link(filename='solution.csv')"
   ]
  },
  {
   "cell_type": "code",
   "execution_count": null,
   "id": "bc76f91a",
   "metadata": {
    "papermill": {
     "duration": 0.013255,
     "end_time": "2022-10-08T12:57:32.738429",
     "exception": false,
     "start_time": "2022-10-08T12:57:32.725174",
     "status": "completed"
    },
    "tags": []
   },
   "outputs": [],
   "source": []
  }
 ],
 "metadata": {
  "kernelspec": {
   "display_name": "Python 3",
   "language": "python",
   "name": "python3"
  },
  "language_info": {
   "codemirror_mode": {
    "name": "ipython",
    "version": 3
   },
   "file_extension": ".py",
   "mimetype": "text/x-python",
   "name": "python",
   "nbconvert_exporter": "python",
   "pygments_lexer": "ipython3",
   "version": "3.7.12"
  },
  "papermill": {
   "default_parameters": {},
   "duration": 230.425999,
   "end_time": "2022-10-08T12:57:35.373093",
   "environment_variables": {},
   "exception": null,
   "input_path": "__notebook__.ipynb",
   "output_path": "__notebook__.ipynb",
   "parameters": {},
   "start_time": "2022-10-08T12:53:44.947094",
   "version": "2.3.4"
  }
 },
 "nbformat": 4,
 "nbformat_minor": 5
}
