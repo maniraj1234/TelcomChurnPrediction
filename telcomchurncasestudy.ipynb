{
 "cells": [
  {
   "cell_type": "code",
   "execution_count": 1,
   "id": "a3682a82",
   "metadata": {
    "_cell_guid": "b1076dfc-b9ad-4769-8c92-a6c4dae69d19",
    "_uuid": "8f2839f25d086af736a60e9eeb907d3b93b6e0e5",
    "execution": {
     "iopub.execute_input": "2022-10-08T13:26:20.638354Z",
     "iopub.status.busy": "2022-10-08T13:26:20.637315Z",
     "iopub.status.idle": "2022-10-08T13:26:20.654215Z",
     "shell.execute_reply": "2022-10-08T13:26:20.652899Z"
    },
    "papermill": {
     "duration": 0.034098,
     "end_time": "2022-10-08T13:26:20.657094",
     "exception": false,
     "start_time": "2022-10-08T13:26:20.622996",
     "status": "completed"
    },
    "tags": []
   },
   "outputs": [
    {
     "name": "stdout",
     "output_type": "stream",
     "text": [
      "/kaggle/input/telecom-churn-case-study-hackathon-c40/data_dictionary.csv\n",
      "/kaggle/input/telecom-churn-case-study-hackathon-c40/train.csv\n",
      "/kaggle/input/telecom-churn-case-study-hackathon-c40/test.csv\n",
      "/kaggle/input/telecom-churn-case-study-hackathon-c40/solution.csv\n"
     ]
    }
   ],
   "source": [
    "# This Python 3 environment comes with many helpful analytics libraries installed\n",
    "# It is defined by the kaggle/python Docker image: https://github.com/kaggle/docker-python\n",
    "# For example, here's several helpful packages to load\n",
    "\n",
    "import numpy as np # linear algebra\n",
    "import pandas as pd # data processing, CSV file I/O (e.g. pd.read_csv)\n",
    "\n",
    "# Input data files are available in the read-only \"../input/\" directory\n",
    "# For example, running this (by clicking run or pressing Shift+Enter) will list all files under the input directory\n",
    "\n",
    "import os\n",
    "for dirname, _, filenames in os.walk('/kaggle/input'):\n",
    "    for filename in filenames:\n",
    "        print(os.path.join(dirname, filename))\n",
    "\n",
    "# You can write up to 20GB to the current directory (/kaggle/working/) that gets preserved as output when you create a version using \"Save & Run All\" \n",
    "# You can also write temporary files to /kaggle/temp/, but they won't be saved outside of the current session"
   ]
  },
  {
   "cell_type": "code",
   "execution_count": 2,
   "id": "0def6984",
   "metadata": {
    "execution": {
     "iopub.execute_input": "2022-10-08T13:26:20.681563Z",
     "iopub.status.busy": "2022-10-08T13:26:20.680894Z",
     "iopub.status.idle": "2022-10-08T13:26:20.686022Z",
     "shell.execute_reply": "2022-10-08T13:26:20.685222Z"
    },
    "papermill": {
     "duration": 0.019999,
     "end_time": "2022-10-08T13:26:20.688414",
     "exception": false,
     "start_time": "2022-10-08T13:26:20.668415",
     "status": "completed"
    },
    "tags": []
   },
   "outputs": [],
   "source": [
    "pd.set_option('display.max_rows', 30)"
   ]
  },
  {
   "cell_type": "code",
   "execution_count": 3,
   "id": "38f1f0fb",
   "metadata": {
    "execution": {
     "iopub.execute_input": "2022-10-08T13:26:20.715861Z",
     "iopub.status.busy": "2022-10-08T13:26:20.715212Z",
     "iopub.status.idle": "2022-10-08T13:26:23.143607Z",
     "shell.execute_reply": "2022-10-08T13:26:23.142414Z"
    },
    "papermill": {
     "duration": 2.444475,
     "end_time": "2022-10-08T13:26:23.146404",
     "exception": false,
     "start_time": "2022-10-08T13:26:20.701929",
     "status": "completed"
    },
    "tags": []
   },
   "outputs": [],
   "source": [
    "telcom_data = pd.read_csv('/kaggle/input/telecom-churn-case-study-hackathon-c40/train.csv');\n",
    "telcom_data.set_index('id', inplace=True)"
   ]
  },
  {
   "cell_type": "code",
   "execution_count": 4,
   "id": "5d6edf05",
   "metadata": {
    "execution": {
     "iopub.execute_input": "2022-10-08T13:26:23.169956Z",
     "iopub.status.busy": "2022-10-08T13:26:23.169534Z",
     "iopub.status.idle": "2022-10-08T13:26:23.209274Z",
     "shell.execute_reply": "2022-10-08T13:26:23.207944Z"
    },
    "papermill": {
     "duration": 0.054278,
     "end_time": "2022-10-08T13:26:23.211680",
     "exception": false,
     "start_time": "2022-10-08T13:26:23.157402",
     "status": "completed"
    },
    "tags": []
   },
   "outputs": [
    {
     "data": {
      "text/html": [
       "<div>\n",
       "<style scoped>\n",
       "    .dataframe tbody tr th:only-of-type {\n",
       "        vertical-align: middle;\n",
       "    }\n",
       "\n",
       "    .dataframe tbody tr th {\n",
       "        vertical-align: top;\n",
       "    }\n",
       "\n",
       "    .dataframe thead th {\n",
       "        text-align: right;\n",
       "    }\n",
       "</style>\n",
       "<table border=\"1\" class=\"dataframe\">\n",
       "  <thead>\n",
       "    <tr style=\"text-align: right;\">\n",
       "      <th></th>\n",
       "      <th>circle_id</th>\n",
       "      <th>loc_og_t2o_mou</th>\n",
       "      <th>std_og_t2o_mou</th>\n",
       "      <th>loc_ic_t2o_mou</th>\n",
       "      <th>last_date_of_month_6</th>\n",
       "      <th>last_date_of_month_7</th>\n",
       "      <th>last_date_of_month_8</th>\n",
       "      <th>arpu_6</th>\n",
       "      <th>arpu_7</th>\n",
       "      <th>arpu_8</th>\n",
       "      <th>...</th>\n",
       "      <th>sachet_3g_7</th>\n",
       "      <th>sachet_3g_8</th>\n",
       "      <th>fb_user_6</th>\n",
       "      <th>fb_user_7</th>\n",
       "      <th>fb_user_8</th>\n",
       "      <th>aon</th>\n",
       "      <th>aug_vbc_3g</th>\n",
       "      <th>jul_vbc_3g</th>\n",
       "      <th>jun_vbc_3g</th>\n",
       "      <th>churn_probability</th>\n",
       "    </tr>\n",
       "    <tr>\n",
       "      <th>id</th>\n",
       "      <th></th>\n",
       "      <th></th>\n",
       "      <th></th>\n",
       "      <th></th>\n",
       "      <th></th>\n",
       "      <th></th>\n",
       "      <th></th>\n",
       "      <th></th>\n",
       "      <th></th>\n",
       "      <th></th>\n",
       "      <th></th>\n",
       "      <th></th>\n",
       "      <th></th>\n",
       "      <th></th>\n",
       "      <th></th>\n",
       "      <th></th>\n",
       "      <th></th>\n",
       "      <th></th>\n",
       "      <th></th>\n",
       "      <th></th>\n",
       "      <th></th>\n",
       "    </tr>\n",
       "  </thead>\n",
       "  <tbody>\n",
       "    <tr>\n",
       "      <th>0</th>\n",
       "      <td>109</td>\n",
       "      <td>0.0</td>\n",
       "      <td>0.0</td>\n",
       "      <td>0.0</td>\n",
       "      <td>6/30/2014</td>\n",
       "      <td>7/31/2014</td>\n",
       "      <td>8/31/2014</td>\n",
       "      <td>31.277</td>\n",
       "      <td>87.009</td>\n",
       "      <td>7.527</td>\n",
       "      <td>...</td>\n",
       "      <td>0</td>\n",
       "      <td>0</td>\n",
       "      <td>NaN</td>\n",
       "      <td>NaN</td>\n",
       "      <td>NaN</td>\n",
       "      <td>1958</td>\n",
       "      <td>0.0</td>\n",
       "      <td>0.0</td>\n",
       "      <td>0.0</td>\n",
       "      <td>0</td>\n",
       "    </tr>\n",
       "    <tr>\n",
       "      <th>1</th>\n",
       "      <td>109</td>\n",
       "      <td>0.0</td>\n",
       "      <td>0.0</td>\n",
       "      <td>0.0</td>\n",
       "      <td>6/30/2014</td>\n",
       "      <td>7/31/2014</td>\n",
       "      <td>8/31/2014</td>\n",
       "      <td>0.000</td>\n",
       "      <td>122.787</td>\n",
       "      <td>42.953</td>\n",
       "      <td>...</td>\n",
       "      <td>0</td>\n",
       "      <td>0</td>\n",
       "      <td>NaN</td>\n",
       "      <td>1.0</td>\n",
       "      <td>NaN</td>\n",
       "      <td>710</td>\n",
       "      <td>0.0</td>\n",
       "      <td>0.0</td>\n",
       "      <td>0.0</td>\n",
       "      <td>0</td>\n",
       "    </tr>\n",
       "    <tr>\n",
       "      <th>2</th>\n",
       "      <td>109</td>\n",
       "      <td>0.0</td>\n",
       "      <td>0.0</td>\n",
       "      <td>0.0</td>\n",
       "      <td>6/30/2014</td>\n",
       "      <td>7/31/2014</td>\n",
       "      <td>8/31/2014</td>\n",
       "      <td>60.806</td>\n",
       "      <td>103.176</td>\n",
       "      <td>0.000</td>\n",
       "      <td>...</td>\n",
       "      <td>0</td>\n",
       "      <td>0</td>\n",
       "      <td>NaN</td>\n",
       "      <td>NaN</td>\n",
       "      <td>NaN</td>\n",
       "      <td>882</td>\n",
       "      <td>0.0</td>\n",
       "      <td>0.0</td>\n",
       "      <td>0.0</td>\n",
       "      <td>0</td>\n",
       "    </tr>\n",
       "    <tr>\n",
       "      <th>3</th>\n",
       "      <td>109</td>\n",
       "      <td>0.0</td>\n",
       "      <td>0.0</td>\n",
       "      <td>0.0</td>\n",
       "      <td>6/30/2014</td>\n",
       "      <td>7/31/2014</td>\n",
       "      <td>8/31/2014</td>\n",
       "      <td>156.362</td>\n",
       "      <td>205.260</td>\n",
       "      <td>111.095</td>\n",
       "      <td>...</td>\n",
       "      <td>0</td>\n",
       "      <td>0</td>\n",
       "      <td>NaN</td>\n",
       "      <td>NaN</td>\n",
       "      <td>NaN</td>\n",
       "      <td>982</td>\n",
       "      <td>0.0</td>\n",
       "      <td>0.0</td>\n",
       "      <td>0.0</td>\n",
       "      <td>0</td>\n",
       "    </tr>\n",
       "    <tr>\n",
       "      <th>4</th>\n",
       "      <td>109</td>\n",
       "      <td>0.0</td>\n",
       "      <td>0.0</td>\n",
       "      <td>0.0</td>\n",
       "      <td>6/30/2014</td>\n",
       "      <td>7/31/2014</td>\n",
       "      <td>8/31/2014</td>\n",
       "      <td>240.708</td>\n",
       "      <td>128.191</td>\n",
       "      <td>101.565</td>\n",
       "      <td>...</td>\n",
       "      <td>1</td>\n",
       "      <td>0</td>\n",
       "      <td>1.0</td>\n",
       "      <td>1.0</td>\n",
       "      <td>1.0</td>\n",
       "      <td>647</td>\n",
       "      <td>0.0</td>\n",
       "      <td>0.0</td>\n",
       "      <td>0.0</td>\n",
       "      <td>0</td>\n",
       "    </tr>\n",
       "  </tbody>\n",
       "</table>\n",
       "<p>5 rows × 171 columns</p>\n",
       "</div>"
      ],
      "text/plain": [
       "    circle_id  loc_og_t2o_mou  std_og_t2o_mou  loc_ic_t2o_mou  \\\n",
       "id                                                              \n",
       "0         109             0.0             0.0             0.0   \n",
       "1         109             0.0             0.0             0.0   \n",
       "2         109             0.0             0.0             0.0   \n",
       "3         109             0.0             0.0             0.0   \n",
       "4         109             0.0             0.0             0.0   \n",
       "\n",
       "   last_date_of_month_6 last_date_of_month_7 last_date_of_month_8   arpu_6  \\\n",
       "id                                                                           \n",
       "0             6/30/2014            7/31/2014            8/31/2014   31.277   \n",
       "1             6/30/2014            7/31/2014            8/31/2014    0.000   \n",
       "2             6/30/2014            7/31/2014            8/31/2014   60.806   \n",
       "3             6/30/2014            7/31/2014            8/31/2014  156.362   \n",
       "4             6/30/2014            7/31/2014            8/31/2014  240.708   \n",
       "\n",
       "     arpu_7   arpu_8  ...  sachet_3g_7  sachet_3g_8  fb_user_6  fb_user_7  \\\n",
       "id                    ...                                                   \n",
       "0    87.009    7.527  ...            0            0        NaN        NaN   \n",
       "1   122.787   42.953  ...            0            0        NaN        1.0   \n",
       "2   103.176    0.000  ...            0            0        NaN        NaN   \n",
       "3   205.260  111.095  ...            0            0        NaN        NaN   \n",
       "4   128.191  101.565  ...            1            0        1.0        1.0   \n",
       "\n",
       "    fb_user_8   aon  aug_vbc_3g  jul_vbc_3g  jun_vbc_3g  churn_probability  \n",
       "id                                                                          \n",
       "0         NaN  1958         0.0         0.0         0.0                  0  \n",
       "1         NaN   710         0.0         0.0         0.0                  0  \n",
       "2         NaN   882         0.0         0.0         0.0                  0  \n",
       "3         NaN   982         0.0         0.0         0.0                  0  \n",
       "4         1.0   647         0.0         0.0         0.0                  0  \n",
       "\n",
       "[5 rows x 171 columns]"
      ]
     },
     "execution_count": 4,
     "metadata": {},
     "output_type": "execute_result"
    }
   ],
   "source": [
    "telcom_data.head()"
   ]
  },
  {
   "cell_type": "code",
   "execution_count": 5,
   "id": "0179b5cf",
   "metadata": {
    "execution": {
     "iopub.execute_input": "2022-10-08T13:26:23.235980Z",
     "iopub.status.busy": "2022-10-08T13:26:23.235606Z",
     "iopub.status.idle": "2022-10-08T13:26:23.241661Z",
     "shell.execute_reply": "2022-10-08T13:26:23.240853Z"
    },
    "papermill": {
     "duration": 0.020805,
     "end_time": "2022-10-08T13:26:23.243752",
     "exception": false,
     "start_time": "2022-10-08T13:26:23.222947",
     "status": "completed"
    },
    "tags": []
   },
   "outputs": [
    {
     "data": {
      "text/plain": [
       "(69999, 171)"
      ]
     },
     "execution_count": 5,
     "metadata": {},
     "output_type": "execute_result"
    }
   ],
   "source": [
    "telcom_data.shape"
   ]
  },
  {
   "cell_type": "code",
   "execution_count": 6,
   "id": "c2136e10",
   "metadata": {
    "execution": {
     "iopub.execute_input": "2022-10-08T13:26:23.269275Z",
     "iopub.status.busy": "2022-10-08T13:26:23.267951Z",
     "iopub.status.idle": "2022-10-08T13:26:23.281235Z",
     "shell.execute_reply": "2022-10-08T13:26:23.280096Z"
    },
    "papermill": {
     "duration": 0.028566,
     "end_time": "2022-10-08T13:26:23.283957",
     "exception": false,
     "start_time": "2022-10-08T13:26:23.255391",
     "status": "completed"
    },
    "tags": []
   },
   "outputs": [
    {
     "data": {
      "text/plain": [
       "circle_id                     int64\n",
       "loc_og_t2o_mou              float64\n",
       "std_og_t2o_mou              float64\n",
       "loc_ic_t2o_mou              float64\n",
       "last_date_of_month_6         object\n",
       "last_date_of_month_7         object\n",
       "last_date_of_month_8         object\n",
       "arpu_6                      float64\n",
       "arpu_7                      float64\n",
       "arpu_8                      float64\n",
       "onnet_mou_6                 float64\n",
       "onnet_mou_7                 float64\n",
       "onnet_mou_8                 float64\n",
       "offnet_mou_6                float64\n",
       "offnet_mou_7                float64\n",
       "offnet_mou_8                float64\n",
       "roam_ic_mou_6               float64\n",
       "roam_ic_mou_7               float64\n",
       "roam_ic_mou_8               float64\n",
       "roam_og_mou_6               float64\n",
       "roam_og_mou_7               float64\n",
       "roam_og_mou_8               float64\n",
       "loc_og_t2t_mou_6            float64\n",
       "loc_og_t2t_mou_7            float64\n",
       "loc_og_t2t_mou_8            float64\n",
       "loc_og_t2m_mou_6            float64\n",
       "loc_og_t2m_mou_7            float64\n",
       "loc_og_t2m_mou_8            float64\n",
       "loc_og_t2f_mou_6            float64\n",
       "loc_og_t2f_mou_7            float64\n",
       "loc_og_t2f_mou_8            float64\n",
       "loc_og_t2c_mou_6            float64\n",
       "loc_og_t2c_mou_7            float64\n",
       "loc_og_t2c_mou_8            float64\n",
       "loc_og_mou_6                float64\n",
       "loc_og_mou_7                float64\n",
       "loc_og_mou_8                float64\n",
       "std_og_t2t_mou_6            float64\n",
       "std_og_t2t_mou_7            float64\n",
       "std_og_t2t_mou_8            float64\n",
       "std_og_t2m_mou_6            float64\n",
       "std_og_t2m_mou_7            float64\n",
       "std_og_t2m_mou_8            float64\n",
       "std_og_t2f_mou_6            float64\n",
       "std_og_t2f_mou_7            float64\n",
       "std_og_t2f_mou_8            float64\n",
       "std_og_t2c_mou_6            float64\n",
       "std_og_t2c_mou_7            float64\n",
       "std_og_t2c_mou_8            float64\n",
       "std_og_mou_6                float64\n",
       "std_og_mou_7                float64\n",
       "std_og_mou_8                float64\n",
       "isd_og_mou_6                float64\n",
       "isd_og_mou_7                float64\n",
       "isd_og_mou_8                float64\n",
       "spl_og_mou_6                float64\n",
       "spl_og_mou_7                float64\n",
       "spl_og_mou_8                float64\n",
       "og_others_6                 float64\n",
       "og_others_7                 float64\n",
       "og_others_8                 float64\n",
       "total_og_mou_6              float64\n",
       "total_og_mou_7              float64\n",
       "total_og_mou_8              float64\n",
       "loc_ic_t2t_mou_6            float64\n",
       "loc_ic_t2t_mou_7            float64\n",
       "loc_ic_t2t_mou_8            float64\n",
       "loc_ic_t2m_mou_6            float64\n",
       "loc_ic_t2m_mou_7            float64\n",
       "loc_ic_t2m_mou_8            float64\n",
       "loc_ic_t2f_mou_6            float64\n",
       "loc_ic_t2f_mou_7            float64\n",
       "loc_ic_t2f_mou_8            float64\n",
       "loc_ic_mou_6                float64\n",
       "loc_ic_mou_7                float64\n",
       "loc_ic_mou_8                float64\n",
       "std_ic_t2t_mou_6            float64\n",
       "std_ic_t2t_mou_7            float64\n",
       "std_ic_t2t_mou_8            float64\n",
       "std_ic_t2m_mou_6            float64\n",
       "std_ic_t2m_mou_7            float64\n",
       "std_ic_t2m_mou_8            float64\n",
       "std_ic_t2f_mou_6            float64\n",
       "std_ic_t2f_mou_7            float64\n",
       "std_ic_t2f_mou_8            float64\n",
       "std_ic_t2o_mou_6            float64\n",
       "std_ic_t2o_mou_7            float64\n",
       "std_ic_t2o_mou_8            float64\n",
       "std_ic_mou_6                float64\n",
       "std_ic_mou_7                float64\n",
       "std_ic_mou_8                float64\n",
       "total_ic_mou_6              float64\n",
       "total_ic_mou_7              float64\n",
       "total_ic_mou_8              float64\n",
       "spl_ic_mou_6                float64\n",
       "spl_ic_mou_7                float64\n",
       "spl_ic_mou_8                float64\n",
       "isd_ic_mou_6                float64\n",
       "isd_ic_mou_7                float64\n",
       "isd_ic_mou_8                float64\n",
       "ic_others_6                 float64\n",
       "ic_others_7                 float64\n",
       "ic_others_8                 float64\n",
       "total_rech_num_6              int64\n",
       "total_rech_num_7              int64\n",
       "total_rech_num_8              int64\n",
       "total_rech_amt_6              int64\n",
       "total_rech_amt_7              int64\n",
       "total_rech_amt_8              int64\n",
       "max_rech_amt_6                int64\n",
       "max_rech_amt_7                int64\n",
       "max_rech_amt_8                int64\n",
       "date_of_last_rech_6          object\n",
       "date_of_last_rech_7          object\n",
       "date_of_last_rech_8          object\n",
       "last_day_rch_amt_6            int64\n",
       "last_day_rch_amt_7            int64\n",
       "last_day_rch_amt_8            int64\n",
       "date_of_last_rech_data_6     object\n",
       "date_of_last_rech_data_7     object\n",
       "date_of_last_rech_data_8     object\n",
       "total_rech_data_6           float64\n",
       "total_rech_data_7           float64\n",
       "total_rech_data_8           float64\n",
       "max_rech_data_6             float64\n",
       "max_rech_data_7             float64\n",
       "max_rech_data_8             float64\n",
       "count_rech_2g_6             float64\n",
       "count_rech_2g_7             float64\n",
       "count_rech_2g_8             float64\n",
       "count_rech_3g_6             float64\n",
       "count_rech_3g_7             float64\n",
       "count_rech_3g_8             float64\n",
       "av_rech_amt_data_6          float64\n",
       "av_rech_amt_data_7          float64\n",
       "av_rech_amt_data_8          float64\n",
       "vol_2g_mb_6                 float64\n",
       "vol_2g_mb_7                 float64\n",
       "vol_2g_mb_8                 float64\n",
       "vol_3g_mb_6                 float64\n",
       "vol_3g_mb_7                 float64\n",
       "vol_3g_mb_8                 float64\n",
       "arpu_3g_6                   float64\n",
       "arpu_3g_7                   float64\n",
       "arpu_3g_8                   float64\n",
       "arpu_2g_6                   float64\n",
       "arpu_2g_7                   float64\n",
       "arpu_2g_8                   float64\n",
       "night_pck_user_6            float64\n",
       "night_pck_user_7            float64\n",
       "night_pck_user_8            float64\n",
       "monthly_2g_6                  int64\n",
       "monthly_2g_7                  int64\n",
       "monthly_2g_8                  int64\n",
       "sachet_2g_6                   int64\n",
       "sachet_2g_7                   int64\n",
       "sachet_2g_8                   int64\n",
       "monthly_3g_6                  int64\n",
       "monthly_3g_7                  int64\n",
       "monthly_3g_8                  int64\n",
       "sachet_3g_6                   int64\n",
       "sachet_3g_7                   int64\n",
       "sachet_3g_8                   int64\n",
       "fb_user_6                   float64\n",
       "fb_user_7                   float64\n",
       "fb_user_8                   float64\n",
       "aon                           int64\n",
       "aug_vbc_3g                  float64\n",
       "jul_vbc_3g                  float64\n",
       "jun_vbc_3g                  float64\n",
       "churn_probability             int64\n",
       "dtype: object"
      ]
     },
     "execution_count": 6,
     "metadata": {},
     "output_type": "execute_result"
    }
   ],
   "source": [
    "pd.set_option('display.max_rows', None)\n",
    "telcom_data.dtypes\n",
    "#pd.set_option('display.max_rows', 30)"
   ]
  },
  {
   "cell_type": "code",
   "execution_count": 7,
   "id": "4fc9afdc",
   "metadata": {
    "execution": {
     "iopub.execute_input": "2022-10-08T13:26:23.308865Z",
     "iopub.status.busy": "2022-10-08T13:26:23.308489Z",
     "iopub.status.idle": "2022-10-08T13:26:23.842107Z",
     "shell.execute_reply": "2022-10-08T13:26:23.840642Z"
    },
    "papermill": {
     "duration": 0.549881,
     "end_time": "2022-10-08T13:26:23.845456",
     "exception": false,
     "start_time": "2022-10-08T13:26:23.295575",
     "status": "completed"
    },
    "tags": []
   },
   "outputs": [
    {
     "name": "stdout",
     "output_type": "stream",
     "text": [
      "['circle_id', 'loc_og_t2o_mou', 'std_og_t2o_mou', 'loc_ic_t2o_mou', 'last_date_of_month_6', 'last_date_of_month_7', 'last_date_of_month_8', 'std_og_t2c_mou_6', 'std_og_t2c_mou_7', 'std_og_t2c_mou_8', 'std_ic_t2o_mou_6', 'std_ic_t2o_mou_7', 'std_ic_t2o_mou_8']\n"
     ]
    }
   ],
   "source": [
    "# clean the data for safe checks like empty columns and empty rows...\n",
    "def sanity_clean_data(telcom_data):\n",
    "    #columns with all empty values to be removed\n",
    "    telcom_data.dropna(axis=1, how='all', inplace=True)\n",
    "    \n",
    "    #columns with all same values to be removed as they dont provide any insight\n",
    "    cols_nounique = [i for i in telcom_data.columns if telcom_data[i].nunique()==1]\n",
    "    telcom_data.drop(columns=cols_nounique, inplace=True, axis=1)\n",
    "    print(cols_nounique)\n",
    "    \n",
    "    #rows with all NAs to be removed\n",
    "    telcom_data.dropna(axis=0,how='all',inplace=True)\n",
    "    \n",
    "sanity_clean_data(telcom_data)    "
   ]
  },
  {
   "cell_type": "code",
   "execution_count": 8,
   "id": "3fffbf53",
   "metadata": {
    "execution": {
     "iopub.execute_input": "2022-10-08T13:26:23.870943Z",
     "iopub.status.busy": "2022-10-08T13:26:23.870519Z",
     "iopub.status.idle": "2022-10-08T13:26:23.877715Z",
     "shell.execute_reply": "2022-10-08T13:26:23.876395Z"
    },
    "papermill": {
     "duration": 0.022568,
     "end_time": "2022-10-08T13:26:23.880185",
     "exception": false,
     "start_time": "2022-10-08T13:26:23.857617",
     "status": "completed"
    },
    "tags": []
   },
   "outputs": [
    {
     "data": {
      "text/plain": [
       "(69999, 158)"
      ]
     },
     "execution_count": 8,
     "metadata": {},
     "output_type": "execute_result"
    }
   ],
   "source": [
    "telcom_data.shape"
   ]
  },
  {
   "cell_type": "code",
   "execution_count": 9,
   "id": "670e4586",
   "metadata": {
    "execution": {
     "iopub.execute_input": "2022-10-08T13:26:23.905874Z",
     "iopub.status.busy": "2022-10-08T13:26:23.905486Z",
     "iopub.status.idle": "2022-10-08T13:26:23.938670Z",
     "shell.execute_reply": "2022-10-08T13:26:23.937232Z"
    },
    "papermill": {
     "duration": 0.049131,
     "end_time": "2022-10-08T13:26:23.941293",
     "exception": false,
     "start_time": "2022-10-08T13:26:23.892162",
     "status": "completed"
    },
    "tags": []
   },
   "outputs": [
    {
     "data": {
      "text/html": [
       "<div>\n",
       "<style scoped>\n",
       "    .dataframe tbody tr th:only-of-type {\n",
       "        vertical-align: middle;\n",
       "    }\n",
       "\n",
       "    .dataframe tbody tr th {\n",
       "        vertical-align: top;\n",
       "    }\n",
       "\n",
       "    .dataframe thead th {\n",
       "        text-align: right;\n",
       "    }\n",
       "</style>\n",
       "<table border=\"1\" class=\"dataframe\">\n",
       "  <thead>\n",
       "    <tr style=\"text-align: right;\">\n",
       "      <th></th>\n",
       "      <th>arpu_6</th>\n",
       "      <th>arpu_7</th>\n",
       "      <th>arpu_8</th>\n",
       "      <th>onnet_mou_6</th>\n",
       "      <th>onnet_mou_7</th>\n",
       "      <th>onnet_mou_8</th>\n",
       "      <th>offnet_mou_6</th>\n",
       "      <th>offnet_mou_7</th>\n",
       "      <th>offnet_mou_8</th>\n",
       "      <th>roam_ic_mou_6</th>\n",
       "      <th>...</th>\n",
       "      <th>sachet_3g_7</th>\n",
       "      <th>sachet_3g_8</th>\n",
       "      <th>fb_user_6</th>\n",
       "      <th>fb_user_7</th>\n",
       "      <th>fb_user_8</th>\n",
       "      <th>aon</th>\n",
       "      <th>aug_vbc_3g</th>\n",
       "      <th>jul_vbc_3g</th>\n",
       "      <th>jun_vbc_3g</th>\n",
       "      <th>churn_probability</th>\n",
       "    </tr>\n",
       "    <tr>\n",
       "      <th>id</th>\n",
       "      <th></th>\n",
       "      <th></th>\n",
       "      <th></th>\n",
       "      <th></th>\n",
       "      <th></th>\n",
       "      <th></th>\n",
       "      <th></th>\n",
       "      <th></th>\n",
       "      <th></th>\n",
       "      <th></th>\n",
       "      <th></th>\n",
       "      <th></th>\n",
       "      <th></th>\n",
       "      <th></th>\n",
       "      <th></th>\n",
       "      <th></th>\n",
       "      <th></th>\n",
       "      <th></th>\n",
       "      <th></th>\n",
       "      <th></th>\n",
       "      <th></th>\n",
       "    </tr>\n",
       "  </thead>\n",
       "  <tbody>\n",
       "    <tr>\n",
       "      <th>0</th>\n",
       "      <td>31.277</td>\n",
       "      <td>87.009</td>\n",
       "      <td>7.527</td>\n",
       "      <td>48.58</td>\n",
       "      <td>124.38</td>\n",
       "      <td>1.29</td>\n",
       "      <td>32.24</td>\n",
       "      <td>96.68</td>\n",
       "      <td>2.33</td>\n",
       "      <td>0.00</td>\n",
       "      <td>...</td>\n",
       "      <td>0</td>\n",
       "      <td>0</td>\n",
       "      <td>NaN</td>\n",
       "      <td>NaN</td>\n",
       "      <td>NaN</td>\n",
       "      <td>1958</td>\n",
       "      <td>0.0</td>\n",
       "      <td>0.0</td>\n",
       "      <td>0.0</td>\n",
       "      <td>0</td>\n",
       "    </tr>\n",
       "    <tr>\n",
       "      <th>1</th>\n",
       "      <td>0.000</td>\n",
       "      <td>122.787</td>\n",
       "      <td>42.953</td>\n",
       "      <td>0.00</td>\n",
       "      <td>0.00</td>\n",
       "      <td>0.00</td>\n",
       "      <td>0.00</td>\n",
       "      <td>25.99</td>\n",
       "      <td>30.89</td>\n",
       "      <td>0.00</td>\n",
       "      <td>...</td>\n",
       "      <td>0</td>\n",
       "      <td>0</td>\n",
       "      <td>NaN</td>\n",
       "      <td>1.0</td>\n",
       "      <td>NaN</td>\n",
       "      <td>710</td>\n",
       "      <td>0.0</td>\n",
       "      <td>0.0</td>\n",
       "      <td>0.0</td>\n",
       "      <td>0</td>\n",
       "    </tr>\n",
       "    <tr>\n",
       "      <th>2</th>\n",
       "      <td>60.806</td>\n",
       "      <td>103.176</td>\n",
       "      <td>0.000</td>\n",
       "      <td>0.53</td>\n",
       "      <td>15.93</td>\n",
       "      <td>0.00</td>\n",
       "      <td>53.99</td>\n",
       "      <td>82.05</td>\n",
       "      <td>0.00</td>\n",
       "      <td>0.00</td>\n",
       "      <td>...</td>\n",
       "      <td>0</td>\n",
       "      <td>0</td>\n",
       "      <td>NaN</td>\n",
       "      <td>NaN</td>\n",
       "      <td>NaN</td>\n",
       "      <td>882</td>\n",
       "      <td>0.0</td>\n",
       "      <td>0.0</td>\n",
       "      <td>0.0</td>\n",
       "      <td>0</td>\n",
       "    </tr>\n",
       "    <tr>\n",
       "      <th>3</th>\n",
       "      <td>156.362</td>\n",
       "      <td>205.260</td>\n",
       "      <td>111.095</td>\n",
       "      <td>7.26</td>\n",
       "      <td>16.01</td>\n",
       "      <td>0.00</td>\n",
       "      <td>68.76</td>\n",
       "      <td>78.48</td>\n",
       "      <td>50.23</td>\n",
       "      <td>0.00</td>\n",
       "      <td>...</td>\n",
       "      <td>0</td>\n",
       "      <td>0</td>\n",
       "      <td>NaN</td>\n",
       "      <td>NaN</td>\n",
       "      <td>NaN</td>\n",
       "      <td>982</td>\n",
       "      <td>0.0</td>\n",
       "      <td>0.0</td>\n",
       "      <td>0.0</td>\n",
       "      <td>0</td>\n",
       "    </tr>\n",
       "    <tr>\n",
       "      <th>4</th>\n",
       "      <td>240.708</td>\n",
       "      <td>128.191</td>\n",
       "      <td>101.565</td>\n",
       "      <td>21.28</td>\n",
       "      <td>4.83</td>\n",
       "      <td>6.13</td>\n",
       "      <td>56.99</td>\n",
       "      <td>38.11</td>\n",
       "      <td>9.63</td>\n",
       "      <td>53.64</td>\n",
       "      <td>...</td>\n",
       "      <td>1</td>\n",
       "      <td>0</td>\n",
       "      <td>1.0</td>\n",
       "      <td>1.0</td>\n",
       "      <td>1.0</td>\n",
       "      <td>647</td>\n",
       "      <td>0.0</td>\n",
       "      <td>0.0</td>\n",
       "      <td>0.0</td>\n",
       "      <td>0</td>\n",
       "    </tr>\n",
       "  </tbody>\n",
       "</table>\n",
       "<p>5 rows × 158 columns</p>\n",
       "</div>"
      ],
      "text/plain": [
       "     arpu_6   arpu_7   arpu_8  onnet_mou_6  onnet_mou_7  onnet_mou_8  \\\n",
       "id                                                                     \n",
       "0    31.277   87.009    7.527        48.58       124.38         1.29   \n",
       "1     0.000  122.787   42.953         0.00         0.00         0.00   \n",
       "2    60.806  103.176    0.000         0.53        15.93         0.00   \n",
       "3   156.362  205.260  111.095         7.26        16.01         0.00   \n",
       "4   240.708  128.191  101.565        21.28         4.83         6.13   \n",
       "\n",
       "    offnet_mou_6  offnet_mou_7  offnet_mou_8  roam_ic_mou_6  ...  sachet_3g_7  \\\n",
       "id                                                           ...                \n",
       "0          32.24         96.68          2.33           0.00  ...            0   \n",
       "1           0.00         25.99         30.89           0.00  ...            0   \n",
       "2          53.99         82.05          0.00           0.00  ...            0   \n",
       "3          68.76         78.48         50.23           0.00  ...            0   \n",
       "4          56.99         38.11          9.63          53.64  ...            1   \n",
       "\n",
       "    sachet_3g_8  fb_user_6  fb_user_7  fb_user_8   aon  aug_vbc_3g  \\\n",
       "id                                                                   \n",
       "0             0        NaN        NaN        NaN  1958         0.0   \n",
       "1             0        NaN        1.0        NaN   710         0.0   \n",
       "2             0        NaN        NaN        NaN   882         0.0   \n",
       "3             0        NaN        NaN        NaN   982         0.0   \n",
       "4             0        1.0        1.0        1.0   647         0.0   \n",
       "\n",
       "    jul_vbc_3g  jun_vbc_3g  churn_probability  \n",
       "id                                             \n",
       "0          0.0         0.0                  0  \n",
       "1          0.0         0.0                  0  \n",
       "2          0.0         0.0                  0  \n",
       "3          0.0         0.0                  0  \n",
       "4          0.0         0.0                  0  \n",
       "\n",
       "[5 rows x 158 columns]"
      ]
     },
     "execution_count": 9,
     "metadata": {},
     "output_type": "execute_result"
    }
   ],
   "source": [
    "telcom_data.head()"
   ]
  },
  {
   "cell_type": "code",
   "execution_count": 10,
   "id": "9613b180",
   "metadata": {
    "execution": {
     "iopub.execute_input": "2022-10-08T13:26:23.967919Z",
     "iopub.status.busy": "2022-10-08T13:26:23.967523Z",
     "iopub.status.idle": "2022-10-08T13:26:24.196736Z",
     "shell.execute_reply": "2022-10-08T13:26:24.195626Z"
    },
    "papermill": {
     "duration": 0.245984,
     "end_time": "2022-10-08T13:26:24.199593",
     "exception": false,
     "start_time": "2022-10-08T13:26:23.953609",
     "status": "completed"
    },
    "tags": []
   },
   "outputs": [],
   "source": [
    "telcom_data.dtypes\n",
    "#since the data is only from year 2014, converting it to day of the year.\n",
    "# to keep it extensible for any other years, multiplying it with days in year + day in year\n",
    "def reform_dates(telcom_data):\n",
    "    date_cols = ['date_of_last_rech_6', 'date_of_last_rech_7', 'date_of_last_rech_8', 'date_of_last_rech_data_6', 'date_of_last_rech_data_7', 'date_of_last_rech_data_8']\n",
    "    for col_name in date_cols:\n",
    "        telcom_data[col_name] = pd.to_datetime(telcom_data[col_name]).dt.year*366 + pd.to_datetime(telcom_data[col_name]).dt.dayofyear\n",
    "    return telcom_data\n",
    "telcom_data = reform_dates(telcom_data)\n",
    "#DatetimeIndex(telcom_data['date_of_last_rech_6']).day"
   ]
  },
  {
   "cell_type": "code",
   "execution_count": null,
   "id": "dcaab590",
   "metadata": {
    "papermill": {
     "duration": 0.011856,
     "end_time": "2022-10-08T13:26:24.223642",
     "exception": false,
     "start_time": "2022-10-08T13:26:24.211786",
     "status": "completed"
    },
    "tags": []
   },
   "outputs": [],
   "source": []
  },
  {
   "cell_type": "code",
   "execution_count": null,
   "id": "707af043",
   "metadata": {
    "papermill": {
     "duration": 0.011767,
     "end_time": "2022-10-08T13:26:24.247441",
     "exception": false,
     "start_time": "2022-10-08T13:26:24.235674",
     "status": "completed"
    },
    "tags": []
   },
   "outputs": [],
   "source": []
  },
  {
   "cell_type": "code",
   "execution_count": 11,
   "id": "6475edd0",
   "metadata": {
    "execution": {
     "iopub.execute_input": "2022-10-08T13:26:24.274393Z",
     "iopub.status.busy": "2022-10-08T13:26:24.273947Z",
     "iopub.status.idle": "2022-10-08T13:26:24.292452Z",
     "shell.execute_reply": "2022-10-08T13:26:24.291278Z"
    },
    "papermill": {
     "duration": 0.03461,
     "end_time": "2022-10-08T13:26:24.294952",
     "exception": false,
     "start_time": "2022-10-08T13:26:24.260342",
     "status": "completed"
    },
    "tags": []
   },
   "outputs": [
    {
     "data": {
      "text/plain": [
       "Index(['onnet_mou_6', 'onnet_mou_7', 'onnet_mou_8', 'offnet_mou_6',\n",
       "       'offnet_mou_7', 'offnet_mou_8', 'roam_ic_mou_6', 'roam_ic_mou_7',\n",
       "       'roam_ic_mou_8', 'roam_og_mou_6',\n",
       "       ...\n",
       "       'arpu_3g_8', 'arpu_2g_6', 'arpu_2g_7', 'arpu_2g_8', 'night_pck_user_6',\n",
       "       'night_pck_user_7', 'night_pck_user_8', 'fb_user_6', 'fb_user_7',\n",
       "       'fb_user_8'],\n",
       "      dtype='object', length=114)"
      ]
     },
     "execution_count": 11,
     "metadata": {},
     "output_type": "execute_result"
    }
   ],
   "source": [
    "telcom_data.columns[telcom_data.isna().any()]"
   ]
  },
  {
   "cell_type": "code",
   "execution_count": 12,
   "id": "7d71e3cb",
   "metadata": {
    "execution": {
     "iopub.execute_input": "2022-10-08T13:26:24.321172Z",
     "iopub.status.busy": "2022-10-08T13:26:24.320738Z",
     "iopub.status.idle": "2022-10-08T13:26:24.329409Z",
     "shell.execute_reply": "2022-10-08T13:26:24.328228Z"
    },
    "papermill": {
     "duration": 0.024789,
     "end_time": "2022-10-08T13:26:24.331892",
     "exception": false,
     "start_time": "2022-10-08T13:26:24.307103",
     "status": "completed"
    },
    "tags": []
   },
   "outputs": [
    {
     "data": {
      "text/plain": [
       "array([nan,  1.,  0.])"
      ]
     },
     "execution_count": 12,
     "metadata": {},
     "output_type": "execute_result"
    }
   ],
   "source": [
    "telcom_data['fb_user_6'].unique()"
   ]
  },
  {
   "cell_type": "code",
   "execution_count": 13,
   "id": "895542ea",
   "metadata": {
    "execution": {
     "iopub.execute_input": "2022-10-08T13:26:24.358405Z",
     "iopub.status.busy": "2022-10-08T13:26:24.357589Z",
     "iopub.status.idle": "2022-10-08T13:26:24.370443Z",
     "shell.execute_reply": "2022-10-08T13:26:24.369164Z"
    },
    "papermill": {
     "duration": 0.028693,
     "end_time": "2022-10-08T13:26:24.372856",
     "exception": false,
     "start_time": "2022-10-08T13:26:24.344163",
     "status": "completed"
    },
    "tags": []
   },
   "outputs": [
    {
     "data": {
      "text/plain": [
       "arpu_6                      float64\n",
       "arpu_7                      float64\n",
       "arpu_8                      float64\n",
       "onnet_mou_6                 float64\n",
       "onnet_mou_7                 float64\n",
       "onnet_mou_8                 float64\n",
       "offnet_mou_6                float64\n",
       "offnet_mou_7                float64\n",
       "offnet_mou_8                float64\n",
       "roam_ic_mou_6               float64\n",
       "roam_ic_mou_7               float64\n",
       "roam_ic_mou_8               float64\n",
       "roam_og_mou_6               float64\n",
       "roam_og_mou_7               float64\n",
       "roam_og_mou_8               float64\n",
       "loc_og_t2t_mou_6            float64\n",
       "loc_og_t2t_mou_7            float64\n",
       "loc_og_t2t_mou_8            float64\n",
       "loc_og_t2m_mou_6            float64\n",
       "loc_og_t2m_mou_7            float64\n",
       "loc_og_t2m_mou_8            float64\n",
       "loc_og_t2f_mou_6            float64\n",
       "loc_og_t2f_mou_7            float64\n",
       "loc_og_t2f_mou_8            float64\n",
       "loc_og_t2c_mou_6            float64\n",
       "loc_og_t2c_mou_7            float64\n",
       "loc_og_t2c_mou_8            float64\n",
       "loc_og_mou_6                float64\n",
       "loc_og_mou_7                float64\n",
       "loc_og_mou_8                float64\n",
       "std_og_t2t_mou_6            float64\n",
       "std_og_t2t_mou_7            float64\n",
       "std_og_t2t_mou_8            float64\n",
       "std_og_t2m_mou_6            float64\n",
       "std_og_t2m_mou_7            float64\n",
       "std_og_t2m_mou_8            float64\n",
       "std_og_t2f_mou_6            float64\n",
       "std_og_t2f_mou_7            float64\n",
       "std_og_t2f_mou_8            float64\n",
       "std_og_mou_6                float64\n",
       "std_og_mou_7                float64\n",
       "std_og_mou_8                float64\n",
       "isd_og_mou_6                float64\n",
       "isd_og_mou_7                float64\n",
       "isd_og_mou_8                float64\n",
       "spl_og_mou_6                float64\n",
       "spl_og_mou_7                float64\n",
       "spl_og_mou_8                float64\n",
       "og_others_6                 float64\n",
       "og_others_7                 float64\n",
       "og_others_8                 float64\n",
       "total_og_mou_6              float64\n",
       "total_og_mou_7              float64\n",
       "total_og_mou_8              float64\n",
       "loc_ic_t2t_mou_6            float64\n",
       "loc_ic_t2t_mou_7            float64\n",
       "loc_ic_t2t_mou_8            float64\n",
       "loc_ic_t2m_mou_6            float64\n",
       "loc_ic_t2m_mou_7            float64\n",
       "loc_ic_t2m_mou_8            float64\n",
       "loc_ic_t2f_mou_6            float64\n",
       "loc_ic_t2f_mou_7            float64\n",
       "loc_ic_t2f_mou_8            float64\n",
       "loc_ic_mou_6                float64\n",
       "loc_ic_mou_7                float64\n",
       "loc_ic_mou_8                float64\n",
       "std_ic_t2t_mou_6            float64\n",
       "std_ic_t2t_mou_7            float64\n",
       "std_ic_t2t_mou_8            float64\n",
       "std_ic_t2m_mou_6            float64\n",
       "std_ic_t2m_mou_7            float64\n",
       "std_ic_t2m_mou_8            float64\n",
       "std_ic_t2f_mou_6            float64\n",
       "std_ic_t2f_mou_7            float64\n",
       "std_ic_t2f_mou_8            float64\n",
       "std_ic_mou_6                float64\n",
       "std_ic_mou_7                float64\n",
       "std_ic_mou_8                float64\n",
       "total_ic_mou_6              float64\n",
       "total_ic_mou_7              float64\n",
       "total_ic_mou_8              float64\n",
       "spl_ic_mou_6                float64\n",
       "spl_ic_mou_7                float64\n",
       "spl_ic_mou_8                float64\n",
       "isd_ic_mou_6                float64\n",
       "isd_ic_mou_7                float64\n",
       "isd_ic_mou_8                float64\n",
       "ic_others_6                 float64\n",
       "ic_others_7                 float64\n",
       "ic_others_8                 float64\n",
       "total_rech_num_6              int64\n",
       "total_rech_num_7              int64\n",
       "total_rech_num_8              int64\n",
       "total_rech_amt_6              int64\n",
       "total_rech_amt_7              int64\n",
       "total_rech_amt_8              int64\n",
       "max_rech_amt_6                int64\n",
       "max_rech_amt_7                int64\n",
       "max_rech_amt_8                int64\n",
       "date_of_last_rech_6         float64\n",
       "date_of_last_rech_7         float64\n",
       "date_of_last_rech_8         float64\n",
       "last_day_rch_amt_6            int64\n",
       "last_day_rch_amt_7            int64\n",
       "last_day_rch_amt_8            int64\n",
       "date_of_last_rech_data_6    float64\n",
       "date_of_last_rech_data_7    float64\n",
       "date_of_last_rech_data_8    float64\n",
       "total_rech_data_6           float64\n",
       "total_rech_data_7           float64\n",
       "total_rech_data_8           float64\n",
       "max_rech_data_6             float64\n",
       "max_rech_data_7             float64\n",
       "max_rech_data_8             float64\n",
       "count_rech_2g_6             float64\n",
       "count_rech_2g_7             float64\n",
       "count_rech_2g_8             float64\n",
       "count_rech_3g_6             float64\n",
       "count_rech_3g_7             float64\n",
       "count_rech_3g_8             float64\n",
       "av_rech_amt_data_6          float64\n",
       "av_rech_amt_data_7          float64\n",
       "av_rech_amt_data_8          float64\n",
       "vol_2g_mb_6                 float64\n",
       "vol_2g_mb_7                 float64\n",
       "vol_2g_mb_8                 float64\n",
       "vol_3g_mb_6                 float64\n",
       "vol_3g_mb_7                 float64\n",
       "vol_3g_mb_8                 float64\n",
       "arpu_3g_6                   float64\n",
       "arpu_3g_7                   float64\n",
       "arpu_3g_8                   float64\n",
       "arpu_2g_6                   float64\n",
       "arpu_2g_7                   float64\n",
       "arpu_2g_8                   float64\n",
       "night_pck_user_6            float64\n",
       "night_pck_user_7            float64\n",
       "night_pck_user_8            float64\n",
       "monthly_2g_6                  int64\n",
       "monthly_2g_7                  int64\n",
       "monthly_2g_8                  int64\n",
       "sachet_2g_6                   int64\n",
       "sachet_2g_7                   int64\n",
       "sachet_2g_8                   int64\n",
       "monthly_3g_6                  int64\n",
       "monthly_3g_7                  int64\n",
       "monthly_3g_8                  int64\n",
       "sachet_3g_6                   int64\n",
       "sachet_3g_7                   int64\n",
       "sachet_3g_8                   int64\n",
       "fb_user_6                   float64\n",
       "fb_user_7                   float64\n",
       "fb_user_8                   float64\n",
       "aon                           int64\n",
       "aug_vbc_3g                  float64\n",
       "jul_vbc_3g                  float64\n",
       "jun_vbc_3g                  float64\n",
       "churn_probability             int64\n",
       "dtype: object"
      ]
     },
     "execution_count": 13,
     "metadata": {},
     "output_type": "execute_result"
    }
   ],
   "source": [
    "pd.set_option('display.max_rows', None)\n",
    "telcom_data.dtypes"
   ]
  },
  {
   "cell_type": "code",
   "execution_count": 14,
   "id": "0ef55fbf",
   "metadata": {
    "execution": {
     "iopub.execute_input": "2022-10-08T13:26:24.399967Z",
     "iopub.status.busy": "2022-10-08T13:26:24.399538Z",
     "iopub.status.idle": "2022-10-08T13:26:24.404754Z",
     "shell.execute_reply": "2022-10-08T13:26:24.403496Z"
    },
    "papermill": {
     "duration": 0.021705,
     "end_time": "2022-10-08T13:26:24.407232",
     "exception": false,
     "start_time": "2022-10-08T13:26:24.385527",
     "status": "completed"
    },
    "tags": []
   },
   "outputs": [],
   "source": [
    "# aug_vbc_3g, jul_vbc_3g, jun_vbc_3g are not following same naming standard, let's rename these columns\n",
    "#telcom_data.rename(columns = {'aug_vbc_3g':'vbc_3g_8', 'jul_vbc_3g': 'vbc_3g_7', 'jun_vbc_3g': 'vbc_3g_6' }, inplace = True)"
   ]
  },
  {
   "cell_type": "code",
   "execution_count": 15,
   "id": "89933bbe",
   "metadata": {
    "execution": {
     "iopub.execute_input": "2022-10-08T13:26:24.434036Z",
     "iopub.status.busy": "2022-10-08T13:26:24.433621Z",
     "iopub.status.idle": "2022-10-08T13:26:24.442381Z",
     "shell.execute_reply": "2022-10-08T13:26:24.441198Z"
    },
    "papermill": {
     "duration": 0.025008,
     "end_time": "2022-10-08T13:26:24.444795",
     "exception": false,
     "start_time": "2022-10-08T13:26:24.419787",
     "status": "completed"
    },
    "tags": []
   },
   "outputs": [
    {
     "data": {
      "text/plain": [
       "['date_of_last_rech_6',\n",
       " 'date_of_last_rech_data_6',\n",
       " 'night_pck_user_6',\n",
       " 'date_of_last_rech_7',\n",
       " 'date_of_last_rech_data_7',\n",
       " 'night_pck_user_7',\n",
       " 'date_of_last_rech_8',\n",
       " 'date_of_last_rech_data_8',\n",
       " 'night_pck_user_8']"
      ]
     },
     "execution_count": 15,
     "metadata": {},
     "output_type": "execute_result"
    }
   ],
   "source": [
    "#Lets look at the data dictionary and classify numeric vs categorical columns\n",
    "cat_col_prefix = ['date_of_last_rech_','date_of_last_rech_data_','night_pck_user_']\n",
    "cat_cols = []\n",
    "for i in range(6,9):\n",
    "    for prefix in cat_col_prefix:\n",
    "        cat_cols.append(prefix+str(i));\n",
    "cat_cols"
   ]
  },
  {
   "cell_type": "code",
   "execution_count": 16,
   "id": "a79928cb",
   "metadata": {
    "execution": {
     "iopub.execute_input": "2022-10-08T13:26:24.471667Z",
     "iopub.status.busy": "2022-10-08T13:26:24.471269Z",
     "iopub.status.idle": "2022-10-08T13:26:24.476817Z",
     "shell.execute_reply": "2022-10-08T13:26:24.475512Z"
    },
    "papermill": {
     "duration": 0.021614,
     "end_time": "2022-10-08T13:26:24.479072",
     "exception": false,
     "start_time": "2022-10-08T13:26:24.457458",
     "status": "completed"
    },
    "tags": []
   },
   "outputs": [],
   "source": [
    "num_cols = [i for i in telcom_data.columns if i not in cat_cols]"
   ]
  },
  {
   "cell_type": "code",
   "execution_count": 17,
   "id": "613e4919",
   "metadata": {
    "execution": {
     "iopub.execute_input": "2022-10-08T13:26:24.505967Z",
     "iopub.status.busy": "2022-10-08T13:26:24.505575Z",
     "iopub.status.idle": "2022-10-08T13:26:24.720718Z",
     "shell.execute_reply": "2022-10-08T13:26:24.719560Z"
    },
    "papermill": {
     "duration": 0.231899,
     "end_time": "2022-10-08T13:26:24.723664",
     "exception": false,
     "start_time": "2022-10-08T13:26:24.491765",
     "status": "completed"
    },
    "tags": []
   },
   "outputs": [],
   "source": [
    "#Missing values imputation:\n",
    "# impute all numeric cols with median and categorical ones with mode\n",
    "#for col in num_cols:\n",
    "#    telcom_data[col].fillna(telcom_data[col].median(), inplace=True)\n",
    "def impute_missing_values(data):\n",
    "    #impute non applicable data with zeros\n",
    "    data[num_cols] = data.filter(num_cols).fillna(0)#data.median(numeric_only=True).iloc[0])\n",
    "    data[cat_cols] = data.filter(cat_cols).fillna(0)#data.mode().iloc[0])\n",
    "    return data;\n",
    "telcom_data = impute_missing_values(telcom_data)"
   ]
  },
  {
   "cell_type": "code",
   "execution_count": 18,
   "id": "e0991d5e",
   "metadata": {
    "execution": {
     "iopub.execute_input": "2022-10-08T13:26:24.750501Z",
     "iopub.status.busy": "2022-10-08T13:26:24.750107Z",
     "iopub.status.idle": "2022-10-08T13:26:24.778060Z",
     "shell.execute_reply": "2022-10-08T13:26:24.777177Z"
    },
    "papermill": {
     "duration": 0.044104,
     "end_time": "2022-10-08T13:26:24.780413",
     "exception": false,
     "start_time": "2022-10-08T13:26:24.736309",
     "status": "completed"
    },
    "tags": []
   },
   "outputs": [
    {
     "data": {
      "text/plain": [
       "Index([], dtype='object')"
      ]
     },
     "execution_count": 18,
     "metadata": {},
     "output_type": "execute_result"
    }
   ],
   "source": [
    "telcom_data.columns[telcom_data.isna().sum()>0]"
   ]
  },
  {
   "cell_type": "code",
   "execution_count": 19,
   "id": "d8b5126f",
   "metadata": {
    "execution": {
     "iopub.execute_input": "2022-10-08T13:26:24.807668Z",
     "iopub.status.busy": "2022-10-08T13:26:24.807257Z",
     "iopub.status.idle": "2022-10-08T13:26:24.814352Z",
     "shell.execute_reply": "2022-10-08T13:26:24.813229Z"
    },
    "papermill": {
     "duration": 0.02348,
     "end_time": "2022-10-08T13:26:24.816665",
     "exception": false,
     "start_time": "2022-10-08T13:26:24.793185",
     "status": "completed"
    },
    "tags": []
   },
   "outputs": [
    {
     "data": {
      "text/plain": [
       "(69999, 158)"
      ]
     },
     "execution_count": 19,
     "metadata": {},
     "output_type": "execute_result"
    }
   ],
   "source": [
    "#telcom_data['night_pck_user_6']#, 'night_pck_user_7', 'night_pck_user_8']\n",
    "telcom_data.shape"
   ]
  },
  {
   "cell_type": "code",
   "execution_count": 20,
   "id": "49539464",
   "metadata": {
    "execution": {
     "iopub.execute_input": "2022-10-08T13:26:24.845154Z",
     "iopub.status.busy": "2022-10-08T13:26:24.844057Z",
     "iopub.status.idle": "2022-10-08T13:26:24.876326Z",
     "shell.execute_reply": "2022-10-08T13:26:24.875275Z"
    },
    "papermill": {
     "duration": 0.048991,
     "end_time": "2022-10-08T13:26:24.878939",
     "exception": false,
     "start_time": "2022-10-08T13:26:24.829948",
     "status": "completed"
    },
    "tags": []
   },
   "outputs": [],
   "source": [
    "X = telcom_data.iloc[:,0:157]\n",
    "y = telcom_data['churn_probability']"
   ]
  },
  {
   "cell_type": "code",
   "execution_count": 21,
   "id": "d0703e8b",
   "metadata": {
    "execution": {
     "iopub.execute_input": "2022-10-08T13:26:24.906957Z",
     "iopub.status.busy": "2022-10-08T13:26:24.906547Z",
     "iopub.status.idle": "2022-10-08T13:26:26.268263Z",
     "shell.execute_reply": "2022-10-08T13:26:26.266979Z"
    },
    "papermill": {
     "duration": 1.378821,
     "end_time": "2022-10-08T13:26:26.270985",
     "exception": false,
     "start_time": "2022-10-08T13:26:24.892164",
     "status": "completed"
    },
    "tags": []
   },
   "outputs": [],
   "source": [
    "from sklearn.preprocessing import StandardScaler\n",
    "x_std = StandardScaler().fit_transform(X)\n"
   ]
  },
  {
   "cell_type": "code",
   "execution_count": 22,
   "id": "f0d2f9ee",
   "metadata": {
    "execution": {
     "iopub.execute_input": "2022-10-08T13:26:26.298910Z",
     "iopub.status.busy": "2022-10-08T13:26:26.298483Z",
     "iopub.status.idle": "2022-10-08T13:26:28.570691Z",
     "shell.execute_reply": "2022-10-08T13:26:28.569452Z"
    },
    "papermill": {
     "duration": 2.289971,
     "end_time": "2022-10-08T13:26:28.574183",
     "exception": false,
     "start_time": "2022-10-08T13:26:26.284212",
     "status": "completed"
    },
    "tags": []
   },
   "outputs": [
    {
     "data": {
      "text/plain": [
       "(69999, 16)"
      ]
     },
     "execution_count": 22,
     "metadata": {},
     "output_type": "execute_result"
    }
   ],
   "source": [
    "from sklearn.decomposition import IncrementalPCA\n",
    "pca = IncrementalPCA(n_components=16)\n",
    "X_train_pca = pca.fit_transform(x_std)\n",
    "X_train_pca.shape"
   ]
  },
  {
   "cell_type": "code",
   "execution_count": 23,
   "id": "b2ed3cd1",
   "metadata": {
    "execution": {
     "iopub.execute_input": "2022-10-08T13:26:28.620500Z",
     "iopub.status.busy": "2022-10-08T13:26:28.619887Z",
     "iopub.status.idle": "2022-10-08T13:26:28.700152Z",
     "shell.execute_reply": "2022-10-08T13:26:28.699206Z"
    },
    "papermill": {
     "duration": 0.107852,
     "end_time": "2022-10-08T13:26:28.703565",
     "exception": false,
     "start_time": "2022-10-08T13:26:28.595713",
     "status": "completed"
    },
    "tags": []
   },
   "outputs": [],
   "source": [
    "from sklearn.tree import DecisionTreeClassifier\n",
    "dt_base = DecisionTreeClassifier(random_state=42, max_depth=4)"
   ]
  },
  {
   "cell_type": "code",
   "execution_count": 24,
   "id": "02a07e4f",
   "metadata": {
    "execution": {
     "iopub.execute_input": "2022-10-08T13:26:28.732790Z",
     "iopub.status.busy": "2022-10-08T13:26:28.731688Z",
     "iopub.status.idle": "2022-10-08T13:26:31.405802Z",
     "shell.execute_reply": "2022-10-08T13:26:31.404561Z"
    },
    "papermill": {
     "duration": 2.691406,
     "end_time": "2022-10-08T13:26:31.408545",
     "exception": false,
     "start_time": "2022-10-08T13:26:28.717139",
     "status": "completed"
    },
    "tags": []
   },
   "outputs": [
    {
     "data": {
      "text/plain": [
       "DecisionTreeClassifier(max_depth=4, random_state=42)"
      ]
     },
     "execution_count": 24,
     "metadata": {},
     "output_type": "execute_result"
    }
   ],
   "source": [
    "dt_base.fit(X, y)"
   ]
  },
  {
   "cell_type": "code",
   "execution_count": 25,
   "id": "ca3531af",
   "metadata": {
    "execution": {
     "iopub.execute_input": "2022-10-08T13:26:31.437630Z",
     "iopub.status.busy": "2022-10-08T13:26:31.437220Z",
     "iopub.status.idle": "2022-10-08T13:26:31.505684Z",
     "shell.execute_reply": "2022-10-08T13:26:31.504500Z"
    },
    "papermill": {
     "duration": 0.086162,
     "end_time": "2022-10-08T13:26:31.508531",
     "exception": false,
     "start_time": "2022-10-08T13:26:31.422369",
     "status": "completed"
    },
    "tags": []
   },
   "outputs": [],
   "source": [
    "y_train_pred = dt_base.predict(X)"
   ]
  },
  {
   "cell_type": "code",
   "execution_count": 26,
   "id": "cd7d12bb",
   "metadata": {
    "execution": {
     "iopub.execute_input": "2022-10-08T13:26:31.537128Z",
     "iopub.status.busy": "2022-10-08T13:26:31.536031Z",
     "iopub.status.idle": "2022-10-08T13:26:31.566228Z",
     "shell.execute_reply": "2022-10-08T13:26:31.564711Z"
    },
    "papermill": {
     "duration": 0.047115,
     "end_time": "2022-10-08T13:26:31.568674",
     "exception": false,
     "start_time": "2022-10-08T13:26:31.521559",
     "status": "completed"
    },
    "tags": []
   },
   "outputs": [
    {
     "name": "stdout",
     "output_type": "stream",
     "text": [
      "0.9418848840697724\n"
     ]
    },
    {
     "data": {
      "text/plain": [
       "array([[61608,  1259],\n",
       "       [ 2809,  4323]])"
      ]
     },
     "execution_count": 26,
     "metadata": {},
     "output_type": "execute_result"
    }
   ],
   "source": [
    "from sklearn.metrics import confusion_matrix, accuracy_score\n",
    "print(accuracy_score(y, y_train_pred))\n",
    "confusion_matrix(y, y_train_pred)"
   ]
  },
  {
   "cell_type": "markdown",
   "id": "dbfb1ba6",
   "metadata": {
    "papermill": {
     "duration": 0.013144,
     "end_time": "2022-10-08T13:26:31.595404",
     "exception": false,
     "start_time": "2022-10-08T13:26:31.582260",
     "status": "completed"
    },
    "tags": []
   },
   "source": [
    "## "
   ]
  },
  {
   "cell_type": "code",
   "execution_count": 27,
   "id": "1cd3d863",
   "metadata": {
    "execution": {
     "iopub.execute_input": "2022-10-08T13:26:31.623553Z",
     "iopub.status.busy": "2022-10-08T13:26:31.623143Z",
     "iopub.status.idle": "2022-10-08T13:26:32.841441Z",
     "shell.execute_reply": "2022-10-08T13:26:32.840354Z"
    },
    "papermill": {
     "duration": 1.236247,
     "end_time": "2022-10-08T13:26:32.844811",
     "exception": false,
     "start_time": "2022-10-08T13:26:31.608564",
     "status": "completed"
    },
    "tags": []
   },
   "outputs": [],
   "source": [
    "test_data = pd.read_csv('/kaggle/input/telecom-churn-case-study-hackathon-c40/test.csv');\n",
    "#test_data.set_index('id', inplace=True)\n",
    "test_data = reform_dates(test_data)\n",
    "test_data['churn_probability'] = 0\n",
    "test_data = impute_missing_values(test_data)\n",
    "y_test = test_data.pop('churn_probability')\n",
    "X_test = test_data[X.columns]"
   ]
  },
  {
   "cell_type": "code",
   "execution_count": 28,
   "id": "55329735",
   "metadata": {
    "execution": {
     "iopub.execute_input": "2022-10-08T13:26:32.876124Z",
     "iopub.status.busy": "2022-10-08T13:26:32.875691Z",
     "iopub.status.idle": "2022-10-08T13:26:32.952331Z",
     "shell.execute_reply": "2022-10-08T13:26:32.950892Z"
    },
    "papermill": {
     "duration": 0.094545,
     "end_time": "2022-10-08T13:26:32.955119",
     "exception": false,
     "start_time": "2022-10-08T13:26:32.860574",
     "status": "completed"
    },
    "tags": []
   },
   "outputs": [],
   "source": [
    "\n",
    "test_data['churn_probability'] = dt_base.predict(X_test)\n",
    "solution = test_data[['id', 'churn_probability']]\n",
    "solution.set_index('id', inplace=True)\n",
    "solution.to_csv('solution.csv', header=True, index=True)"
   ]
  },
  {
   "cell_type": "code",
   "execution_count": null,
   "id": "1b604e23",
   "metadata": {
    "execution": {
     "iopub.execute_input": "2022-10-08T12:18:23.911023Z",
     "iopub.status.busy": "2022-10-08T12:18:23.910574Z",
     "iopub.status.idle": "2022-10-08T12:18:23.944557Z",
     "shell.execute_reply": "2022-10-08T12:18:23.943563Z",
     "shell.execute_reply.started": "2022-10-08T12:18:23.910988Z"
    },
    "papermill": {
     "duration": 0.013056,
     "end_time": "2022-10-08T13:26:32.981948",
     "exception": false,
     "start_time": "2022-10-08T13:26:32.968892",
     "status": "completed"
    },
    "tags": []
   },
   "outputs": [],
   "source": []
  },
  {
   "cell_type": "code",
   "execution_count": null,
   "id": "fc8618ee",
   "metadata": {
    "execution": {
     "iopub.execute_input": "2022-10-08T12:18:24.520381Z",
     "iopub.status.busy": "2022-10-08T12:18:24.519928Z",
     "iopub.status.idle": "2022-10-08T12:18:24.529240Z",
     "shell.execute_reply": "2022-10-08T12:18:24.527981Z",
     "shell.execute_reply.started": "2022-10-08T12:18:24.520348Z"
    },
    "papermill": {
     "duration": 0.014365,
     "end_time": "2022-10-08T13:26:33.009751",
     "exception": false,
     "start_time": "2022-10-08T13:26:32.995386",
     "status": "completed"
    },
    "tags": []
   },
   "outputs": [],
   "source": []
  },
  {
   "cell_type": "code",
   "execution_count": null,
   "id": "6736989f",
   "metadata": {
    "execution": {
     "iopub.execute_input": "2022-10-08T12:18:25.053673Z",
     "iopub.status.busy": "2022-10-08T12:18:25.053272Z",
     "iopub.status.idle": "2022-10-08T12:18:25.060360Z",
     "shell.execute_reply": "2022-10-08T12:18:25.058991Z",
     "shell.execute_reply.started": "2022-10-08T12:18:25.053640Z"
    },
    "papermill": {
     "duration": 0.013011,
     "end_time": "2022-10-08T13:26:33.036648",
     "exception": false,
     "start_time": "2022-10-08T13:26:33.023637",
     "status": "completed"
    },
    "tags": []
   },
   "outputs": [],
   "source": []
  },
  {
   "cell_type": "code",
   "execution_count": 29,
   "id": "40d684fb",
   "metadata": {
    "execution": {
     "iopub.execute_input": "2022-10-08T13:26:33.065655Z",
     "iopub.status.busy": "2022-10-08T13:26:33.065236Z",
     "iopub.status.idle": "2022-10-08T13:26:33.075870Z",
     "shell.execute_reply": "2022-10-08T13:26:33.074581Z"
    },
    "papermill": {
     "duration": 0.027991,
     "end_time": "2022-10-08T13:26:33.078498",
     "exception": false,
     "start_time": "2022-10-08T13:26:33.050507",
     "status": "completed"
    },
    "tags": []
   },
   "outputs": [
    {
     "data": {
      "text/html": [
       "<div>\n",
       "<style scoped>\n",
       "    .dataframe tbody tr th:only-of-type {\n",
       "        vertical-align: middle;\n",
       "    }\n",
       "\n",
       "    .dataframe tbody tr th {\n",
       "        vertical-align: top;\n",
       "    }\n",
       "\n",
       "    .dataframe thead th {\n",
       "        text-align: right;\n",
       "    }\n",
       "</style>\n",
       "<table border=\"1\" class=\"dataframe\">\n",
       "  <thead>\n",
       "    <tr style=\"text-align: right;\">\n",
       "      <th></th>\n",
       "      <th>churn_probability</th>\n",
       "    </tr>\n",
       "    <tr>\n",
       "      <th>id</th>\n",
       "      <th></th>\n",
       "    </tr>\n",
       "  </thead>\n",
       "  <tbody>\n",
       "    <tr>\n",
       "      <th>69999</th>\n",
       "      <td>0</td>\n",
       "    </tr>\n",
       "    <tr>\n",
       "      <th>70000</th>\n",
       "      <td>0</td>\n",
       "    </tr>\n",
       "    <tr>\n",
       "      <th>70001</th>\n",
       "      <td>1</td>\n",
       "    </tr>\n",
       "    <tr>\n",
       "      <th>70002</th>\n",
       "      <td>0</td>\n",
       "    </tr>\n",
       "    <tr>\n",
       "      <th>70003</th>\n",
       "      <td>0</td>\n",
       "    </tr>\n",
       "  </tbody>\n",
       "</table>\n",
       "</div>"
      ],
      "text/plain": [
       "       churn_probability\n",
       "id                      \n",
       "69999                  0\n",
       "70000                  0\n",
       "70001                  1\n",
       "70002                  0\n",
       "70003                  0"
      ]
     },
     "execution_count": 29,
     "metadata": {},
     "output_type": "execute_result"
    }
   ],
   "source": [
    "solution.head()"
   ]
  },
  {
   "cell_type": "code",
   "execution_count": 30,
   "id": "b03f0830",
   "metadata": {
    "execution": {
     "iopub.execute_input": "2022-10-08T13:26:33.107804Z",
     "iopub.status.busy": "2022-10-08T13:26:33.107406Z",
     "iopub.status.idle": "2022-10-08T13:26:33.150777Z",
     "shell.execute_reply": "2022-10-08T13:26:33.149575Z"
    },
    "papermill": {
     "duration": 0.061158,
     "end_time": "2022-10-08T13:26:33.153676",
     "exception": false,
     "start_time": "2022-10-08T13:26:33.092518",
     "status": "completed"
    },
    "tags": []
   },
   "outputs": [],
   "source": [
    "solution.to_csv('solution.csv', header=True, index=True)"
   ]
  },
  {
   "cell_type": "code",
   "execution_count": 31,
   "id": "e1b5bd83",
   "metadata": {
    "execution": {
     "iopub.execute_input": "2022-10-08T13:26:33.183716Z",
     "iopub.status.busy": "2022-10-08T13:26:33.183297Z",
     "iopub.status.idle": "2022-10-08T13:26:33.188623Z",
     "shell.execute_reply": "2022-10-08T13:26:33.187530Z"
    },
    "papermill": {
     "duration": 0.023428,
     "end_time": "2022-10-08T13:26:33.190932",
     "exception": false,
     "start_time": "2022-10-08T13:26:33.167504",
     "status": "completed"
    },
    "tags": []
   },
   "outputs": [],
   "source": [
    "## Use Random forest classifier"
   ]
  },
  {
   "cell_type": "markdown",
   "id": "13229955",
   "metadata": {
    "papermill": {
     "duration": 0.014224,
     "end_time": "2022-10-08T13:26:33.218782",
     "exception": false,
     "start_time": "2022-10-08T13:26:33.204558",
     "status": "completed"
    },
    "tags": []
   },
   "source": [
    "## .\n"
   ]
  },
  {
   "cell_type": "code",
   "execution_count": 32,
   "id": "d6afb8d0",
   "metadata": {
    "execution": {
     "iopub.execute_input": "2022-10-08T13:26:33.248605Z",
     "iopub.status.busy": "2022-10-08T13:26:33.248193Z",
     "iopub.status.idle": "2022-10-08T13:26:33.253817Z",
     "shell.execute_reply": "2022-10-08T13:26:33.252480Z"
    },
    "papermill": {
     "duration": 0.022957,
     "end_time": "2022-10-08T13:26:33.256265",
     "exception": false,
     "start_time": "2022-10-08T13:26:33.233308",
     "status": "completed"
    },
    "tags": []
   },
   "outputs": [],
   "source": [
    "from sklearn.metrics import precision_score, make_scorer\n",
    "custom_scorer = make_scorer(precision_score, greater_is_better=True,  pos_label=0)"
   ]
  },
  {
   "cell_type": "code",
   "execution_count": 33,
   "id": "1d0ef003",
   "metadata": {
    "execution": {
     "iopub.execute_input": "2022-10-08T13:26:33.286023Z",
     "iopub.status.busy": "2022-10-08T13:26:33.285110Z",
     "iopub.status.idle": "2022-10-08T13:26:33.351994Z",
     "shell.execute_reply": "2022-10-08T13:26:33.350906Z"
    },
    "papermill": {
     "duration": 0.084408,
     "end_time": "2022-10-08T13:26:33.354647",
     "exception": false,
     "start_time": "2022-10-08T13:26:33.270239",
     "status": "completed"
    },
    "tags": []
   },
   "outputs": [],
   "source": [
    "from sklearn.ensemble import RandomForestClassifier\n",
    "from sklearn.model_selection import GridSearchCV\n",
    "classifier_rf = RandomForestClassifier(random_state=42, n_jobs=-1)\n",
    "# Create the parameter grid based on the results of random search \n",
    "params = {\n",
    "    'max_depth': [2, 4, 5],\n",
    "    'min_samples_leaf': [1, 5, 10, 20, 50],\n",
    "    'max_features': [2,5],\n",
    "    'n_estimators': [2,5,8]\n",
    "}\n",
    "# Instantiate the grid search model\n",
    "grid_search = GridSearchCV(estimator=classifier_rf, param_grid=params, \n",
    "                          cv=4, n_jobs=-1, verbose=1, scoring = 'accuracy')"
   ]
  },
  {
   "cell_type": "code",
   "execution_count": null,
   "id": "60476668",
   "metadata": {
    "papermill": {
     "duration": 0.013259,
     "end_time": "2022-10-08T13:26:33.381673",
     "exception": false,
     "start_time": "2022-10-08T13:26:33.368414",
     "status": "completed"
    },
    "tags": []
   },
   "outputs": [],
   "source": []
  },
  {
   "cell_type": "code",
   "execution_count": 34,
   "id": "83f1e936",
   "metadata": {
    "execution": {
     "iopub.execute_input": "2022-10-08T13:26:33.411300Z",
     "iopub.status.busy": "2022-10-08T13:26:33.410003Z",
     "iopub.status.idle": "2022-10-08T13:27:38.623566Z",
     "shell.execute_reply": "2022-10-08T13:27:38.622134Z"
    },
    "papermill": {
     "duration": 65.242824,
     "end_time": "2022-10-08T13:27:38.638106",
     "exception": false,
     "start_time": "2022-10-08T13:26:33.395282",
     "status": "completed"
    },
    "tags": []
   },
   "outputs": [
    {
     "name": "stdout",
     "output_type": "stream",
     "text": [
      "Fitting 4 folds for each of 90 candidates, totalling 360 fits\n",
      "CPU times: user 4.47 s, sys: 346 ms, total: 4.81 s\n",
      "Wall time: 1min 5s\n"
     ]
    },
    {
     "data": {
      "text/plain": [
       "GridSearchCV(cv=4, estimator=RandomForestClassifier(n_jobs=-1, random_state=42),\n",
       "             n_jobs=-1,\n",
       "             param_grid={'max_depth': [2, 4, 5], 'max_features': [2, 5],\n",
       "                         'min_samples_leaf': [1, 5, 10, 20, 50],\n",
       "                         'n_estimators': [2, 5, 8]},\n",
       "             scoring='accuracy', verbose=1)"
      ]
     },
     "execution_count": 34,
     "metadata": {},
     "output_type": "execute_result"
    }
   ],
   "source": [
    "%%time\n",
    "grid_search.fit(X_train_pca,y)"
   ]
  },
  {
   "cell_type": "code",
   "execution_count": 35,
   "id": "3bedf9f1",
   "metadata": {
    "execution": {
     "iopub.execute_input": "2022-10-08T13:27:38.667878Z",
     "iopub.status.busy": "2022-10-08T13:27:38.667415Z",
     "iopub.status.idle": "2022-10-08T13:27:38.675932Z",
     "shell.execute_reply": "2022-10-08T13:27:38.675011Z"
    },
    "papermill": {
     "duration": 0.026567,
     "end_time": "2022-10-08T13:27:38.678257",
     "exception": false,
     "start_time": "2022-10-08T13:27:38.651690",
     "status": "completed"
    },
    "tags": []
   },
   "outputs": [
    {
     "data": {
      "text/plain": [
       "RandomForestClassifier(max_depth=5, max_features=5, n_estimators=8, n_jobs=-1,\n",
       "                       random_state=42)"
      ]
     },
     "execution_count": 35,
     "metadata": {},
     "output_type": "execute_result"
    }
   ],
   "source": [
    "rf_best = grid_search.best_estimator_\n",
    "rf_best"
   ]
  },
  {
   "cell_type": "code",
   "execution_count": 36,
   "id": "d1649015",
   "metadata": {
    "execution": {
     "iopub.execute_input": "2022-10-08T13:27:38.708161Z",
     "iopub.status.busy": "2022-10-08T13:27:38.707509Z",
     "iopub.status.idle": "2022-10-08T13:27:38.826592Z",
     "shell.execute_reply": "2022-10-08T13:27:38.825661Z"
    },
    "papermill": {
     "duration": 0.136367,
     "end_time": "2022-10-08T13:27:38.828828",
     "exception": false,
     "start_time": "2022-10-08T13:27:38.692461",
     "status": "completed"
    },
    "tags": []
   },
   "outputs": [
    {
     "data": {
      "text/plain": [
       "0.9064415205931513"
      ]
     },
     "execution_count": 36,
     "metadata": {},
     "output_type": "execute_result"
    }
   ],
   "source": [
    "accuracy_score(y,rf_best.predict(X_train_pca))"
   ]
  },
  {
   "cell_type": "code",
   "execution_count": 37,
   "id": "b0ccbb6f",
   "metadata": {
    "execution": {
     "iopub.execute_input": "2022-10-08T13:27:38.860675Z",
     "iopub.status.busy": "2022-10-08T13:27:38.859888Z",
     "iopub.status.idle": "2022-10-08T13:27:39.732591Z",
     "shell.execute_reply": "2022-10-08T13:27:39.731344Z"
    },
    "papermill": {
     "duration": 0.892754,
     "end_time": "2022-10-08T13:27:39.735506",
     "exception": false,
     "start_time": "2022-10-08T13:27:38.842752",
     "status": "completed"
    },
    "tags": []
   },
   "outputs": [],
   "source": [
    "test_data = pd.read_csv('/kaggle/input/telecom-churn-case-study-hackathon-c40/test.csv');\n",
    "#test_data.set_index('id', inplace=True)\n",
    "test_data = reform_dates(test_data)\n",
    "test_data['churn_probability'] = 0\n",
    "test_data = impute_missing_values(test_data)\n",
    "y_test = test_data.pop('churn_probability')\n",
    "X_test = test_data[X.columns]"
   ]
  },
  {
   "cell_type": "code",
   "execution_count": 38,
   "id": "1e532093",
   "metadata": {
    "execution": {
     "iopub.execute_input": "2022-10-08T13:27:39.765247Z",
     "iopub.status.busy": "2022-10-08T13:27:39.764826Z",
     "iopub.status.idle": "2022-10-08T13:27:39.993674Z",
     "shell.execute_reply": "2022-10-08T13:27:39.992619Z"
    },
    "papermill": {
     "duration": 0.246894,
     "end_time": "2022-10-08T13:27:39.996447",
     "exception": false,
     "start_time": "2022-10-08T13:27:39.749553",
     "status": "completed"
    },
    "tags": []
   },
   "outputs": [
    {
     "name": "stderr",
     "output_type": "stream",
     "text": [
      "/opt/conda/lib/python3.7/site-packages/sklearn/base.py:444: UserWarning: X has feature names, but IncrementalPCA was fitted without feature names\n",
      "  f\"X has feature names, but {self.__class__.__name__} was fitted without\"\n"
     ]
    }
   ],
   "source": [
    "X_test_pca = pca.transform(X_test)\n",
    "test_data['churn_probability'] = rf_best.predict(X_test_pca)\n",
    "solution = test_data[['id', 'churn_probability']]\n",
    "solution.set_index('id', inplace=True)\n",
    "solution.to_csv('solution.csv', header=True, index=True)"
   ]
  },
  {
   "cell_type": "code",
   "execution_count": 39,
   "id": "f8b865cc",
   "metadata": {
    "execution": {
     "iopub.execute_input": "2022-10-08T13:27:40.027045Z",
     "iopub.status.busy": "2022-10-08T13:27:40.026614Z",
     "iopub.status.idle": "2022-10-08T13:27:40.071813Z",
     "shell.execute_reply": "2022-10-08T13:27:40.070586Z"
    },
    "papermill": {
     "duration": 0.063662,
     "end_time": "2022-10-08T13:27:40.074474",
     "exception": false,
     "start_time": "2022-10-08T13:27:40.010812",
     "status": "completed"
    },
    "tags": []
   },
   "outputs": [
    {
     "data": {
      "text/html": [
       "<a href=solution.csv>Download CSV file</a>"
      ],
      "text/plain": [
       "<IPython.core.display.HTML object>"
      ]
     },
     "execution_count": 39,
     "metadata": {},
     "output_type": "execute_result"
    }
   ],
   "source": [
    "from IPython.display import HTML\n",
    "import pandas as pd\n",
    "import numpy as np\n",
    "\n",
    "solution.to_csv('solution.csv')\n",
    "\n",
    "def create_download_link(title = \"Download CSV file\", filename = \"data.csv\"):  \n",
    "    html = '<a href={filename}>{title}</a>'\n",
    "    html = html.format(title=title,filename=filename)\n",
    "    return HTML(html)\n",
    "\n",
    "# create a link to download the dataframe which was saved with .to_csv method\n",
    "create_download_link(filename='solution.csv')"
   ]
  },
  {
   "cell_type": "code",
   "execution_count": null,
   "id": "c8ee6a9f",
   "metadata": {
    "papermill": {
     "duration": 0.013936,
     "end_time": "2022-10-08T13:27:40.103162",
     "exception": false,
     "start_time": "2022-10-08T13:27:40.089226",
     "status": "completed"
    },
    "tags": []
   },
   "outputs": [],
   "source": []
  }
 ],
 "metadata": {
  "kernelspec": {
   "display_name": "Python 3",
   "language": "python",
   "name": "python3"
  },
  "language_info": {
   "codemirror_mode": {
    "name": "ipython",
    "version": 3
   },
   "file_extension": ".py",
   "mimetype": "text/x-python",
   "name": "python",
   "nbconvert_exporter": "python",
   "pygments_lexer": "ipython3",
   "version": "3.7.12"
  },
  "papermill": {
   "default_parameters": {},
   "duration": 91.723204,
   "end_time": "2022-10-08T13:27:42.740326",
   "environment_variables": {},
   "exception": null,
   "input_path": "__notebook__.ipynb",
   "output_path": "__notebook__.ipynb",
   "parameters": {},
   "start_time": "2022-10-08T13:26:11.017122",
   "version": "2.3.4"
  }
 },
 "nbformat": 4,
 "nbformat_minor": 5
}
