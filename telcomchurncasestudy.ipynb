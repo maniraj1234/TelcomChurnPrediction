{
 "cells": [
  {
   "cell_type": "code",
   "execution_count": 1,
   "id": "c1e02752",
   "metadata": {
    "_cell_guid": "b1076dfc-b9ad-4769-8c92-a6c4dae69d19",
    "_uuid": "8f2839f25d086af736a60e9eeb907d3b93b6e0e5",
    "execution": {
     "iopub.execute_input": "2022-10-08T11:46:13.837797Z",
     "iopub.status.busy": "2022-10-08T11:46:13.837321Z",
     "iopub.status.idle": "2022-10-08T11:46:13.855083Z",
     "shell.execute_reply": "2022-10-08T11:46:13.853268Z"
    },
    "papermill": {
     "duration": 0.032099,
     "end_time": "2022-10-08T11:46:13.857893",
     "exception": false,
     "start_time": "2022-10-08T11:46:13.825794",
     "status": "completed"
    },
    "tags": []
   },
   "outputs": [
    {
     "name": "stdout",
     "output_type": "stream",
     "text": [
      "/kaggle/input/telecom-churn-case-study-hackathon-c40/data_dictionary.csv\n",
      "/kaggle/input/telecom-churn-case-study-hackathon-c40/train.csv\n",
      "/kaggle/input/telecom-churn-case-study-hackathon-c40/test.csv\n",
      "/kaggle/input/telecom-churn-case-study-hackathon-c40/solution.csv\n"
     ]
    }
   ],
   "source": [
    "# This Python 3 environment comes with many helpful analytics libraries installed\n",
    "# It is defined by the kaggle/python Docker image: https://github.com/kaggle/docker-python\n",
    "# For example, here's several helpful packages to load\n",
    "\n",
    "import numpy as np # linear algebra\n",
    "import pandas as pd # data processing, CSV file I/O (e.g. pd.read_csv)\n",
    "\n",
    "# Input data files are available in the read-only \"../input/\" directory\n",
    "# For example, running this (by clicking run or pressing Shift+Enter) will list all files under the input directory\n",
    "\n",
    "import os\n",
    "for dirname, _, filenames in os.walk('/kaggle/input'):\n",
    "    for filename in filenames:\n",
    "        print(os.path.join(dirname, filename))\n",
    "\n",
    "# You can write up to 20GB to the current directory (/kaggle/working/) that gets preserved as output when you create a version using \"Save & Run All\" \n",
    "# You can also write temporary files to /kaggle/temp/, but they won't be saved outside of the current session"
   ]
  },
  {
   "cell_type": "code",
   "execution_count": 2,
   "id": "bb16cdc5",
   "metadata": {
    "execution": {
     "iopub.execute_input": "2022-10-08T11:46:13.877398Z",
     "iopub.status.busy": "2022-10-08T11:46:13.876967Z",
     "iopub.status.idle": "2022-10-08T11:46:13.882389Z",
     "shell.execute_reply": "2022-10-08T11:46:13.881247Z"
    },
    "papermill": {
     "duration": 0.017386,
     "end_time": "2022-10-08T11:46:13.884594",
     "exception": false,
     "start_time": "2022-10-08T11:46:13.867208",
     "status": "completed"
    },
    "tags": []
   },
   "outputs": [],
   "source": [
    "pd.set_option('display.max_rows', 30)"
   ]
  },
  {
   "cell_type": "code",
   "execution_count": 3,
   "id": "1b4728a1",
   "metadata": {
    "execution": {
     "iopub.execute_input": "2022-10-08T11:46:13.903195Z",
     "iopub.status.busy": "2022-10-08T11:46:13.902774Z",
     "iopub.status.idle": "2022-10-08T11:46:15.939679Z",
     "shell.execute_reply": "2022-10-08T11:46:15.938341Z"
    },
    "papermill": {
     "duration": 2.0496,
     "end_time": "2022-10-08T11:46:15.942568",
     "exception": false,
     "start_time": "2022-10-08T11:46:13.892968",
     "status": "completed"
    },
    "tags": []
   },
   "outputs": [],
   "source": [
    "telcom_data = pd.read_csv('/kaggle/input/telecom-churn-case-study-hackathon-c40/train.csv');\n",
    "telcom_data.set_index('id', inplace=True)"
   ]
  },
  {
   "cell_type": "code",
   "execution_count": 4,
   "id": "77dbcd91",
   "metadata": {
    "execution": {
     "iopub.execute_input": "2022-10-08T11:46:15.961814Z",
     "iopub.status.busy": "2022-10-08T11:46:15.961384Z",
     "iopub.status.idle": "2022-10-08T11:46:15.999218Z",
     "shell.execute_reply": "2022-10-08T11:46:15.998032Z"
    },
    "papermill": {
     "duration": 0.050179,
     "end_time": "2022-10-08T11:46:16.001792",
     "exception": false,
     "start_time": "2022-10-08T11:46:15.951613",
     "status": "completed"
    },
    "tags": []
   },
   "outputs": [
    {
     "data": {
      "text/html": [
       "<div>\n",
       "<style scoped>\n",
       "    .dataframe tbody tr th:only-of-type {\n",
       "        vertical-align: middle;\n",
       "    }\n",
       "\n",
       "    .dataframe tbody tr th {\n",
       "        vertical-align: top;\n",
       "    }\n",
       "\n",
       "    .dataframe thead th {\n",
       "        text-align: right;\n",
       "    }\n",
       "</style>\n",
       "<table border=\"1\" class=\"dataframe\">\n",
       "  <thead>\n",
       "    <tr style=\"text-align: right;\">\n",
       "      <th></th>\n",
       "      <th>circle_id</th>\n",
       "      <th>loc_og_t2o_mou</th>\n",
       "      <th>std_og_t2o_mou</th>\n",
       "      <th>loc_ic_t2o_mou</th>\n",
       "      <th>last_date_of_month_6</th>\n",
       "      <th>last_date_of_month_7</th>\n",
       "      <th>last_date_of_month_8</th>\n",
       "      <th>arpu_6</th>\n",
       "      <th>arpu_7</th>\n",
       "      <th>arpu_8</th>\n",
       "      <th>...</th>\n",
       "      <th>sachet_3g_7</th>\n",
       "      <th>sachet_3g_8</th>\n",
       "      <th>fb_user_6</th>\n",
       "      <th>fb_user_7</th>\n",
       "      <th>fb_user_8</th>\n",
       "      <th>aon</th>\n",
       "      <th>aug_vbc_3g</th>\n",
       "      <th>jul_vbc_3g</th>\n",
       "      <th>jun_vbc_3g</th>\n",
       "      <th>churn_probability</th>\n",
       "    </tr>\n",
       "    <tr>\n",
       "      <th>id</th>\n",
       "      <th></th>\n",
       "      <th></th>\n",
       "      <th></th>\n",
       "      <th></th>\n",
       "      <th></th>\n",
       "      <th></th>\n",
       "      <th></th>\n",
       "      <th></th>\n",
       "      <th></th>\n",
       "      <th></th>\n",
       "      <th></th>\n",
       "      <th></th>\n",
       "      <th></th>\n",
       "      <th></th>\n",
       "      <th></th>\n",
       "      <th></th>\n",
       "      <th></th>\n",
       "      <th></th>\n",
       "      <th></th>\n",
       "      <th></th>\n",
       "      <th></th>\n",
       "    </tr>\n",
       "  </thead>\n",
       "  <tbody>\n",
       "    <tr>\n",
       "      <th>0</th>\n",
       "      <td>109</td>\n",
       "      <td>0.0</td>\n",
       "      <td>0.0</td>\n",
       "      <td>0.0</td>\n",
       "      <td>6/30/2014</td>\n",
       "      <td>7/31/2014</td>\n",
       "      <td>8/31/2014</td>\n",
       "      <td>31.277</td>\n",
       "      <td>87.009</td>\n",
       "      <td>7.527</td>\n",
       "      <td>...</td>\n",
       "      <td>0</td>\n",
       "      <td>0</td>\n",
       "      <td>NaN</td>\n",
       "      <td>NaN</td>\n",
       "      <td>NaN</td>\n",
       "      <td>1958</td>\n",
       "      <td>0.0</td>\n",
       "      <td>0.0</td>\n",
       "      <td>0.0</td>\n",
       "      <td>0</td>\n",
       "    </tr>\n",
       "    <tr>\n",
       "      <th>1</th>\n",
       "      <td>109</td>\n",
       "      <td>0.0</td>\n",
       "      <td>0.0</td>\n",
       "      <td>0.0</td>\n",
       "      <td>6/30/2014</td>\n",
       "      <td>7/31/2014</td>\n",
       "      <td>8/31/2014</td>\n",
       "      <td>0.000</td>\n",
       "      <td>122.787</td>\n",
       "      <td>42.953</td>\n",
       "      <td>...</td>\n",
       "      <td>0</td>\n",
       "      <td>0</td>\n",
       "      <td>NaN</td>\n",
       "      <td>1.0</td>\n",
       "      <td>NaN</td>\n",
       "      <td>710</td>\n",
       "      <td>0.0</td>\n",
       "      <td>0.0</td>\n",
       "      <td>0.0</td>\n",
       "      <td>0</td>\n",
       "    </tr>\n",
       "    <tr>\n",
       "      <th>2</th>\n",
       "      <td>109</td>\n",
       "      <td>0.0</td>\n",
       "      <td>0.0</td>\n",
       "      <td>0.0</td>\n",
       "      <td>6/30/2014</td>\n",
       "      <td>7/31/2014</td>\n",
       "      <td>8/31/2014</td>\n",
       "      <td>60.806</td>\n",
       "      <td>103.176</td>\n",
       "      <td>0.000</td>\n",
       "      <td>...</td>\n",
       "      <td>0</td>\n",
       "      <td>0</td>\n",
       "      <td>NaN</td>\n",
       "      <td>NaN</td>\n",
       "      <td>NaN</td>\n",
       "      <td>882</td>\n",
       "      <td>0.0</td>\n",
       "      <td>0.0</td>\n",
       "      <td>0.0</td>\n",
       "      <td>0</td>\n",
       "    </tr>\n",
       "    <tr>\n",
       "      <th>3</th>\n",
       "      <td>109</td>\n",
       "      <td>0.0</td>\n",
       "      <td>0.0</td>\n",
       "      <td>0.0</td>\n",
       "      <td>6/30/2014</td>\n",
       "      <td>7/31/2014</td>\n",
       "      <td>8/31/2014</td>\n",
       "      <td>156.362</td>\n",
       "      <td>205.260</td>\n",
       "      <td>111.095</td>\n",
       "      <td>...</td>\n",
       "      <td>0</td>\n",
       "      <td>0</td>\n",
       "      <td>NaN</td>\n",
       "      <td>NaN</td>\n",
       "      <td>NaN</td>\n",
       "      <td>982</td>\n",
       "      <td>0.0</td>\n",
       "      <td>0.0</td>\n",
       "      <td>0.0</td>\n",
       "      <td>0</td>\n",
       "    </tr>\n",
       "    <tr>\n",
       "      <th>4</th>\n",
       "      <td>109</td>\n",
       "      <td>0.0</td>\n",
       "      <td>0.0</td>\n",
       "      <td>0.0</td>\n",
       "      <td>6/30/2014</td>\n",
       "      <td>7/31/2014</td>\n",
       "      <td>8/31/2014</td>\n",
       "      <td>240.708</td>\n",
       "      <td>128.191</td>\n",
       "      <td>101.565</td>\n",
       "      <td>...</td>\n",
       "      <td>1</td>\n",
       "      <td>0</td>\n",
       "      <td>1.0</td>\n",
       "      <td>1.0</td>\n",
       "      <td>1.0</td>\n",
       "      <td>647</td>\n",
       "      <td>0.0</td>\n",
       "      <td>0.0</td>\n",
       "      <td>0.0</td>\n",
       "      <td>0</td>\n",
       "    </tr>\n",
       "  </tbody>\n",
       "</table>\n",
       "<p>5 rows × 171 columns</p>\n",
       "</div>"
      ],
      "text/plain": [
       "    circle_id  loc_og_t2o_mou  std_og_t2o_mou  loc_ic_t2o_mou  \\\n",
       "id                                                              \n",
       "0         109             0.0             0.0             0.0   \n",
       "1         109             0.0             0.0             0.0   \n",
       "2         109             0.0             0.0             0.0   \n",
       "3         109             0.0             0.0             0.0   \n",
       "4         109             0.0             0.0             0.0   \n",
       "\n",
       "   last_date_of_month_6 last_date_of_month_7 last_date_of_month_8   arpu_6  \\\n",
       "id                                                                           \n",
       "0             6/30/2014            7/31/2014            8/31/2014   31.277   \n",
       "1             6/30/2014            7/31/2014            8/31/2014    0.000   \n",
       "2             6/30/2014            7/31/2014            8/31/2014   60.806   \n",
       "3             6/30/2014            7/31/2014            8/31/2014  156.362   \n",
       "4             6/30/2014            7/31/2014            8/31/2014  240.708   \n",
       "\n",
       "     arpu_7   arpu_8  ...  sachet_3g_7  sachet_3g_8  fb_user_6  fb_user_7  \\\n",
       "id                    ...                                                   \n",
       "0    87.009    7.527  ...            0            0        NaN        NaN   \n",
       "1   122.787   42.953  ...            0            0        NaN        1.0   \n",
       "2   103.176    0.000  ...            0            0        NaN        NaN   \n",
       "3   205.260  111.095  ...            0            0        NaN        NaN   \n",
       "4   128.191  101.565  ...            1            0        1.0        1.0   \n",
       "\n",
       "    fb_user_8   aon  aug_vbc_3g  jul_vbc_3g  jun_vbc_3g  churn_probability  \n",
       "id                                                                          \n",
       "0         NaN  1958         0.0         0.0         0.0                  0  \n",
       "1         NaN   710         0.0         0.0         0.0                  0  \n",
       "2         NaN   882         0.0         0.0         0.0                  0  \n",
       "3         NaN   982         0.0         0.0         0.0                  0  \n",
       "4         1.0   647         0.0         0.0         0.0                  0  \n",
       "\n",
       "[5 rows x 171 columns]"
      ]
     },
     "execution_count": 4,
     "metadata": {},
     "output_type": "execute_result"
    }
   ],
   "source": [
    "telcom_data.head()"
   ]
  },
  {
   "cell_type": "code",
   "execution_count": 5,
   "id": "c0518e4c",
   "metadata": {
    "execution": {
     "iopub.execute_input": "2022-10-08T11:46:16.021132Z",
     "iopub.status.busy": "2022-10-08T11:46:16.020305Z",
     "iopub.status.idle": "2022-10-08T11:46:16.028220Z",
     "shell.execute_reply": "2022-10-08T11:46:16.027049Z"
    },
    "papermill": {
     "duration": 0.020064,
     "end_time": "2022-10-08T11:46:16.030568",
     "exception": false,
     "start_time": "2022-10-08T11:46:16.010504",
     "status": "completed"
    },
    "tags": []
   },
   "outputs": [
    {
     "data": {
      "text/plain": [
       "(69999, 171)"
      ]
     },
     "execution_count": 5,
     "metadata": {},
     "output_type": "execute_result"
    }
   ],
   "source": [
    "telcom_data.shape"
   ]
  },
  {
   "cell_type": "code",
   "execution_count": 6,
   "id": "a9342a84",
   "metadata": {
    "execution": {
     "iopub.execute_input": "2022-10-08T11:46:16.052082Z",
     "iopub.status.busy": "2022-10-08T11:46:16.050951Z",
     "iopub.status.idle": "2022-10-08T11:46:16.063297Z",
     "shell.execute_reply": "2022-10-08T11:46:16.062291Z"
    },
    "papermill": {
     "duration": 0.02447,
     "end_time": "2022-10-08T11:46:16.065486",
     "exception": false,
     "start_time": "2022-10-08T11:46:16.041016",
     "status": "completed"
    },
    "tags": []
   },
   "outputs": [
    {
     "data": {
      "text/plain": [
       "circle_id                     int64\n",
       "loc_og_t2o_mou              float64\n",
       "std_og_t2o_mou              float64\n",
       "loc_ic_t2o_mou              float64\n",
       "last_date_of_month_6         object\n",
       "last_date_of_month_7         object\n",
       "last_date_of_month_8         object\n",
       "arpu_6                      float64\n",
       "arpu_7                      float64\n",
       "arpu_8                      float64\n",
       "onnet_mou_6                 float64\n",
       "onnet_mou_7                 float64\n",
       "onnet_mou_8                 float64\n",
       "offnet_mou_6                float64\n",
       "offnet_mou_7                float64\n",
       "offnet_mou_8                float64\n",
       "roam_ic_mou_6               float64\n",
       "roam_ic_mou_7               float64\n",
       "roam_ic_mou_8               float64\n",
       "roam_og_mou_6               float64\n",
       "roam_og_mou_7               float64\n",
       "roam_og_mou_8               float64\n",
       "loc_og_t2t_mou_6            float64\n",
       "loc_og_t2t_mou_7            float64\n",
       "loc_og_t2t_mou_8            float64\n",
       "loc_og_t2m_mou_6            float64\n",
       "loc_og_t2m_mou_7            float64\n",
       "loc_og_t2m_mou_8            float64\n",
       "loc_og_t2f_mou_6            float64\n",
       "loc_og_t2f_mou_7            float64\n",
       "loc_og_t2f_mou_8            float64\n",
       "loc_og_t2c_mou_6            float64\n",
       "loc_og_t2c_mou_7            float64\n",
       "loc_og_t2c_mou_8            float64\n",
       "loc_og_mou_6                float64\n",
       "loc_og_mou_7                float64\n",
       "loc_og_mou_8                float64\n",
       "std_og_t2t_mou_6            float64\n",
       "std_og_t2t_mou_7            float64\n",
       "std_og_t2t_mou_8            float64\n",
       "std_og_t2m_mou_6            float64\n",
       "std_og_t2m_mou_7            float64\n",
       "std_og_t2m_mou_8            float64\n",
       "std_og_t2f_mou_6            float64\n",
       "std_og_t2f_mou_7            float64\n",
       "std_og_t2f_mou_8            float64\n",
       "std_og_t2c_mou_6            float64\n",
       "std_og_t2c_mou_7            float64\n",
       "std_og_t2c_mou_8            float64\n",
       "std_og_mou_6                float64\n",
       "std_og_mou_7                float64\n",
       "std_og_mou_8                float64\n",
       "isd_og_mou_6                float64\n",
       "isd_og_mou_7                float64\n",
       "isd_og_mou_8                float64\n",
       "spl_og_mou_6                float64\n",
       "spl_og_mou_7                float64\n",
       "spl_og_mou_8                float64\n",
       "og_others_6                 float64\n",
       "og_others_7                 float64\n",
       "og_others_8                 float64\n",
       "total_og_mou_6              float64\n",
       "total_og_mou_7              float64\n",
       "total_og_mou_8              float64\n",
       "loc_ic_t2t_mou_6            float64\n",
       "loc_ic_t2t_mou_7            float64\n",
       "loc_ic_t2t_mou_8            float64\n",
       "loc_ic_t2m_mou_6            float64\n",
       "loc_ic_t2m_mou_7            float64\n",
       "loc_ic_t2m_mou_8            float64\n",
       "loc_ic_t2f_mou_6            float64\n",
       "loc_ic_t2f_mou_7            float64\n",
       "loc_ic_t2f_mou_8            float64\n",
       "loc_ic_mou_6                float64\n",
       "loc_ic_mou_7                float64\n",
       "loc_ic_mou_8                float64\n",
       "std_ic_t2t_mou_6            float64\n",
       "std_ic_t2t_mou_7            float64\n",
       "std_ic_t2t_mou_8            float64\n",
       "std_ic_t2m_mou_6            float64\n",
       "std_ic_t2m_mou_7            float64\n",
       "std_ic_t2m_mou_8            float64\n",
       "std_ic_t2f_mou_6            float64\n",
       "std_ic_t2f_mou_7            float64\n",
       "std_ic_t2f_mou_8            float64\n",
       "std_ic_t2o_mou_6            float64\n",
       "std_ic_t2o_mou_7            float64\n",
       "std_ic_t2o_mou_8            float64\n",
       "std_ic_mou_6                float64\n",
       "std_ic_mou_7                float64\n",
       "std_ic_mou_8                float64\n",
       "total_ic_mou_6              float64\n",
       "total_ic_mou_7              float64\n",
       "total_ic_mou_8              float64\n",
       "spl_ic_mou_6                float64\n",
       "spl_ic_mou_7                float64\n",
       "spl_ic_mou_8                float64\n",
       "isd_ic_mou_6                float64\n",
       "isd_ic_mou_7                float64\n",
       "isd_ic_mou_8                float64\n",
       "ic_others_6                 float64\n",
       "ic_others_7                 float64\n",
       "ic_others_8                 float64\n",
       "total_rech_num_6              int64\n",
       "total_rech_num_7              int64\n",
       "total_rech_num_8              int64\n",
       "total_rech_amt_6              int64\n",
       "total_rech_amt_7              int64\n",
       "total_rech_amt_8              int64\n",
       "max_rech_amt_6                int64\n",
       "max_rech_amt_7                int64\n",
       "max_rech_amt_8                int64\n",
       "date_of_last_rech_6          object\n",
       "date_of_last_rech_7          object\n",
       "date_of_last_rech_8          object\n",
       "last_day_rch_amt_6            int64\n",
       "last_day_rch_amt_7            int64\n",
       "last_day_rch_amt_8            int64\n",
       "date_of_last_rech_data_6     object\n",
       "date_of_last_rech_data_7     object\n",
       "date_of_last_rech_data_8     object\n",
       "total_rech_data_6           float64\n",
       "total_rech_data_7           float64\n",
       "total_rech_data_8           float64\n",
       "max_rech_data_6             float64\n",
       "max_rech_data_7             float64\n",
       "max_rech_data_8             float64\n",
       "count_rech_2g_6             float64\n",
       "count_rech_2g_7             float64\n",
       "count_rech_2g_8             float64\n",
       "count_rech_3g_6             float64\n",
       "count_rech_3g_7             float64\n",
       "count_rech_3g_8             float64\n",
       "av_rech_amt_data_6          float64\n",
       "av_rech_amt_data_7          float64\n",
       "av_rech_amt_data_8          float64\n",
       "vol_2g_mb_6                 float64\n",
       "vol_2g_mb_7                 float64\n",
       "vol_2g_mb_8                 float64\n",
       "vol_3g_mb_6                 float64\n",
       "vol_3g_mb_7                 float64\n",
       "vol_3g_mb_8                 float64\n",
       "arpu_3g_6                   float64\n",
       "arpu_3g_7                   float64\n",
       "arpu_3g_8                   float64\n",
       "arpu_2g_6                   float64\n",
       "arpu_2g_7                   float64\n",
       "arpu_2g_8                   float64\n",
       "night_pck_user_6            float64\n",
       "night_pck_user_7            float64\n",
       "night_pck_user_8            float64\n",
       "monthly_2g_6                  int64\n",
       "monthly_2g_7                  int64\n",
       "monthly_2g_8                  int64\n",
       "sachet_2g_6                   int64\n",
       "sachet_2g_7                   int64\n",
       "sachet_2g_8                   int64\n",
       "monthly_3g_6                  int64\n",
       "monthly_3g_7                  int64\n",
       "monthly_3g_8                  int64\n",
       "sachet_3g_6                   int64\n",
       "sachet_3g_7                   int64\n",
       "sachet_3g_8                   int64\n",
       "fb_user_6                   float64\n",
       "fb_user_7                   float64\n",
       "fb_user_8                   float64\n",
       "aon                           int64\n",
       "aug_vbc_3g                  float64\n",
       "jul_vbc_3g                  float64\n",
       "jun_vbc_3g                  float64\n",
       "churn_probability             int64\n",
       "dtype: object"
      ]
     },
     "execution_count": 6,
     "metadata": {},
     "output_type": "execute_result"
    }
   ],
   "source": [
    "pd.set_option('display.max_rows', None)\n",
    "telcom_data.dtypes\n",
    "#pd.set_option('display.max_rows', 30)"
   ]
  },
  {
   "cell_type": "code",
   "execution_count": 7,
   "id": "d8eded55",
   "metadata": {
    "execution": {
     "iopub.execute_input": "2022-10-08T11:46:16.085932Z",
     "iopub.status.busy": "2022-10-08T11:46:16.085493Z",
     "iopub.status.idle": "2022-10-08T11:46:16.615872Z",
     "shell.execute_reply": "2022-10-08T11:46:16.614488Z"
    },
    "papermill": {
     "duration": 0.54391,
     "end_time": "2022-10-08T11:46:16.618431",
     "exception": false,
     "start_time": "2022-10-08T11:46:16.074521",
     "status": "completed"
    },
    "tags": []
   },
   "outputs": [
    {
     "name": "stdout",
     "output_type": "stream",
     "text": [
      "['circle_id', 'loc_og_t2o_mou', 'std_og_t2o_mou', 'loc_ic_t2o_mou', 'last_date_of_month_6', 'last_date_of_month_7', 'last_date_of_month_8', 'std_og_t2c_mou_6', 'std_og_t2c_mou_7', 'std_og_t2c_mou_8', 'std_ic_t2o_mou_6', 'std_ic_t2o_mou_7', 'std_ic_t2o_mou_8']\n"
     ]
    }
   ],
   "source": [
    "# clean the data for safe checks like empty columns and empty rows...\n",
    "def sanity_clean_data(telcom_data):\n",
    "    #columns with all empty values to be removed\n",
    "    telcom_data.dropna(axis=1, how='all', inplace=True)\n",
    "    \n",
    "    #columns with all same values to be removed as they dont provide any insight\n",
    "    cols_nounique = [i for i in telcom_data.columns if telcom_data[i].nunique()==1]\n",
    "    telcom_data.drop(columns=cols_nounique, inplace=True, axis=1)\n",
    "    print(cols_nounique)\n",
    "    \n",
    "    #rows with all NAs to be removed\n",
    "    telcom_data.dropna(axis=0,how='all',inplace=True)\n",
    "    \n",
    "sanity_clean_data(telcom_data)    "
   ]
  },
  {
   "cell_type": "code",
   "execution_count": 8,
   "id": "f0234cd1",
   "metadata": {
    "execution": {
     "iopub.execute_input": "2022-10-08T11:46:16.638811Z",
     "iopub.status.busy": "2022-10-08T11:46:16.638381Z",
     "iopub.status.idle": "2022-10-08T11:46:16.645087Z",
     "shell.execute_reply": "2022-10-08T11:46:16.644062Z"
    },
    "papermill": {
     "duration": 0.019356,
     "end_time": "2022-10-08T11:46:16.647209",
     "exception": false,
     "start_time": "2022-10-08T11:46:16.627853",
     "status": "completed"
    },
    "tags": []
   },
   "outputs": [
    {
     "data": {
      "text/plain": [
       "(69999, 158)"
      ]
     },
     "execution_count": 8,
     "metadata": {},
     "output_type": "execute_result"
    }
   ],
   "source": [
    "telcom_data.shape"
   ]
  },
  {
   "cell_type": "code",
   "execution_count": 9,
   "id": "b8547cb5",
   "metadata": {
    "execution": {
     "iopub.execute_input": "2022-10-08T11:46:16.668038Z",
     "iopub.status.busy": "2022-10-08T11:46:16.667275Z",
     "iopub.status.idle": "2022-10-08T11:46:16.697737Z",
     "shell.execute_reply": "2022-10-08T11:46:16.696669Z"
    },
    "papermill": {
     "duration": 0.043389,
     "end_time": "2022-10-08T11:46:16.699869",
     "exception": false,
     "start_time": "2022-10-08T11:46:16.656480",
     "status": "completed"
    },
    "tags": []
   },
   "outputs": [
    {
     "data": {
      "text/html": [
       "<div>\n",
       "<style scoped>\n",
       "    .dataframe tbody tr th:only-of-type {\n",
       "        vertical-align: middle;\n",
       "    }\n",
       "\n",
       "    .dataframe tbody tr th {\n",
       "        vertical-align: top;\n",
       "    }\n",
       "\n",
       "    .dataframe thead th {\n",
       "        text-align: right;\n",
       "    }\n",
       "</style>\n",
       "<table border=\"1\" class=\"dataframe\">\n",
       "  <thead>\n",
       "    <tr style=\"text-align: right;\">\n",
       "      <th></th>\n",
       "      <th>arpu_6</th>\n",
       "      <th>arpu_7</th>\n",
       "      <th>arpu_8</th>\n",
       "      <th>onnet_mou_6</th>\n",
       "      <th>onnet_mou_7</th>\n",
       "      <th>onnet_mou_8</th>\n",
       "      <th>offnet_mou_6</th>\n",
       "      <th>offnet_mou_7</th>\n",
       "      <th>offnet_mou_8</th>\n",
       "      <th>roam_ic_mou_6</th>\n",
       "      <th>...</th>\n",
       "      <th>sachet_3g_7</th>\n",
       "      <th>sachet_3g_8</th>\n",
       "      <th>fb_user_6</th>\n",
       "      <th>fb_user_7</th>\n",
       "      <th>fb_user_8</th>\n",
       "      <th>aon</th>\n",
       "      <th>aug_vbc_3g</th>\n",
       "      <th>jul_vbc_3g</th>\n",
       "      <th>jun_vbc_3g</th>\n",
       "      <th>churn_probability</th>\n",
       "    </tr>\n",
       "    <tr>\n",
       "      <th>id</th>\n",
       "      <th></th>\n",
       "      <th></th>\n",
       "      <th></th>\n",
       "      <th></th>\n",
       "      <th></th>\n",
       "      <th></th>\n",
       "      <th></th>\n",
       "      <th></th>\n",
       "      <th></th>\n",
       "      <th></th>\n",
       "      <th></th>\n",
       "      <th></th>\n",
       "      <th></th>\n",
       "      <th></th>\n",
       "      <th></th>\n",
       "      <th></th>\n",
       "      <th></th>\n",
       "      <th></th>\n",
       "      <th></th>\n",
       "      <th></th>\n",
       "      <th></th>\n",
       "    </tr>\n",
       "  </thead>\n",
       "  <tbody>\n",
       "    <tr>\n",
       "      <th>0</th>\n",
       "      <td>31.277</td>\n",
       "      <td>87.009</td>\n",
       "      <td>7.527</td>\n",
       "      <td>48.58</td>\n",
       "      <td>124.38</td>\n",
       "      <td>1.29</td>\n",
       "      <td>32.24</td>\n",
       "      <td>96.68</td>\n",
       "      <td>2.33</td>\n",
       "      <td>0.00</td>\n",
       "      <td>...</td>\n",
       "      <td>0</td>\n",
       "      <td>0</td>\n",
       "      <td>NaN</td>\n",
       "      <td>NaN</td>\n",
       "      <td>NaN</td>\n",
       "      <td>1958</td>\n",
       "      <td>0.0</td>\n",
       "      <td>0.0</td>\n",
       "      <td>0.0</td>\n",
       "      <td>0</td>\n",
       "    </tr>\n",
       "    <tr>\n",
       "      <th>1</th>\n",
       "      <td>0.000</td>\n",
       "      <td>122.787</td>\n",
       "      <td>42.953</td>\n",
       "      <td>0.00</td>\n",
       "      <td>0.00</td>\n",
       "      <td>0.00</td>\n",
       "      <td>0.00</td>\n",
       "      <td>25.99</td>\n",
       "      <td>30.89</td>\n",
       "      <td>0.00</td>\n",
       "      <td>...</td>\n",
       "      <td>0</td>\n",
       "      <td>0</td>\n",
       "      <td>NaN</td>\n",
       "      <td>1.0</td>\n",
       "      <td>NaN</td>\n",
       "      <td>710</td>\n",
       "      <td>0.0</td>\n",
       "      <td>0.0</td>\n",
       "      <td>0.0</td>\n",
       "      <td>0</td>\n",
       "    </tr>\n",
       "    <tr>\n",
       "      <th>2</th>\n",
       "      <td>60.806</td>\n",
       "      <td>103.176</td>\n",
       "      <td>0.000</td>\n",
       "      <td>0.53</td>\n",
       "      <td>15.93</td>\n",
       "      <td>0.00</td>\n",
       "      <td>53.99</td>\n",
       "      <td>82.05</td>\n",
       "      <td>0.00</td>\n",
       "      <td>0.00</td>\n",
       "      <td>...</td>\n",
       "      <td>0</td>\n",
       "      <td>0</td>\n",
       "      <td>NaN</td>\n",
       "      <td>NaN</td>\n",
       "      <td>NaN</td>\n",
       "      <td>882</td>\n",
       "      <td>0.0</td>\n",
       "      <td>0.0</td>\n",
       "      <td>0.0</td>\n",
       "      <td>0</td>\n",
       "    </tr>\n",
       "    <tr>\n",
       "      <th>3</th>\n",
       "      <td>156.362</td>\n",
       "      <td>205.260</td>\n",
       "      <td>111.095</td>\n",
       "      <td>7.26</td>\n",
       "      <td>16.01</td>\n",
       "      <td>0.00</td>\n",
       "      <td>68.76</td>\n",
       "      <td>78.48</td>\n",
       "      <td>50.23</td>\n",
       "      <td>0.00</td>\n",
       "      <td>...</td>\n",
       "      <td>0</td>\n",
       "      <td>0</td>\n",
       "      <td>NaN</td>\n",
       "      <td>NaN</td>\n",
       "      <td>NaN</td>\n",
       "      <td>982</td>\n",
       "      <td>0.0</td>\n",
       "      <td>0.0</td>\n",
       "      <td>0.0</td>\n",
       "      <td>0</td>\n",
       "    </tr>\n",
       "    <tr>\n",
       "      <th>4</th>\n",
       "      <td>240.708</td>\n",
       "      <td>128.191</td>\n",
       "      <td>101.565</td>\n",
       "      <td>21.28</td>\n",
       "      <td>4.83</td>\n",
       "      <td>6.13</td>\n",
       "      <td>56.99</td>\n",
       "      <td>38.11</td>\n",
       "      <td>9.63</td>\n",
       "      <td>53.64</td>\n",
       "      <td>...</td>\n",
       "      <td>1</td>\n",
       "      <td>0</td>\n",
       "      <td>1.0</td>\n",
       "      <td>1.0</td>\n",
       "      <td>1.0</td>\n",
       "      <td>647</td>\n",
       "      <td>0.0</td>\n",
       "      <td>0.0</td>\n",
       "      <td>0.0</td>\n",
       "      <td>0</td>\n",
       "    </tr>\n",
       "  </tbody>\n",
       "</table>\n",
       "<p>5 rows × 158 columns</p>\n",
       "</div>"
      ],
      "text/plain": [
       "     arpu_6   arpu_7   arpu_8  onnet_mou_6  onnet_mou_7  onnet_mou_8  \\\n",
       "id                                                                     \n",
       "0    31.277   87.009    7.527        48.58       124.38         1.29   \n",
       "1     0.000  122.787   42.953         0.00         0.00         0.00   \n",
       "2    60.806  103.176    0.000         0.53        15.93         0.00   \n",
       "3   156.362  205.260  111.095         7.26        16.01         0.00   \n",
       "4   240.708  128.191  101.565        21.28         4.83         6.13   \n",
       "\n",
       "    offnet_mou_6  offnet_mou_7  offnet_mou_8  roam_ic_mou_6  ...  sachet_3g_7  \\\n",
       "id                                                           ...                \n",
       "0          32.24         96.68          2.33           0.00  ...            0   \n",
       "1           0.00         25.99         30.89           0.00  ...            0   \n",
       "2          53.99         82.05          0.00           0.00  ...            0   \n",
       "3          68.76         78.48         50.23           0.00  ...            0   \n",
       "4          56.99         38.11          9.63          53.64  ...            1   \n",
       "\n",
       "    sachet_3g_8  fb_user_6  fb_user_7  fb_user_8   aon  aug_vbc_3g  \\\n",
       "id                                                                   \n",
       "0             0        NaN        NaN        NaN  1958         0.0   \n",
       "1             0        NaN        1.0        NaN   710         0.0   \n",
       "2             0        NaN        NaN        NaN   882         0.0   \n",
       "3             0        NaN        NaN        NaN   982         0.0   \n",
       "4             0        1.0        1.0        1.0   647         0.0   \n",
       "\n",
       "    jul_vbc_3g  jun_vbc_3g  churn_probability  \n",
       "id                                             \n",
       "0          0.0         0.0                  0  \n",
       "1          0.0         0.0                  0  \n",
       "2          0.0         0.0                  0  \n",
       "3          0.0         0.0                  0  \n",
       "4          0.0         0.0                  0  \n",
       "\n",
       "[5 rows x 158 columns]"
      ]
     },
     "execution_count": 9,
     "metadata": {},
     "output_type": "execute_result"
    }
   ],
   "source": [
    "telcom_data.head()"
   ]
  },
  {
   "cell_type": "code",
   "execution_count": 10,
   "id": "cefa01f7",
   "metadata": {
    "execution": {
     "iopub.execute_input": "2022-10-08T11:46:16.721271Z",
     "iopub.status.busy": "2022-10-08T11:46:16.720854Z",
     "iopub.status.idle": "2022-10-08T11:46:16.948399Z",
     "shell.execute_reply": "2022-10-08T11:46:16.946939Z"
    },
    "papermill": {
     "duration": 0.241684,
     "end_time": "2022-10-08T11:46:16.951334",
     "exception": false,
     "start_time": "2022-10-08T11:46:16.709650",
     "status": "completed"
    },
    "tags": []
   },
   "outputs": [],
   "source": [
    "telcom_data.dtypes\n",
    "#since the data is only from year 2014, converting it to day of the year.\n",
    "# to keep it extensible for any other years, multiplying it with days in year + day in year\n",
    "def reform_dates(telcom_data):\n",
    "    date_cols = ['date_of_last_rech_6', 'date_of_last_rech_7', 'date_of_last_rech_8', 'date_of_last_rech_data_6', 'date_of_last_rech_data_7', 'date_of_last_rech_data_8']\n",
    "    for col_name in date_cols:\n",
    "        telcom_data[col_name] = pd.to_datetime(telcom_data[col_name]).dt.year*366 + pd.to_datetime(telcom_data[col_name]).dt.dayofyear\n",
    "    return telcom_data\n",
    "telcom_data = reform_dates(telcom_data)\n",
    "#DatetimeIndex(telcom_data['date_of_last_rech_6']).day"
   ]
  },
  {
   "cell_type": "code",
   "execution_count": null,
   "id": "b7f0ac25",
   "metadata": {
    "papermill": {
     "duration": 0.009418,
     "end_time": "2022-10-08T11:46:16.970991",
     "exception": false,
     "start_time": "2022-10-08T11:46:16.961573",
     "status": "completed"
    },
    "tags": []
   },
   "outputs": [],
   "source": []
  },
  {
   "cell_type": "code",
   "execution_count": null,
   "id": "c3380da0",
   "metadata": {
    "papermill": {
     "duration": 0.009385,
     "end_time": "2022-10-08T11:46:16.990451",
     "exception": false,
     "start_time": "2022-10-08T11:46:16.981066",
     "status": "completed"
    },
    "tags": []
   },
   "outputs": [],
   "source": []
  },
  {
   "cell_type": "code",
   "execution_count": 11,
   "id": "bd619cc9",
   "metadata": {
    "execution": {
     "iopub.execute_input": "2022-10-08T11:46:17.012305Z",
     "iopub.status.busy": "2022-10-08T11:46:17.011644Z",
     "iopub.status.idle": "2022-10-08T11:46:17.030283Z",
     "shell.execute_reply": "2022-10-08T11:46:17.029134Z"
    },
    "papermill": {
     "duration": 0.032389,
     "end_time": "2022-10-08T11:46:17.032582",
     "exception": false,
     "start_time": "2022-10-08T11:46:17.000193",
     "status": "completed"
    },
    "tags": []
   },
   "outputs": [
    {
     "data": {
      "text/plain": [
       "Index(['onnet_mou_6', 'onnet_mou_7', 'onnet_mou_8', 'offnet_mou_6',\n",
       "       'offnet_mou_7', 'offnet_mou_8', 'roam_ic_mou_6', 'roam_ic_mou_7',\n",
       "       'roam_ic_mou_8', 'roam_og_mou_6',\n",
       "       ...\n",
       "       'arpu_3g_8', 'arpu_2g_6', 'arpu_2g_7', 'arpu_2g_8', 'night_pck_user_6',\n",
       "       'night_pck_user_7', 'night_pck_user_8', 'fb_user_6', 'fb_user_7',\n",
       "       'fb_user_8'],\n",
       "      dtype='object', length=114)"
      ]
     },
     "execution_count": 11,
     "metadata": {},
     "output_type": "execute_result"
    }
   ],
   "source": [
    "telcom_data.columns[telcom_data.isna().any()]"
   ]
  },
  {
   "cell_type": "code",
   "execution_count": 12,
   "id": "e54d27f5",
   "metadata": {
    "execution": {
     "iopub.execute_input": "2022-10-08T11:46:17.054579Z",
     "iopub.status.busy": "2022-10-08T11:46:17.053929Z",
     "iopub.status.idle": "2022-10-08T11:46:17.062427Z",
     "shell.execute_reply": "2022-10-08T11:46:17.061477Z"
    },
    "papermill": {
     "duration": 0.022163,
     "end_time": "2022-10-08T11:46:17.064580",
     "exception": false,
     "start_time": "2022-10-08T11:46:17.042417",
     "status": "completed"
    },
    "tags": []
   },
   "outputs": [
    {
     "data": {
      "text/plain": [
       "array([nan,  1.,  0.])"
      ]
     },
     "execution_count": 12,
     "metadata": {},
     "output_type": "execute_result"
    }
   ],
   "source": [
    "telcom_data['fb_user_6'].unique()"
   ]
  },
  {
   "cell_type": "code",
   "execution_count": 13,
   "id": "ccaf00fc",
   "metadata": {
    "execution": {
     "iopub.execute_input": "2022-10-08T11:46:17.086274Z",
     "iopub.status.busy": "2022-10-08T11:46:17.085865Z",
     "iopub.status.idle": "2022-10-08T11:46:17.098082Z",
     "shell.execute_reply": "2022-10-08T11:46:17.096936Z"
    },
    "papermill": {
     "duration": 0.026036,
     "end_time": "2022-10-08T11:46:17.100478",
     "exception": false,
     "start_time": "2022-10-08T11:46:17.074442",
     "status": "completed"
    },
    "tags": []
   },
   "outputs": [
    {
     "data": {
      "text/plain": [
       "arpu_6                      float64\n",
       "arpu_7                      float64\n",
       "arpu_8                      float64\n",
       "onnet_mou_6                 float64\n",
       "onnet_mou_7                 float64\n",
       "onnet_mou_8                 float64\n",
       "offnet_mou_6                float64\n",
       "offnet_mou_7                float64\n",
       "offnet_mou_8                float64\n",
       "roam_ic_mou_6               float64\n",
       "roam_ic_mou_7               float64\n",
       "roam_ic_mou_8               float64\n",
       "roam_og_mou_6               float64\n",
       "roam_og_mou_7               float64\n",
       "roam_og_mou_8               float64\n",
       "loc_og_t2t_mou_6            float64\n",
       "loc_og_t2t_mou_7            float64\n",
       "loc_og_t2t_mou_8            float64\n",
       "loc_og_t2m_mou_6            float64\n",
       "loc_og_t2m_mou_7            float64\n",
       "loc_og_t2m_mou_8            float64\n",
       "loc_og_t2f_mou_6            float64\n",
       "loc_og_t2f_mou_7            float64\n",
       "loc_og_t2f_mou_8            float64\n",
       "loc_og_t2c_mou_6            float64\n",
       "loc_og_t2c_mou_7            float64\n",
       "loc_og_t2c_mou_8            float64\n",
       "loc_og_mou_6                float64\n",
       "loc_og_mou_7                float64\n",
       "loc_og_mou_8                float64\n",
       "std_og_t2t_mou_6            float64\n",
       "std_og_t2t_mou_7            float64\n",
       "std_og_t2t_mou_8            float64\n",
       "std_og_t2m_mou_6            float64\n",
       "std_og_t2m_mou_7            float64\n",
       "std_og_t2m_mou_8            float64\n",
       "std_og_t2f_mou_6            float64\n",
       "std_og_t2f_mou_7            float64\n",
       "std_og_t2f_mou_8            float64\n",
       "std_og_mou_6                float64\n",
       "std_og_mou_7                float64\n",
       "std_og_mou_8                float64\n",
       "isd_og_mou_6                float64\n",
       "isd_og_mou_7                float64\n",
       "isd_og_mou_8                float64\n",
       "spl_og_mou_6                float64\n",
       "spl_og_mou_7                float64\n",
       "spl_og_mou_8                float64\n",
       "og_others_6                 float64\n",
       "og_others_7                 float64\n",
       "og_others_8                 float64\n",
       "total_og_mou_6              float64\n",
       "total_og_mou_7              float64\n",
       "total_og_mou_8              float64\n",
       "loc_ic_t2t_mou_6            float64\n",
       "loc_ic_t2t_mou_7            float64\n",
       "loc_ic_t2t_mou_8            float64\n",
       "loc_ic_t2m_mou_6            float64\n",
       "loc_ic_t2m_mou_7            float64\n",
       "loc_ic_t2m_mou_8            float64\n",
       "loc_ic_t2f_mou_6            float64\n",
       "loc_ic_t2f_mou_7            float64\n",
       "loc_ic_t2f_mou_8            float64\n",
       "loc_ic_mou_6                float64\n",
       "loc_ic_mou_7                float64\n",
       "loc_ic_mou_8                float64\n",
       "std_ic_t2t_mou_6            float64\n",
       "std_ic_t2t_mou_7            float64\n",
       "std_ic_t2t_mou_8            float64\n",
       "std_ic_t2m_mou_6            float64\n",
       "std_ic_t2m_mou_7            float64\n",
       "std_ic_t2m_mou_8            float64\n",
       "std_ic_t2f_mou_6            float64\n",
       "std_ic_t2f_mou_7            float64\n",
       "std_ic_t2f_mou_8            float64\n",
       "std_ic_mou_6                float64\n",
       "std_ic_mou_7                float64\n",
       "std_ic_mou_8                float64\n",
       "total_ic_mou_6              float64\n",
       "total_ic_mou_7              float64\n",
       "total_ic_mou_8              float64\n",
       "spl_ic_mou_6                float64\n",
       "spl_ic_mou_7                float64\n",
       "spl_ic_mou_8                float64\n",
       "isd_ic_mou_6                float64\n",
       "isd_ic_mou_7                float64\n",
       "isd_ic_mou_8                float64\n",
       "ic_others_6                 float64\n",
       "ic_others_7                 float64\n",
       "ic_others_8                 float64\n",
       "total_rech_num_6              int64\n",
       "total_rech_num_7              int64\n",
       "total_rech_num_8              int64\n",
       "total_rech_amt_6              int64\n",
       "total_rech_amt_7              int64\n",
       "total_rech_amt_8              int64\n",
       "max_rech_amt_6                int64\n",
       "max_rech_amt_7                int64\n",
       "max_rech_amt_8                int64\n",
       "date_of_last_rech_6         float64\n",
       "date_of_last_rech_7         float64\n",
       "date_of_last_rech_8         float64\n",
       "last_day_rch_amt_6            int64\n",
       "last_day_rch_amt_7            int64\n",
       "last_day_rch_amt_8            int64\n",
       "date_of_last_rech_data_6    float64\n",
       "date_of_last_rech_data_7    float64\n",
       "date_of_last_rech_data_8    float64\n",
       "total_rech_data_6           float64\n",
       "total_rech_data_7           float64\n",
       "total_rech_data_8           float64\n",
       "max_rech_data_6             float64\n",
       "max_rech_data_7             float64\n",
       "max_rech_data_8             float64\n",
       "count_rech_2g_6             float64\n",
       "count_rech_2g_7             float64\n",
       "count_rech_2g_8             float64\n",
       "count_rech_3g_6             float64\n",
       "count_rech_3g_7             float64\n",
       "count_rech_3g_8             float64\n",
       "av_rech_amt_data_6          float64\n",
       "av_rech_amt_data_7          float64\n",
       "av_rech_amt_data_8          float64\n",
       "vol_2g_mb_6                 float64\n",
       "vol_2g_mb_7                 float64\n",
       "vol_2g_mb_8                 float64\n",
       "vol_3g_mb_6                 float64\n",
       "vol_3g_mb_7                 float64\n",
       "vol_3g_mb_8                 float64\n",
       "arpu_3g_6                   float64\n",
       "arpu_3g_7                   float64\n",
       "arpu_3g_8                   float64\n",
       "arpu_2g_6                   float64\n",
       "arpu_2g_7                   float64\n",
       "arpu_2g_8                   float64\n",
       "night_pck_user_6            float64\n",
       "night_pck_user_7            float64\n",
       "night_pck_user_8            float64\n",
       "monthly_2g_6                  int64\n",
       "monthly_2g_7                  int64\n",
       "monthly_2g_8                  int64\n",
       "sachet_2g_6                   int64\n",
       "sachet_2g_7                   int64\n",
       "sachet_2g_8                   int64\n",
       "monthly_3g_6                  int64\n",
       "monthly_3g_7                  int64\n",
       "monthly_3g_8                  int64\n",
       "sachet_3g_6                   int64\n",
       "sachet_3g_7                   int64\n",
       "sachet_3g_8                   int64\n",
       "fb_user_6                   float64\n",
       "fb_user_7                   float64\n",
       "fb_user_8                   float64\n",
       "aon                           int64\n",
       "aug_vbc_3g                  float64\n",
       "jul_vbc_3g                  float64\n",
       "jun_vbc_3g                  float64\n",
       "churn_probability             int64\n",
       "dtype: object"
      ]
     },
     "execution_count": 13,
     "metadata": {},
     "output_type": "execute_result"
    }
   ],
   "source": [
    "pd.set_option('display.max_rows', None)\n",
    "telcom_data.dtypes"
   ]
  },
  {
   "cell_type": "code",
   "execution_count": 14,
   "id": "2d21055b",
   "metadata": {
    "execution": {
     "iopub.execute_input": "2022-10-08T11:46:17.123024Z",
     "iopub.status.busy": "2022-10-08T11:46:17.122615Z",
     "iopub.status.idle": "2022-10-08T11:46:17.126860Z",
     "shell.execute_reply": "2022-10-08T11:46:17.125803Z"
    },
    "papermill": {
     "duration": 0.018227,
     "end_time": "2022-10-08T11:46:17.129130",
     "exception": false,
     "start_time": "2022-10-08T11:46:17.110903",
     "status": "completed"
    },
    "tags": []
   },
   "outputs": [],
   "source": [
    "# aug_vbc_3g, jul_vbc_3g, jun_vbc_3g are not following same naming standard, let's rename these columns\n",
    "#telcom_data.rename(columns = {'aug_vbc_3g':'vbc_3g_8', 'jul_vbc_3g': 'vbc_3g_7', 'jun_vbc_3g': 'vbc_3g_6' }, inplace = True)"
   ]
  },
  {
   "cell_type": "code",
   "execution_count": 15,
   "id": "7ede2c24",
   "metadata": {
    "execution": {
     "iopub.execute_input": "2022-10-08T11:46:17.151528Z",
     "iopub.status.busy": "2022-10-08T11:46:17.151136Z",
     "iopub.status.idle": "2022-10-08T11:46:17.159770Z",
     "shell.execute_reply": "2022-10-08T11:46:17.158604Z"
    },
    "papermill": {
     "duration": 0.022833,
     "end_time": "2022-10-08T11:46:17.162175",
     "exception": false,
     "start_time": "2022-10-08T11:46:17.139342",
     "status": "completed"
    },
    "tags": []
   },
   "outputs": [
    {
     "data": {
      "text/plain": [
       "['date_of_last_rech_6',\n",
       " 'date_of_last_rech_data_6',\n",
       " 'night_pck_user_6',\n",
       " 'date_of_last_rech_7',\n",
       " 'date_of_last_rech_data_7',\n",
       " 'night_pck_user_7',\n",
       " 'date_of_last_rech_8',\n",
       " 'date_of_last_rech_data_8',\n",
       " 'night_pck_user_8']"
      ]
     },
     "execution_count": 15,
     "metadata": {},
     "output_type": "execute_result"
    }
   ],
   "source": [
    "#Lets look at the data dictionary and classify numeric vs categorical columns\n",
    "cat_col_prefix = ['date_of_last_rech_','date_of_last_rech_data_','night_pck_user_']\n",
    "cat_cols = []\n",
    "for i in range(6,9):\n",
    "    for prefix in cat_col_prefix:\n",
    "        cat_cols.append(prefix+str(i));\n",
    "cat_cols"
   ]
  },
  {
   "cell_type": "code",
   "execution_count": 16,
   "id": "a14999f3",
   "metadata": {
    "execution": {
     "iopub.execute_input": "2022-10-08T11:46:17.185634Z",
     "iopub.status.busy": "2022-10-08T11:46:17.185187Z",
     "iopub.status.idle": "2022-10-08T11:46:17.191527Z",
     "shell.execute_reply": "2022-10-08T11:46:17.190160Z"
    },
    "papermill": {
     "duration": 0.020731,
     "end_time": "2022-10-08T11:46:17.193931",
     "exception": false,
     "start_time": "2022-10-08T11:46:17.173200",
     "status": "completed"
    },
    "tags": []
   },
   "outputs": [],
   "source": [
    "num_cols = [i for i in telcom_data.columns if i not in cat_cols]"
   ]
  },
  {
   "cell_type": "code",
   "execution_count": 17,
   "id": "86b178fb",
   "metadata": {
    "execution": {
     "iopub.execute_input": "2022-10-08T11:46:17.217104Z",
     "iopub.status.busy": "2022-10-08T11:46:17.216675Z",
     "iopub.status.idle": "2022-10-08T11:46:17.918380Z",
     "shell.execute_reply": "2022-10-08T11:46:17.917098Z"
    },
    "papermill": {
     "duration": 0.716307,
     "end_time": "2022-10-08T11:46:17.921091",
     "exception": false,
     "start_time": "2022-10-08T11:46:17.204784",
     "status": "completed"
    },
    "tags": []
   },
   "outputs": [],
   "source": [
    "#Missing values imputation:\n",
    "# impute all numeric cols with median and categorical ones with mode\n",
    "#for col in num_cols:\n",
    "#    telcom_data[col].fillna(telcom_data[col].median(), inplace=True)\n",
    "def impute_missing_values(data):\n",
    "    data[num_cols] = data.filter(num_cols).fillna(data.median(numeric_only=True).iloc[0])\n",
    "    data[cat_cols] = data.filter(cat_cols).fillna(data.mode().iloc[0])\n",
    "    return data;\n",
    "telcom_data = impute_missing_values(telcom_data)"
   ]
  },
  {
   "cell_type": "code",
   "execution_count": 18,
   "id": "3b557f96",
   "metadata": {
    "execution": {
     "iopub.execute_input": "2022-10-08T11:46:17.943798Z",
     "iopub.status.busy": "2022-10-08T11:46:17.943314Z",
     "iopub.status.idle": "2022-10-08T11:46:17.972922Z",
     "shell.execute_reply": "2022-10-08T11:46:17.971819Z"
    },
    "papermill": {
     "duration": 0.043624,
     "end_time": "2022-10-08T11:46:17.975175",
     "exception": false,
     "start_time": "2022-10-08T11:46:17.931551",
     "status": "completed"
    },
    "tags": []
   },
   "outputs": [
    {
     "data": {
      "text/plain": [
       "Index([], dtype='object')"
      ]
     },
     "execution_count": 18,
     "metadata": {},
     "output_type": "execute_result"
    }
   ],
   "source": [
    "telcom_data.columns[telcom_data.isna().sum()>0]"
   ]
  },
  {
   "cell_type": "code",
   "execution_count": 19,
   "id": "086b0048",
   "metadata": {
    "execution": {
     "iopub.execute_input": "2022-10-08T11:46:17.997438Z",
     "iopub.status.busy": "2022-10-08T11:46:17.997042Z",
     "iopub.status.idle": "2022-10-08T11:46:18.004067Z",
     "shell.execute_reply": "2022-10-08T11:46:18.002930Z"
    },
    "papermill": {
     "duration": 0.020832,
     "end_time": "2022-10-08T11:46:18.006291",
     "exception": false,
     "start_time": "2022-10-08T11:46:17.985459",
     "status": "completed"
    },
    "tags": []
   },
   "outputs": [
    {
     "data": {
      "text/plain": [
       "(69999, 158)"
      ]
     },
     "execution_count": 19,
     "metadata": {},
     "output_type": "execute_result"
    }
   ],
   "source": [
    "#telcom_data['night_pck_user_6']#, 'night_pck_user_7', 'night_pck_user_8']\n",
    "telcom_data.shape"
   ]
  },
  {
   "cell_type": "code",
   "execution_count": 20,
   "id": "dcad6469",
   "metadata": {
    "execution": {
     "iopub.execute_input": "2022-10-08T11:46:18.029056Z",
     "iopub.status.busy": "2022-10-08T11:46:18.028605Z",
     "iopub.status.idle": "2022-10-08T11:46:18.060945Z",
     "shell.execute_reply": "2022-10-08T11:46:18.059790Z"
    },
    "papermill": {
     "duration": 0.046246,
     "end_time": "2022-10-08T11:46:18.063076",
     "exception": false,
     "start_time": "2022-10-08T11:46:18.016830",
     "status": "completed"
    },
    "tags": []
   },
   "outputs": [],
   "source": [
    "X = telcom_data.iloc[:,0:157]\n",
    "y = telcom_data['churn_probability']"
   ]
  },
  {
   "cell_type": "code",
   "execution_count": 21,
   "id": "f098be2c",
   "metadata": {
    "execution": {
     "iopub.execute_input": "2022-10-08T11:46:18.086070Z",
     "iopub.status.busy": "2022-10-08T11:46:18.085636Z",
     "iopub.status.idle": "2022-10-08T11:46:19.303851Z",
     "shell.execute_reply": "2022-10-08T11:46:19.302488Z"
    },
    "papermill": {
     "duration": 1.23313,
     "end_time": "2022-10-08T11:46:19.306668",
     "exception": false,
     "start_time": "2022-10-08T11:46:18.073538",
     "status": "completed"
    },
    "tags": []
   },
   "outputs": [],
   "source": [
    "from sklearn.tree import DecisionTreeClassifier\n",
    "dt_base = DecisionTreeClassifier(random_state=42, max_depth=4)"
   ]
  },
  {
   "cell_type": "code",
   "execution_count": 22,
   "id": "50b4bdc3",
   "metadata": {
    "execution": {
     "iopub.execute_input": "2022-10-08T11:46:19.329479Z",
     "iopub.status.busy": "2022-10-08T11:46:19.329083Z",
     "iopub.status.idle": "2022-10-08T11:46:21.955515Z",
     "shell.execute_reply": "2022-10-08T11:46:21.954335Z"
    },
    "papermill": {
     "duration": 2.640706,
     "end_time": "2022-10-08T11:46:21.957818",
     "exception": false,
     "start_time": "2022-10-08T11:46:19.317112",
     "status": "completed"
    },
    "tags": []
   },
   "outputs": [
    {
     "data": {
      "text/plain": [
       "DecisionTreeClassifier(max_depth=4, random_state=42)"
      ]
     },
     "execution_count": 22,
     "metadata": {},
     "output_type": "execute_result"
    }
   ],
   "source": [
    "dt_base.fit(X, y)"
   ]
  },
  {
   "cell_type": "code",
   "execution_count": 23,
   "id": "38cdc12f",
   "metadata": {
    "execution": {
     "iopub.execute_input": "2022-10-08T11:46:21.981100Z",
     "iopub.status.busy": "2022-10-08T11:46:21.980092Z",
     "iopub.status.idle": "2022-10-08T11:46:22.048850Z",
     "shell.execute_reply": "2022-10-08T11:46:22.047833Z"
    },
    "papermill": {
     "duration": 0.083252,
     "end_time": "2022-10-08T11:46:22.051622",
     "exception": false,
     "start_time": "2022-10-08T11:46:21.968370",
     "status": "completed"
    },
    "tags": []
   },
   "outputs": [],
   "source": [
    "y_train_pred = dt_base.predict(X)"
   ]
  },
  {
   "cell_type": "code",
   "execution_count": 24,
   "id": "fce29a66",
   "metadata": {
    "execution": {
     "iopub.execute_input": "2022-10-08T11:46:22.074663Z",
     "iopub.status.busy": "2022-10-08T11:46:22.073867Z",
     "iopub.status.idle": "2022-10-08T11:46:22.103244Z",
     "shell.execute_reply": "2022-10-08T11:46:22.101721Z"
    },
    "papermill": {
     "duration": 0.043605,
     "end_time": "2022-10-08T11:46:22.105725",
     "exception": false,
     "start_time": "2022-10-08T11:46:22.062120",
     "status": "completed"
    },
    "tags": []
   },
   "outputs": [
    {
     "name": "stdout",
     "output_type": "stream",
     "text": [
      "0.9419991714167345\n"
     ]
    },
    {
     "data": {
      "text/plain": [
       "array([[61644,  1223],\n",
       "       [ 2837,  4295]])"
      ]
     },
     "execution_count": 24,
     "metadata": {},
     "output_type": "execute_result"
    }
   ],
   "source": [
    "from sklearn.metrics import confusion_matrix, accuracy_score\n",
    "print(accuracy_score(y, y_train_pred))\n",
    "confusion_matrix(y, y_train_pred)"
   ]
  },
  {
   "cell_type": "markdown",
   "id": "ca19e92a",
   "metadata": {
    "papermill": {
     "duration": 0.010313,
     "end_time": "2022-10-08T11:46:22.126707",
     "exception": false,
     "start_time": "2022-10-08T11:46:22.116394",
     "status": "completed"
    },
    "tags": []
   },
   "source": [
    "## "
   ]
  },
  {
   "cell_type": "code",
   "execution_count": 25,
   "id": "38c110f9",
   "metadata": {
    "execution": {
     "iopub.execute_input": "2022-10-08T11:46:22.150763Z",
     "iopub.status.busy": "2022-10-08T11:46:22.149638Z",
     "iopub.status.idle": "2022-10-08T11:46:23.643906Z",
     "shell.execute_reply": "2022-10-08T11:46:23.642710Z"
    },
    "papermill": {
     "duration": 1.509295,
     "end_time": "2022-10-08T11:46:23.646575",
     "exception": false,
     "start_time": "2022-10-08T11:46:22.137280",
     "status": "completed"
    },
    "tags": []
   },
   "outputs": [],
   "source": [
    "test_data = pd.read_csv('/kaggle/input/telecom-churn-case-study-hackathon-c40/test.csv');\n",
    "#test_data.set_index('id', inplace=True)\n",
    "test_data = reform_dates(test_data)\n",
    "test_data['churn_probability'] = 0\n",
    "test_data = impute_missing_values(test_data)\n",
    "y_test = test_data.pop('churn_probability')"
   ]
  },
  {
   "cell_type": "code",
   "execution_count": 26,
   "id": "84715304",
   "metadata": {
    "execution": {
     "iopub.execute_input": "2022-10-08T11:46:23.670306Z",
     "iopub.status.busy": "2022-10-08T11:46:23.669871Z",
     "iopub.status.idle": "2022-10-08T11:46:23.706140Z",
     "shell.execute_reply": "2022-10-08T11:46:23.704915Z"
    },
    "papermill": {
     "duration": 0.051417,
     "end_time": "2022-10-08T11:46:23.708765",
     "exception": false,
     "start_time": "2022-10-08T11:46:23.657348",
     "status": "completed"
    },
    "tags": []
   },
   "outputs": [],
   "source": [
    "X_test = test_data[X.columns]"
   ]
  },
  {
   "cell_type": "code",
   "execution_count": 27,
   "id": "6fa3ae3d",
   "metadata": {
    "execution": {
     "iopub.execute_input": "2022-10-08T11:46:23.732455Z",
     "iopub.status.busy": "2022-10-08T11:46:23.732052Z",
     "iopub.status.idle": "2022-10-08T11:46:23.764890Z",
     "shell.execute_reply": "2022-10-08T11:46:23.763364Z"
    },
    "papermill": {
     "duration": 0.048131,
     "end_time": "2022-10-08T11:46:23.767680",
     "exception": false,
     "start_time": "2022-10-08T11:46:23.719549",
     "status": "completed"
    },
    "tags": []
   },
   "outputs": [],
   "source": [
    "test_data['churn_probability'] = dt_base.predict(X_test)"
   ]
  },
  {
   "cell_type": "code",
   "execution_count": 28,
   "id": "718c3610",
   "metadata": {
    "execution": {
     "iopub.execute_input": "2022-10-08T11:46:23.791191Z",
     "iopub.status.busy": "2022-10-08T11:46:23.790795Z",
     "iopub.status.idle": "2022-10-08T11:46:23.799706Z",
     "shell.execute_reply": "2022-10-08T11:46:23.798357Z"
    },
    "papermill": {
     "duration": 0.023926,
     "end_time": "2022-10-08T11:46:23.802384",
     "exception": false,
     "start_time": "2022-10-08T11:46:23.778458",
     "status": "completed"
    },
    "tags": []
   },
   "outputs": [],
   "source": [
    "solution = test_data[['id', 'churn_probability']]"
   ]
  },
  {
   "cell_type": "code",
   "execution_count": 29,
   "id": "eba2235b",
   "metadata": {
    "execution": {
     "iopub.execute_input": "2022-10-08T11:46:23.826879Z",
     "iopub.status.busy": "2022-10-08T11:46:23.826454Z",
     "iopub.status.idle": "2022-10-08T11:46:23.832510Z",
     "shell.execute_reply": "2022-10-08T11:46:23.831237Z"
    },
    "papermill": {
     "duration": 0.021829,
     "end_time": "2022-10-08T11:46:23.835037",
     "exception": false,
     "start_time": "2022-10-08T11:46:23.813208",
     "status": "completed"
    },
    "tags": []
   },
   "outputs": [],
   "source": [
    "solution.set_index('id', inplace=True)"
   ]
  },
  {
   "cell_type": "code",
   "execution_count": 30,
   "id": "a81b439d",
   "metadata": {
    "execution": {
     "iopub.execute_input": "2022-10-08T11:46:23.859906Z",
     "iopub.status.busy": "2022-10-08T11:46:23.858773Z",
     "iopub.status.idle": "2022-10-08T11:46:23.869327Z",
     "shell.execute_reply": "2022-10-08T11:46:23.868065Z"
    },
    "papermill": {
     "duration": 0.025683,
     "end_time": "2022-10-08T11:46:23.871675",
     "exception": false,
     "start_time": "2022-10-08T11:46:23.845992",
     "status": "completed"
    },
    "tags": []
   },
   "outputs": [
    {
     "data": {
      "text/html": [
       "<div>\n",
       "<style scoped>\n",
       "    .dataframe tbody tr th:only-of-type {\n",
       "        vertical-align: middle;\n",
       "    }\n",
       "\n",
       "    .dataframe tbody tr th {\n",
       "        vertical-align: top;\n",
       "    }\n",
       "\n",
       "    .dataframe thead th {\n",
       "        text-align: right;\n",
       "    }\n",
       "</style>\n",
       "<table border=\"1\" class=\"dataframe\">\n",
       "  <thead>\n",
       "    <tr style=\"text-align: right;\">\n",
       "      <th></th>\n",
       "      <th>churn_probability</th>\n",
       "    </tr>\n",
       "    <tr>\n",
       "      <th>id</th>\n",
       "      <th></th>\n",
       "    </tr>\n",
       "  </thead>\n",
       "  <tbody>\n",
       "    <tr>\n",
       "      <th>69999</th>\n",
       "      <td>0</td>\n",
       "    </tr>\n",
       "    <tr>\n",
       "      <th>70000</th>\n",
       "      <td>0</td>\n",
       "    </tr>\n",
       "    <tr>\n",
       "      <th>70001</th>\n",
       "      <td>1</td>\n",
       "    </tr>\n",
       "    <tr>\n",
       "      <th>70002</th>\n",
       "      <td>0</td>\n",
       "    </tr>\n",
       "    <tr>\n",
       "      <th>70003</th>\n",
       "      <td>0</td>\n",
       "    </tr>\n",
       "  </tbody>\n",
       "</table>\n",
       "</div>"
      ],
      "text/plain": [
       "       churn_probability\n",
       "id                      \n",
       "69999                  0\n",
       "70000                  0\n",
       "70001                  1\n",
       "70002                  0\n",
       "70003                  0"
      ]
     },
     "execution_count": 30,
     "metadata": {},
     "output_type": "execute_result"
    }
   ],
   "source": [
    "solution.head()"
   ]
  },
  {
   "cell_type": "code",
   "execution_count": 31,
   "id": "365c0078",
   "metadata": {
    "execution": {
     "iopub.execute_input": "2022-10-08T11:46:23.904158Z",
     "iopub.status.busy": "2022-10-08T11:46:23.903076Z",
     "iopub.status.idle": "2022-10-08T11:46:23.958971Z",
     "shell.execute_reply": "2022-10-08T11:46:23.956740Z"
    },
    "papermill": {
     "duration": 0.078201,
     "end_time": "2022-10-08T11:46:23.961941",
     "exception": false,
     "start_time": "2022-10-08T11:46:23.883740",
     "status": "completed"
    },
    "tags": []
   },
   "outputs": [],
   "source": [
    "solution.to_csv('solution.csv', header=True, index=True)"
   ]
  },
  {
   "cell_type": "code",
   "execution_count": 32,
   "id": "72e6118b",
   "metadata": {
    "execution": {
     "iopub.execute_input": "2022-10-08T11:46:23.992645Z",
     "iopub.status.busy": "2022-10-08T11:46:23.991719Z",
     "iopub.status.idle": "2022-10-08T11:46:24.040213Z",
     "shell.execute_reply": "2022-10-08T11:46:24.038668Z"
    },
    "papermill": {
     "duration": 0.069805,
     "end_time": "2022-10-08T11:46:24.043092",
     "exception": false,
     "start_time": "2022-10-08T11:46:23.973287",
     "status": "completed"
    },
    "tags": []
   },
   "outputs": [
    {
     "data": {
      "text/html": [
       "<a href=solution.csv>Download CSV file</a>"
      ],
      "text/plain": [
       "<IPython.core.display.HTML object>"
      ]
     },
     "execution_count": 32,
     "metadata": {},
     "output_type": "execute_result"
    }
   ],
   "source": [
    "from IPython.display import HTML\n",
    "import pandas as pd\n",
    "import numpy as np\n",
    "\n",
    "solution.to_csv('solution.csv')\n",
    "\n",
    "def create_download_link(title = \"Download CSV file\", filename = \"data.csv\"):  \n",
    "    html = '<a href={filename}>{title}</a>'\n",
    "    html = html.format(title=title,filename=filename)\n",
    "    return HTML(html)\n",
    "\n",
    "# create a link to download the dataframe which was saved with .to_csv method\n",
    "create_download_link(filename='solution.csv')"
   ]
  },
  {
   "cell_type": "code",
   "execution_count": null,
   "id": "22a1e0cd",
   "metadata": {
    "papermill": {
     "duration": 0.01169,
     "end_time": "2022-10-08T11:46:24.066229",
     "exception": false,
     "start_time": "2022-10-08T11:46:24.054539",
     "status": "completed"
    },
    "tags": []
   },
   "outputs": [],
   "source": []
  }
 ],
 "metadata": {
  "kernelspec": {
   "display_name": "Python 3",
   "language": "python",
   "name": "python3"
  },
  "language_info": {
   "codemirror_mode": {
    "name": "ipython",
    "version": 3
   },
   "file_extension": ".py",
   "mimetype": "text/x-python",
   "name": "python",
   "nbconvert_exporter": "python",
   "pygments_lexer": "ipython3",
   "version": "3.7.12"
  },
  "papermill": {
   "default_parameters": {},
   "duration": 21.599439,
   "end_time": "2022-10-08T11:46:24.902300",
   "environment_variables": {},
   "exception": null,
   "input_path": "__notebook__.ipynb",
   "output_path": "__notebook__.ipynb",
   "parameters": {},
   "start_time": "2022-10-08T11:46:03.302861",
   "version": "2.3.4"
  }
 },
 "nbformat": 4,
 "nbformat_minor": 5
}
