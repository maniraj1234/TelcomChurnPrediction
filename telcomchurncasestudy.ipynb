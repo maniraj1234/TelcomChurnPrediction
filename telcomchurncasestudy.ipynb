{
 "cells": [
  {
   "cell_type": "code",
   "execution_count": 1,
   "id": "cc8c1a62",
   "metadata": {
    "_cell_guid": "b1076dfc-b9ad-4769-8c92-a6c4dae69d19",
    "_uuid": "8f2839f25d086af736a60e9eeb907d3b93b6e0e5",
    "execution": {
     "iopub.execute_input": "2022-10-09T07:14:50.774703Z",
     "iopub.status.busy": "2022-10-09T07:14:50.774224Z",
     "iopub.status.idle": "2022-10-09T07:14:50.788210Z",
     "shell.execute_reply": "2022-10-09T07:14:50.786953Z"
    },
    "papermill": {
     "duration": 0.032085,
     "end_time": "2022-10-09T07:14:50.791470",
     "exception": false,
     "start_time": "2022-10-09T07:14:50.759385",
     "status": "completed"
    },
    "tags": []
   },
   "outputs": [
    {
     "name": "stdout",
     "output_type": "stream",
     "text": [
      "/kaggle/input/telecom-churn-case-study-hackathon-c40/data_dictionary.csv\n",
      "/kaggle/input/telecom-churn-case-study-hackathon-c40/train.csv\n",
      "/kaggle/input/telecom-churn-case-study-hackathon-c40/test.csv\n",
      "/kaggle/input/telecom-churn-case-study-hackathon-c40/solution.csv\n"
     ]
    }
   ],
   "source": [
    "# This Python 3 environment comes with many helpful analytics libraries installed\n",
    "# It is defined by the kaggle/python Docker image: https://github.com/kaggle/docker-python\n",
    "# For example, here's several helpful packages to load\n",
    "\n",
    "import numpy as np # linear algebra\n",
    "import pandas as pd # data processing, CSV file I/O (e.g. pd.read_csv)\n",
    "\n",
    "# Input data files are available in the read-only \"../input/\" directory\n",
    "# For example, running this (by clicking run or pressing Shift+Enter) will list all files under the input directory\n",
    "\n",
    "import os\n",
    "for dirname, _, filenames in os.walk('/kaggle/input'):\n",
    "    for filename in filenames:\n",
    "        print(os.path.join(dirname, filename))\n",
    "\n",
    "# You can write up to 20GB to the current directory (/kaggle/working/) that gets preserved as output when you create a version using \"Save & Run All\" \n",
    "# You can also write temporary files to /kaggle/temp/, but they won't be saved outside of the current session"
   ]
  },
  {
   "cell_type": "code",
   "execution_count": 2,
   "id": "f17748af",
   "metadata": {
    "execution": {
     "iopub.execute_input": "2022-10-09T07:14:50.817672Z",
     "iopub.status.busy": "2022-10-09T07:14:50.817296Z",
     "iopub.status.idle": "2022-10-09T07:14:50.821805Z",
     "shell.execute_reply": "2022-10-09T07:14:50.820558Z"
    },
    "papermill": {
     "duration": 0.019724,
     "end_time": "2022-10-09T07:14:50.823995",
     "exception": false,
     "start_time": "2022-10-09T07:14:50.804271",
     "status": "completed"
    },
    "tags": []
   },
   "outputs": [],
   "source": [
    "#pd.set_option('display.max_rows', 30)"
   ]
  },
  {
   "cell_type": "code",
   "execution_count": 3,
   "id": "08225090",
   "metadata": {
    "execution": {
     "iopub.execute_input": "2022-10-09T07:14:50.851050Z",
     "iopub.status.busy": "2022-10-09T07:14:50.850599Z",
     "iopub.status.idle": "2022-10-09T07:14:52.969512Z",
     "shell.execute_reply": "2022-10-09T07:14:52.967773Z"
    },
    "papermill": {
     "duration": 2.134693,
     "end_time": "2022-10-09T07:14:52.972592",
     "exception": false,
     "start_time": "2022-10-09T07:14:50.837899",
     "status": "completed"
    },
    "tags": []
   },
   "outputs": [],
   "source": [
    "telcom_data = pd.read_csv('/kaggle/input/telecom-churn-case-study-hackathon-c40/train.csv');\n",
    "telcom_data.set_index('id', inplace=True)"
   ]
  },
  {
   "cell_type": "code",
   "execution_count": 4,
   "id": "8ee71bd6",
   "metadata": {
    "execution": {
     "iopub.execute_input": "2022-10-09T07:14:52.997352Z",
     "iopub.status.busy": "2022-10-09T07:14:52.996922Z",
     "iopub.status.idle": "2022-10-09T07:14:53.040125Z",
     "shell.execute_reply": "2022-10-09T07:14:53.039000Z"
    },
    "papermill": {
     "duration": 0.058517,
     "end_time": "2022-10-09T07:14:53.042650",
     "exception": false,
     "start_time": "2022-10-09T07:14:52.984133",
     "status": "completed"
    },
    "tags": []
   },
   "outputs": [
    {
     "data": {
      "text/html": [
       "<div>\n",
       "<style scoped>\n",
       "    .dataframe tbody tr th:only-of-type {\n",
       "        vertical-align: middle;\n",
       "    }\n",
       "\n",
       "    .dataframe tbody tr th {\n",
       "        vertical-align: top;\n",
       "    }\n",
       "\n",
       "    .dataframe thead th {\n",
       "        text-align: right;\n",
       "    }\n",
       "</style>\n",
       "<table border=\"1\" class=\"dataframe\">\n",
       "  <thead>\n",
       "    <tr style=\"text-align: right;\">\n",
       "      <th></th>\n",
       "      <th>circle_id</th>\n",
       "      <th>loc_og_t2o_mou</th>\n",
       "      <th>std_og_t2o_mou</th>\n",
       "      <th>loc_ic_t2o_mou</th>\n",
       "      <th>last_date_of_month_6</th>\n",
       "      <th>last_date_of_month_7</th>\n",
       "      <th>last_date_of_month_8</th>\n",
       "      <th>arpu_6</th>\n",
       "      <th>arpu_7</th>\n",
       "      <th>arpu_8</th>\n",
       "      <th>...</th>\n",
       "      <th>sachet_3g_7</th>\n",
       "      <th>sachet_3g_8</th>\n",
       "      <th>fb_user_6</th>\n",
       "      <th>fb_user_7</th>\n",
       "      <th>fb_user_8</th>\n",
       "      <th>aon</th>\n",
       "      <th>aug_vbc_3g</th>\n",
       "      <th>jul_vbc_3g</th>\n",
       "      <th>jun_vbc_3g</th>\n",
       "      <th>churn_probability</th>\n",
       "    </tr>\n",
       "    <tr>\n",
       "      <th>id</th>\n",
       "      <th></th>\n",
       "      <th></th>\n",
       "      <th></th>\n",
       "      <th></th>\n",
       "      <th></th>\n",
       "      <th></th>\n",
       "      <th></th>\n",
       "      <th></th>\n",
       "      <th></th>\n",
       "      <th></th>\n",
       "      <th></th>\n",
       "      <th></th>\n",
       "      <th></th>\n",
       "      <th></th>\n",
       "      <th></th>\n",
       "      <th></th>\n",
       "      <th></th>\n",
       "      <th></th>\n",
       "      <th></th>\n",
       "      <th></th>\n",
       "      <th></th>\n",
       "    </tr>\n",
       "  </thead>\n",
       "  <tbody>\n",
       "    <tr>\n",
       "      <th>0</th>\n",
       "      <td>109</td>\n",
       "      <td>0.0</td>\n",
       "      <td>0.0</td>\n",
       "      <td>0.0</td>\n",
       "      <td>6/30/2014</td>\n",
       "      <td>7/31/2014</td>\n",
       "      <td>8/31/2014</td>\n",
       "      <td>31.277</td>\n",
       "      <td>87.009</td>\n",
       "      <td>7.527</td>\n",
       "      <td>...</td>\n",
       "      <td>0</td>\n",
       "      <td>0</td>\n",
       "      <td>NaN</td>\n",
       "      <td>NaN</td>\n",
       "      <td>NaN</td>\n",
       "      <td>1958</td>\n",
       "      <td>0.0</td>\n",
       "      <td>0.0</td>\n",
       "      <td>0.0</td>\n",
       "      <td>0</td>\n",
       "    </tr>\n",
       "    <tr>\n",
       "      <th>1</th>\n",
       "      <td>109</td>\n",
       "      <td>0.0</td>\n",
       "      <td>0.0</td>\n",
       "      <td>0.0</td>\n",
       "      <td>6/30/2014</td>\n",
       "      <td>7/31/2014</td>\n",
       "      <td>8/31/2014</td>\n",
       "      <td>0.000</td>\n",
       "      <td>122.787</td>\n",
       "      <td>42.953</td>\n",
       "      <td>...</td>\n",
       "      <td>0</td>\n",
       "      <td>0</td>\n",
       "      <td>NaN</td>\n",
       "      <td>1.0</td>\n",
       "      <td>NaN</td>\n",
       "      <td>710</td>\n",
       "      <td>0.0</td>\n",
       "      <td>0.0</td>\n",
       "      <td>0.0</td>\n",
       "      <td>0</td>\n",
       "    </tr>\n",
       "    <tr>\n",
       "      <th>2</th>\n",
       "      <td>109</td>\n",
       "      <td>0.0</td>\n",
       "      <td>0.0</td>\n",
       "      <td>0.0</td>\n",
       "      <td>6/30/2014</td>\n",
       "      <td>7/31/2014</td>\n",
       "      <td>8/31/2014</td>\n",
       "      <td>60.806</td>\n",
       "      <td>103.176</td>\n",
       "      <td>0.000</td>\n",
       "      <td>...</td>\n",
       "      <td>0</td>\n",
       "      <td>0</td>\n",
       "      <td>NaN</td>\n",
       "      <td>NaN</td>\n",
       "      <td>NaN</td>\n",
       "      <td>882</td>\n",
       "      <td>0.0</td>\n",
       "      <td>0.0</td>\n",
       "      <td>0.0</td>\n",
       "      <td>0</td>\n",
       "    </tr>\n",
       "    <tr>\n",
       "      <th>3</th>\n",
       "      <td>109</td>\n",
       "      <td>0.0</td>\n",
       "      <td>0.0</td>\n",
       "      <td>0.0</td>\n",
       "      <td>6/30/2014</td>\n",
       "      <td>7/31/2014</td>\n",
       "      <td>8/31/2014</td>\n",
       "      <td>156.362</td>\n",
       "      <td>205.260</td>\n",
       "      <td>111.095</td>\n",
       "      <td>...</td>\n",
       "      <td>0</td>\n",
       "      <td>0</td>\n",
       "      <td>NaN</td>\n",
       "      <td>NaN</td>\n",
       "      <td>NaN</td>\n",
       "      <td>982</td>\n",
       "      <td>0.0</td>\n",
       "      <td>0.0</td>\n",
       "      <td>0.0</td>\n",
       "      <td>0</td>\n",
       "    </tr>\n",
       "    <tr>\n",
       "      <th>4</th>\n",
       "      <td>109</td>\n",
       "      <td>0.0</td>\n",
       "      <td>0.0</td>\n",
       "      <td>0.0</td>\n",
       "      <td>6/30/2014</td>\n",
       "      <td>7/31/2014</td>\n",
       "      <td>8/31/2014</td>\n",
       "      <td>240.708</td>\n",
       "      <td>128.191</td>\n",
       "      <td>101.565</td>\n",
       "      <td>...</td>\n",
       "      <td>1</td>\n",
       "      <td>0</td>\n",
       "      <td>1.0</td>\n",
       "      <td>1.0</td>\n",
       "      <td>1.0</td>\n",
       "      <td>647</td>\n",
       "      <td>0.0</td>\n",
       "      <td>0.0</td>\n",
       "      <td>0.0</td>\n",
       "      <td>0</td>\n",
       "    </tr>\n",
       "  </tbody>\n",
       "</table>\n",
       "<p>5 rows × 171 columns</p>\n",
       "</div>"
      ],
      "text/plain": [
       "    circle_id  loc_og_t2o_mou  std_og_t2o_mou  loc_ic_t2o_mou  \\\n",
       "id                                                              \n",
       "0         109             0.0             0.0             0.0   \n",
       "1         109             0.0             0.0             0.0   \n",
       "2         109             0.0             0.0             0.0   \n",
       "3         109             0.0             0.0             0.0   \n",
       "4         109             0.0             0.0             0.0   \n",
       "\n",
       "   last_date_of_month_6 last_date_of_month_7 last_date_of_month_8   arpu_6  \\\n",
       "id                                                                           \n",
       "0             6/30/2014            7/31/2014            8/31/2014   31.277   \n",
       "1             6/30/2014            7/31/2014            8/31/2014    0.000   \n",
       "2             6/30/2014            7/31/2014            8/31/2014   60.806   \n",
       "3             6/30/2014            7/31/2014            8/31/2014  156.362   \n",
       "4             6/30/2014            7/31/2014            8/31/2014  240.708   \n",
       "\n",
       "     arpu_7   arpu_8  ...  sachet_3g_7  sachet_3g_8  fb_user_6  fb_user_7  \\\n",
       "id                    ...                                                   \n",
       "0    87.009    7.527  ...            0            0        NaN        NaN   \n",
       "1   122.787   42.953  ...            0            0        NaN        1.0   \n",
       "2   103.176    0.000  ...            0            0        NaN        NaN   \n",
       "3   205.260  111.095  ...            0            0        NaN        NaN   \n",
       "4   128.191  101.565  ...            1            0        1.0        1.0   \n",
       "\n",
       "    fb_user_8   aon  aug_vbc_3g  jul_vbc_3g  jun_vbc_3g  churn_probability  \n",
       "id                                                                          \n",
       "0         NaN  1958         0.0         0.0         0.0                  0  \n",
       "1         NaN   710         0.0         0.0         0.0                  0  \n",
       "2         NaN   882         0.0         0.0         0.0                  0  \n",
       "3         NaN   982         0.0         0.0         0.0                  0  \n",
       "4         1.0   647         0.0         0.0         0.0                  0  \n",
       "\n",
       "[5 rows x 171 columns]"
      ]
     },
     "execution_count": 4,
     "metadata": {},
     "output_type": "execute_result"
    }
   ],
   "source": [
    "telcom_data.head()"
   ]
  },
  {
   "cell_type": "code",
   "execution_count": 5,
   "id": "b8c9c4a1",
   "metadata": {
    "execution": {
     "iopub.execute_input": "2022-10-09T07:14:53.068649Z",
     "iopub.status.busy": "2022-10-09T07:14:53.068226Z",
     "iopub.status.idle": "2022-10-09T07:14:53.075502Z",
     "shell.execute_reply": "2022-10-09T07:14:53.074365Z"
    },
    "papermill": {
     "duration": 0.022984,
     "end_time": "2022-10-09T07:14:53.077908",
     "exception": false,
     "start_time": "2022-10-09T07:14:53.054924",
     "status": "completed"
    },
    "tags": []
   },
   "outputs": [
    {
     "data": {
      "text/plain": [
       "(69999, 171)"
      ]
     },
     "execution_count": 5,
     "metadata": {},
     "output_type": "execute_result"
    }
   ],
   "source": [
    "telcom_data.shape"
   ]
  },
  {
   "cell_type": "code",
   "execution_count": 6,
   "id": "6793d199",
   "metadata": {
    "execution": {
     "iopub.execute_input": "2022-10-09T07:14:53.103757Z",
     "iopub.status.busy": "2022-10-09T07:14:53.103358Z",
     "iopub.status.idle": "2022-10-09T07:14:53.116246Z",
     "shell.execute_reply": "2022-10-09T07:14:53.115100Z"
    },
    "papermill": {
     "duration": 0.028917,
     "end_time": "2022-10-09T07:14:53.118805",
     "exception": false,
     "start_time": "2022-10-09T07:14:53.089888",
     "status": "completed"
    },
    "tags": []
   },
   "outputs": [
    {
     "data": {
      "text/plain": [
       "circle_id                     int64\n",
       "loc_og_t2o_mou              float64\n",
       "std_og_t2o_mou              float64\n",
       "loc_ic_t2o_mou              float64\n",
       "last_date_of_month_6         object\n",
       "last_date_of_month_7         object\n",
       "last_date_of_month_8         object\n",
       "arpu_6                      float64\n",
       "arpu_7                      float64\n",
       "arpu_8                      float64\n",
       "onnet_mou_6                 float64\n",
       "onnet_mou_7                 float64\n",
       "onnet_mou_8                 float64\n",
       "offnet_mou_6                float64\n",
       "offnet_mou_7                float64\n",
       "offnet_mou_8                float64\n",
       "roam_ic_mou_6               float64\n",
       "roam_ic_mou_7               float64\n",
       "roam_ic_mou_8               float64\n",
       "roam_og_mou_6               float64\n",
       "roam_og_mou_7               float64\n",
       "roam_og_mou_8               float64\n",
       "loc_og_t2t_mou_6            float64\n",
       "loc_og_t2t_mou_7            float64\n",
       "loc_og_t2t_mou_8            float64\n",
       "loc_og_t2m_mou_6            float64\n",
       "loc_og_t2m_mou_7            float64\n",
       "loc_og_t2m_mou_8            float64\n",
       "loc_og_t2f_mou_6            float64\n",
       "loc_og_t2f_mou_7            float64\n",
       "loc_og_t2f_mou_8            float64\n",
       "loc_og_t2c_mou_6            float64\n",
       "loc_og_t2c_mou_7            float64\n",
       "loc_og_t2c_mou_8            float64\n",
       "loc_og_mou_6                float64\n",
       "loc_og_mou_7                float64\n",
       "loc_og_mou_8                float64\n",
       "std_og_t2t_mou_6            float64\n",
       "std_og_t2t_mou_7            float64\n",
       "std_og_t2t_mou_8            float64\n",
       "std_og_t2m_mou_6            float64\n",
       "std_og_t2m_mou_7            float64\n",
       "std_og_t2m_mou_8            float64\n",
       "std_og_t2f_mou_6            float64\n",
       "std_og_t2f_mou_7            float64\n",
       "std_og_t2f_mou_8            float64\n",
       "std_og_t2c_mou_6            float64\n",
       "std_og_t2c_mou_7            float64\n",
       "std_og_t2c_mou_8            float64\n",
       "std_og_mou_6                float64\n",
       "std_og_mou_7                float64\n",
       "std_og_mou_8                float64\n",
       "isd_og_mou_6                float64\n",
       "isd_og_mou_7                float64\n",
       "isd_og_mou_8                float64\n",
       "spl_og_mou_6                float64\n",
       "spl_og_mou_7                float64\n",
       "spl_og_mou_8                float64\n",
       "og_others_6                 float64\n",
       "og_others_7                 float64\n",
       "og_others_8                 float64\n",
       "total_og_mou_6              float64\n",
       "total_og_mou_7              float64\n",
       "total_og_mou_8              float64\n",
       "loc_ic_t2t_mou_6            float64\n",
       "loc_ic_t2t_mou_7            float64\n",
       "loc_ic_t2t_mou_8            float64\n",
       "loc_ic_t2m_mou_6            float64\n",
       "loc_ic_t2m_mou_7            float64\n",
       "loc_ic_t2m_mou_8            float64\n",
       "loc_ic_t2f_mou_6            float64\n",
       "loc_ic_t2f_mou_7            float64\n",
       "loc_ic_t2f_mou_8            float64\n",
       "loc_ic_mou_6                float64\n",
       "loc_ic_mou_7                float64\n",
       "loc_ic_mou_8                float64\n",
       "std_ic_t2t_mou_6            float64\n",
       "std_ic_t2t_mou_7            float64\n",
       "std_ic_t2t_mou_8            float64\n",
       "std_ic_t2m_mou_6            float64\n",
       "std_ic_t2m_mou_7            float64\n",
       "std_ic_t2m_mou_8            float64\n",
       "std_ic_t2f_mou_6            float64\n",
       "std_ic_t2f_mou_7            float64\n",
       "std_ic_t2f_mou_8            float64\n",
       "std_ic_t2o_mou_6            float64\n",
       "std_ic_t2o_mou_7            float64\n",
       "std_ic_t2o_mou_8            float64\n",
       "std_ic_mou_6                float64\n",
       "std_ic_mou_7                float64\n",
       "std_ic_mou_8                float64\n",
       "total_ic_mou_6              float64\n",
       "total_ic_mou_7              float64\n",
       "total_ic_mou_8              float64\n",
       "spl_ic_mou_6                float64\n",
       "spl_ic_mou_7                float64\n",
       "spl_ic_mou_8                float64\n",
       "isd_ic_mou_6                float64\n",
       "isd_ic_mou_7                float64\n",
       "isd_ic_mou_8                float64\n",
       "ic_others_6                 float64\n",
       "ic_others_7                 float64\n",
       "ic_others_8                 float64\n",
       "total_rech_num_6              int64\n",
       "total_rech_num_7              int64\n",
       "total_rech_num_8              int64\n",
       "total_rech_amt_6              int64\n",
       "total_rech_amt_7              int64\n",
       "total_rech_amt_8              int64\n",
       "max_rech_amt_6                int64\n",
       "max_rech_amt_7                int64\n",
       "max_rech_amt_8                int64\n",
       "date_of_last_rech_6          object\n",
       "date_of_last_rech_7          object\n",
       "date_of_last_rech_8          object\n",
       "last_day_rch_amt_6            int64\n",
       "last_day_rch_amt_7            int64\n",
       "last_day_rch_amt_8            int64\n",
       "date_of_last_rech_data_6     object\n",
       "date_of_last_rech_data_7     object\n",
       "date_of_last_rech_data_8     object\n",
       "total_rech_data_6           float64\n",
       "total_rech_data_7           float64\n",
       "total_rech_data_8           float64\n",
       "max_rech_data_6             float64\n",
       "max_rech_data_7             float64\n",
       "max_rech_data_8             float64\n",
       "count_rech_2g_6             float64\n",
       "count_rech_2g_7             float64\n",
       "count_rech_2g_8             float64\n",
       "count_rech_3g_6             float64\n",
       "count_rech_3g_7             float64\n",
       "count_rech_3g_8             float64\n",
       "av_rech_amt_data_6          float64\n",
       "av_rech_amt_data_7          float64\n",
       "av_rech_amt_data_8          float64\n",
       "vol_2g_mb_6                 float64\n",
       "vol_2g_mb_7                 float64\n",
       "vol_2g_mb_8                 float64\n",
       "vol_3g_mb_6                 float64\n",
       "vol_3g_mb_7                 float64\n",
       "vol_3g_mb_8                 float64\n",
       "arpu_3g_6                   float64\n",
       "arpu_3g_7                   float64\n",
       "arpu_3g_8                   float64\n",
       "arpu_2g_6                   float64\n",
       "arpu_2g_7                   float64\n",
       "arpu_2g_8                   float64\n",
       "night_pck_user_6            float64\n",
       "night_pck_user_7            float64\n",
       "night_pck_user_8            float64\n",
       "monthly_2g_6                  int64\n",
       "monthly_2g_7                  int64\n",
       "monthly_2g_8                  int64\n",
       "sachet_2g_6                   int64\n",
       "sachet_2g_7                   int64\n",
       "sachet_2g_8                   int64\n",
       "monthly_3g_6                  int64\n",
       "monthly_3g_7                  int64\n",
       "monthly_3g_8                  int64\n",
       "sachet_3g_6                   int64\n",
       "sachet_3g_7                   int64\n",
       "sachet_3g_8                   int64\n",
       "fb_user_6                   float64\n",
       "fb_user_7                   float64\n",
       "fb_user_8                   float64\n",
       "aon                           int64\n",
       "aug_vbc_3g                  float64\n",
       "jul_vbc_3g                  float64\n",
       "jun_vbc_3g                  float64\n",
       "churn_probability             int64\n",
       "dtype: object"
      ]
     },
     "execution_count": 6,
     "metadata": {},
     "output_type": "execute_result"
    }
   ],
   "source": [
    "pd.set_option('display.max_rows', None)\n",
    "telcom_data.dtypes\n",
    "#pd.set_option('display.max_rows', 30)"
   ]
  },
  {
   "cell_type": "code",
   "execution_count": 7,
   "id": "4e861044",
   "metadata": {
    "execution": {
     "iopub.execute_input": "2022-10-09T07:14:53.145186Z",
     "iopub.status.busy": "2022-10-09T07:14:53.144768Z",
     "iopub.status.idle": "2022-10-09T07:14:53.682777Z",
     "shell.execute_reply": "2022-10-09T07:14:53.681278Z"
    },
    "papermill": {
     "duration": 0.555539,
     "end_time": "2022-10-09T07:14:53.686519",
     "exception": false,
     "start_time": "2022-10-09T07:14:53.130980",
     "status": "completed"
    },
    "tags": []
   },
   "outputs": [
    {
     "name": "stdout",
     "output_type": "stream",
     "text": [
      "['circle_id', 'loc_og_t2o_mou', 'std_og_t2o_mou', 'loc_ic_t2o_mou', 'last_date_of_month_6', 'last_date_of_month_7', 'last_date_of_month_8', 'std_og_t2c_mou_6', 'std_og_t2c_mou_7', 'std_og_t2c_mou_8', 'std_ic_t2o_mou_6', 'std_ic_t2o_mou_7', 'std_ic_t2o_mou_8']\n"
     ]
    }
   ],
   "source": [
    "# clean the data for safe checks like empty columns and empty rows...\n",
    "def sanity_clean_data(telcom_data):\n",
    "    #columns with all empty values to be removed\n",
    "    telcom_data.dropna(axis=1, how='all', inplace=True)\n",
    "    \n",
    "    #columns with all same values to be removed as they dont provide any insight\n",
    "    cols_nounique = [i for i in telcom_data.columns if telcom_data[i].nunique()==1]\n",
    "    telcom_data.drop(columns=cols_nounique, inplace=True, axis=1)\n",
    "    print(cols_nounique)\n",
    "    \n",
    "    #rows with all NAs to be removed\n",
    "    telcom_data.dropna(axis=0,how='all',inplace=True)\n",
    "    \n",
    "sanity_clean_data(telcom_data)    "
   ]
  },
  {
   "cell_type": "code",
   "execution_count": 8,
   "id": "4b86def9",
   "metadata": {
    "execution": {
     "iopub.execute_input": "2022-10-09T07:14:53.713108Z",
     "iopub.status.busy": "2022-10-09T07:14:53.712693Z",
     "iopub.status.idle": "2022-10-09T07:14:53.719580Z",
     "shell.execute_reply": "2022-10-09T07:14:53.718216Z"
    },
    "papermill": {
     "duration": 0.023092,
     "end_time": "2022-10-09T07:14:53.722215",
     "exception": false,
     "start_time": "2022-10-09T07:14:53.699123",
     "status": "completed"
    },
    "tags": []
   },
   "outputs": [
    {
     "data": {
      "text/plain": [
       "(69999, 158)"
      ]
     },
     "execution_count": 8,
     "metadata": {},
     "output_type": "execute_result"
    }
   ],
   "source": [
    "telcom_data.shape"
   ]
  },
  {
   "cell_type": "code",
   "execution_count": 9,
   "id": "eeb4c40d",
   "metadata": {
    "execution": {
     "iopub.execute_input": "2022-10-09T07:14:53.749477Z",
     "iopub.status.busy": "2022-10-09T07:14:53.749083Z",
     "iopub.status.idle": "2022-10-09T07:14:53.982384Z",
     "shell.execute_reply": "2022-10-09T07:14:53.980912Z"
    },
    "papermill": {
     "duration": 0.250334,
     "end_time": "2022-10-09T07:14:53.985281",
     "exception": false,
     "start_time": "2022-10-09T07:14:53.734947",
     "status": "completed"
    },
    "tags": []
   },
   "outputs": [],
   "source": [
    "#since the data is only from year 2014, converting it to day of the year.\n",
    "# to keep it extensible for any other years, multiplying it with days in year + day in year\n",
    "def reform_dates(telcom_data):\n",
    "    date_cols = ['date_of_last_rech_6', 'date_of_last_rech_7', 'date_of_last_rech_8', 'date_of_last_rech_data_6', 'date_of_last_rech_data_7', 'date_of_last_rech_data_8']\n",
    "    for col_name in date_cols:\n",
    "        telcom_data[col_name] = pd.to_datetime(telcom_data[col_name]).dt.year*366 + pd.to_datetime(telcom_data[col_name]).dt.dayofyear\n",
    "    return telcom_data\n",
    "telcom_data = reform_dates(telcom_data)"
   ]
  },
  {
   "cell_type": "code",
   "execution_count": 10,
   "id": "6c6733b3",
   "metadata": {
    "execution": {
     "iopub.execute_input": "2022-10-09T07:14:54.012261Z",
     "iopub.status.busy": "2022-10-09T07:14:54.011808Z",
     "iopub.status.idle": "2022-10-09T07:14:54.030441Z",
     "shell.execute_reply": "2022-10-09T07:14:54.029060Z"
    },
    "papermill": {
     "duration": 0.035316,
     "end_time": "2022-10-09T07:14:54.033356",
     "exception": false,
     "start_time": "2022-10-09T07:14:53.998040",
     "status": "completed"
    },
    "tags": []
   },
   "outputs": [
    {
     "data": {
      "text/plain": [
       "Index(['onnet_mou_6', 'onnet_mou_7', 'onnet_mou_8', 'offnet_mou_6',\n",
       "       'offnet_mou_7', 'offnet_mou_8', 'roam_ic_mou_6', 'roam_ic_mou_7',\n",
       "       'roam_ic_mou_8', 'roam_og_mou_6',\n",
       "       ...\n",
       "       'arpu_3g_8', 'arpu_2g_6', 'arpu_2g_7', 'arpu_2g_8', 'night_pck_user_6',\n",
       "       'night_pck_user_7', 'night_pck_user_8', 'fb_user_6', 'fb_user_7',\n",
       "       'fb_user_8'],\n",
       "      dtype='object', length=114)"
      ]
     },
     "execution_count": 10,
     "metadata": {},
     "output_type": "execute_result"
    }
   ],
   "source": [
    "telcom_data.columns[telcom_data.isna().any()]"
   ]
  },
  {
   "cell_type": "code",
   "execution_count": 11,
   "id": "5be4974f",
   "metadata": {
    "execution": {
     "iopub.execute_input": "2022-10-09T07:14:54.060190Z",
     "iopub.status.busy": "2022-10-09T07:14:54.059760Z",
     "iopub.status.idle": "2022-10-09T07:14:54.068279Z",
     "shell.execute_reply": "2022-10-09T07:14:54.067181Z"
    },
    "papermill": {
     "duration": 0.025498,
     "end_time": "2022-10-09T07:14:54.071287",
     "exception": false,
     "start_time": "2022-10-09T07:14:54.045789",
     "status": "completed"
    },
    "tags": []
   },
   "outputs": [
    {
     "data": {
      "text/plain": [
       "array([nan,  1.,  0.])"
      ]
     },
     "execution_count": 11,
     "metadata": {},
     "output_type": "execute_result"
    }
   ],
   "source": [
    "telcom_data['fb_user_6'].unique()"
   ]
  },
  {
   "cell_type": "code",
   "execution_count": 12,
   "id": "aae5cc6f",
   "metadata": {
    "execution": {
     "iopub.execute_input": "2022-10-09T07:14:54.097987Z",
     "iopub.status.busy": "2022-10-09T07:14:54.097537Z",
     "iopub.status.idle": "2022-10-09T07:14:54.130083Z",
     "shell.execute_reply": "2022-10-09T07:14:54.128030Z"
    },
    "papermill": {
     "duration": 0.049528,
     "end_time": "2022-10-09T07:14:54.133179",
     "exception": false,
     "start_time": "2022-10-09T07:14:54.083651",
     "status": "completed"
    },
    "tags": []
   },
   "outputs": [
    {
     "data": {
      "text/plain": [
       "Index(['date_of_last_rech_data_6', 'date_of_last_rech_data_7',\n",
       "       'date_of_last_rech_data_8', 'total_rech_data_6', 'total_rech_data_7',\n",
       "       'total_rech_data_8', 'max_rech_data_6', 'max_rech_data_7',\n",
       "       'max_rech_data_8', 'count_rech_2g_6', 'count_rech_2g_7',\n",
       "       'count_rech_2g_8', 'count_rech_3g_6', 'count_rech_3g_7',\n",
       "       'count_rech_3g_8', 'av_rech_amt_data_6', 'av_rech_amt_data_7',\n",
       "       'av_rech_amt_data_8', 'arpu_3g_6', 'arpu_3g_7', 'arpu_3g_8',\n",
       "       'arpu_2g_6', 'arpu_2g_7', 'arpu_2g_8', 'night_pck_user_6',\n",
       "       'night_pck_user_7', 'night_pck_user_8', 'fb_user_6', 'fb_user_7',\n",
       "       'fb_user_8'],\n",
       "      dtype='object')"
      ]
     },
     "execution_count": 12,
     "metadata": {},
     "output_type": "execute_result"
    }
   ],
   "source": [
    "telcom_data.columns[telcom_data.isnull().mean() > 0.70]"
   ]
  },
  {
   "cell_type": "markdown",
   "id": "84a88902",
   "metadata": {
    "papermill": {
     "duration": 0.01199,
     "end_time": "2022-10-09T07:14:54.157775",
     "exception": false,
     "start_time": "2022-10-09T07:14:54.145785",
     "status": "completed"
    },
    "tags": []
   },
   "source": [
    "There are columns that are having more than 70% missing values.\n",
    "but looking at these columns, it completely makes sense as they are not applicable. hence we need to impute them appropriately\n",
    "\n",
    "Here, date of last recharge can be imputed with mode and other columns with zero as it is not applicable"
   ]
  },
  {
   "cell_type": "code",
   "execution_count": 13,
   "id": "6af76ea0",
   "metadata": {
    "execution": {
     "iopub.execute_input": "2022-10-09T07:14:54.184640Z",
     "iopub.status.busy": "2022-10-09T07:14:54.184205Z",
     "iopub.status.idle": "2022-10-09T07:14:54.193753Z",
     "shell.execute_reply": "2022-10-09T07:14:54.192569Z"
    },
    "papermill": {
     "duration": 0.025944,
     "end_time": "2022-10-09T07:14:54.196232",
     "exception": false,
     "start_time": "2022-10-09T07:14:54.170288",
     "status": "completed"
    },
    "tags": []
   },
   "outputs": [
    {
     "data": {
      "text/plain": [
       "['date_of_last_rech_6',\n",
       " 'date_of_last_rech_data_6',\n",
       " 'date_of_last_rech_7',\n",
       " 'date_of_last_rech_data_7',\n",
       " 'date_of_last_rech_8',\n",
       " 'date_of_last_rech_data_8']"
      ]
     },
     "execution_count": 13,
     "metadata": {},
     "output_type": "execute_result"
    }
   ],
   "source": [
    "#Lets look at the data dictionary and classify numeric vs categorical columns\n",
    "cat_col_prefix = ['date_of_last_rech_','date_of_last_rech_data_']\n",
    "cat_cols = []\n",
    "for i in range(6,9):\n",
    "    for prefix in cat_col_prefix:\n",
    "        cat_cols.append(prefix+str(i));\n",
    "cat_cols"
   ]
  },
  {
   "cell_type": "code",
   "execution_count": 14,
   "id": "ca1ee6be",
   "metadata": {
    "execution": {
     "iopub.execute_input": "2022-10-09T07:14:54.224405Z",
     "iopub.status.busy": "2022-10-09T07:14:54.223979Z",
     "iopub.status.idle": "2022-10-09T07:14:54.229642Z",
     "shell.execute_reply": "2022-10-09T07:14:54.228349Z"
    },
    "papermill": {
     "duration": 0.02319,
     "end_time": "2022-10-09T07:14:54.232326",
     "exception": false,
     "start_time": "2022-10-09T07:14:54.209136",
     "status": "completed"
    },
    "tags": []
   },
   "outputs": [],
   "source": [
    "num_cols = [i for i in telcom_data.columns if i not in cat_cols]"
   ]
  },
  {
   "cell_type": "code",
   "execution_count": 15,
   "id": "104e386a",
   "metadata": {
    "execution": {
     "iopub.execute_input": "2022-10-09T07:14:54.259717Z",
     "iopub.status.busy": "2022-10-09T07:14:54.259238Z",
     "iopub.status.idle": "2022-10-09T07:14:54.265107Z",
     "shell.execute_reply": "2022-10-09T07:14:54.263650Z"
    },
    "papermill": {
     "duration": 0.022794,
     "end_time": "2022-10-09T07:14:54.267726",
     "exception": false,
     "start_time": "2022-10-09T07:14:54.244932",
     "status": "completed"
    },
    "tags": []
   },
   "outputs": [],
   "source": [
    "non_zero_cols = ['aon']"
   ]
  },
  {
   "cell_type": "code",
   "execution_count": 16,
   "id": "befcb611",
   "metadata": {
    "execution": {
     "iopub.execute_input": "2022-10-09T07:14:54.294741Z",
     "iopub.status.busy": "2022-10-09T07:14:54.294307Z",
     "iopub.status.idle": "2022-10-09T07:14:54.994233Z",
     "shell.execute_reply": "2022-10-09T07:14:54.992837Z"
    },
    "papermill": {
     "duration": 0.716948,
     "end_time": "2022-10-09T07:14:54.997237",
     "exception": false,
     "start_time": "2022-10-09T07:14:54.280289",
     "status": "completed"
    },
    "tags": []
   },
   "outputs": [],
   "source": [
    "#Missing values imputation:\n",
    "# impute all numeric cols with median and categorical ones with mode\n",
    "#for col in num_cols:\n",
    "#    telcom_data[col].fillna(telcom_data[col].median(), inplace=True)\n",
    "def impute_missing_values(data):\n",
    "    #impute non applicable data with zeros\n",
    "    data[non_zero_cols] = data.filter(non_zero_cols).fillna(data.median(numeric_only=True).iloc[0])\n",
    "    data[num_cols] = data.filter(num_cols).fillna(0)\n",
    "    data[cat_cols] = data.filter(cat_cols).fillna(data.mode().iloc[0])\n",
    "    return data;\n",
    "telcom_data = impute_missing_values(telcom_data)"
   ]
  },
  {
   "cell_type": "code",
   "execution_count": 17,
   "id": "1dff82c3",
   "metadata": {
    "execution": {
     "iopub.execute_input": "2022-10-09T07:14:55.023877Z",
     "iopub.status.busy": "2022-10-09T07:14:55.023475Z",
     "iopub.status.idle": "2022-10-09T07:14:55.031142Z",
     "shell.execute_reply": "2022-10-09T07:14:55.029847Z"
    },
    "papermill": {
     "duration": 0.023991,
     "end_time": "2022-10-09T07:14:55.033710",
     "exception": false,
     "start_time": "2022-10-09T07:14:55.009719",
     "status": "completed"
    },
    "tags": []
   },
   "outputs": [
    {
     "data": {
      "text/plain": [
       "(69999, 158)"
      ]
     },
     "execution_count": 17,
     "metadata": {},
     "output_type": "execute_result"
    }
   ],
   "source": [
    "#telcom_data['night_pck_user_6']#, 'night_pck_user_7', 'night_pck_user_8']\n",
    "telcom_data.shape"
   ]
  },
  {
   "cell_type": "code",
   "execution_count": 18,
   "id": "2dbf2484",
   "metadata": {
    "execution": {
     "iopub.execute_input": "2022-10-09T07:14:55.061603Z",
     "iopub.status.busy": "2022-10-09T07:14:55.061186Z",
     "iopub.status.idle": "2022-10-09T07:14:55.095131Z",
     "shell.execute_reply": "2022-10-09T07:14:55.093544Z"
    },
    "papermill": {
     "duration": 0.051025,
     "end_time": "2022-10-09T07:14:55.098057",
     "exception": false,
     "start_time": "2022-10-09T07:14:55.047032",
     "status": "completed"
    },
    "tags": []
   },
   "outputs": [],
   "source": [
    "X = telcom_data.iloc[:,0:telcom_data.shape[1]-1]\n",
    "y = telcom_data['churn_probability']"
   ]
  },
  {
   "cell_type": "code",
   "execution_count": 19,
   "id": "e7b9d4e2",
   "metadata": {
    "execution": {
     "iopub.execute_input": "2022-10-09T07:14:55.125922Z",
     "iopub.status.busy": "2022-10-09T07:14:55.125508Z",
     "iopub.status.idle": "2022-10-09T07:14:56.519268Z",
     "shell.execute_reply": "2022-10-09T07:14:56.517790Z"
    },
    "papermill": {
     "duration": 1.410925,
     "end_time": "2022-10-09T07:14:56.522280",
     "exception": false,
     "start_time": "2022-10-09T07:14:55.111355",
     "status": "completed"
    },
    "tags": []
   },
   "outputs": [],
   "source": [
    "from sklearn.preprocessing import StandardScaler\n",
    "scaler = StandardScaler()\n",
    "X_std = scaler.fit_transform(X)\n"
   ]
  },
  {
   "cell_type": "code",
   "execution_count": 20,
   "id": "b567b8fc",
   "metadata": {
    "execution": {
     "iopub.execute_input": "2022-10-09T07:14:56.550669Z",
     "iopub.status.busy": "2022-10-09T07:14:56.550254Z",
     "iopub.status.idle": "2022-10-09T07:14:59.318232Z",
     "shell.execute_reply": "2022-10-09T07:14:59.316992Z"
    },
    "papermill": {
     "duration": 2.787488,
     "end_time": "2022-10-09T07:14:59.323197",
     "exception": false,
     "start_time": "2022-10-09T07:14:56.535709",
     "status": "completed"
    },
    "tags": []
   },
   "outputs": [
    {
     "data": {
      "text/plain": [
       "(69999, 16)"
      ]
     },
     "execution_count": 20,
     "metadata": {},
     "output_type": "execute_result"
    }
   ],
   "source": [
    "from sklearn.decomposition import IncrementalPCA\n",
    "pca = IncrementalPCA(n_components=16)\n",
    "X_train_pca = pca.fit_transform(X_std)\n",
    "X_train_pca.shape"
   ]
  },
  {
   "cell_type": "code",
   "execution_count": 21,
   "id": "388cd424",
   "metadata": {
    "execution": {
     "iopub.execute_input": "2022-10-09T07:14:59.398036Z",
     "iopub.status.busy": "2022-10-09T07:14:59.397303Z",
     "iopub.status.idle": "2022-10-09T07:14:59.477420Z",
     "shell.execute_reply": "2022-10-09T07:14:59.476265Z"
    },
    "papermill": {
     "duration": 0.119569,
     "end_time": "2022-10-09T07:14:59.480085",
     "exception": false,
     "start_time": "2022-10-09T07:14:59.360516",
     "status": "completed"
    },
    "tags": []
   },
   "outputs": [],
   "source": [
    "from sklearn.tree import DecisionTreeClassifier\n",
    "dt_base = DecisionTreeClassifier(random_state=42, max_depth=4)"
   ]
  },
  {
   "cell_type": "code",
   "execution_count": 22,
   "id": "14198c0a",
   "metadata": {
    "execution": {
     "iopub.execute_input": "2022-10-09T07:14:59.510129Z",
     "iopub.status.busy": "2022-10-09T07:14:59.509264Z",
     "iopub.status.idle": "2022-10-09T07:15:02.333431Z",
     "shell.execute_reply": "2022-10-09T07:15:02.332066Z"
    },
    "papermill": {
     "duration": 2.843127,
     "end_time": "2022-10-09T07:15:02.336563",
     "exception": false,
     "start_time": "2022-10-09T07:14:59.493436",
     "status": "completed"
    },
    "tags": []
   },
   "outputs": [
    {
     "data": {
      "text/plain": [
       "DecisionTreeClassifier(max_depth=4, random_state=42)"
      ]
     },
     "execution_count": 22,
     "metadata": {},
     "output_type": "execute_result"
    }
   ],
   "source": [
    "dt_base.fit(X, y)"
   ]
  },
  {
   "cell_type": "code",
   "execution_count": 23,
   "id": "f0d3ba78",
   "metadata": {
    "execution": {
     "iopub.execute_input": "2022-10-09T07:15:02.364389Z",
     "iopub.status.busy": "2022-10-09T07:15:02.363944Z",
     "iopub.status.idle": "2022-10-09T07:15:02.434002Z",
     "shell.execute_reply": "2022-10-09T07:15:02.432780Z"
    },
    "papermill": {
     "duration": 0.08725,
     "end_time": "2022-10-09T07:15:02.436812",
     "exception": false,
     "start_time": "2022-10-09T07:15:02.349562",
     "status": "completed"
    },
    "tags": []
   },
   "outputs": [],
   "source": [
    "y_train_pred = dt_base.predict(X)"
   ]
  },
  {
   "cell_type": "code",
   "execution_count": 24,
   "id": "b3bc8dd7",
   "metadata": {
    "execution": {
     "iopub.execute_input": "2022-10-09T07:15:02.466587Z",
     "iopub.status.busy": "2022-10-09T07:15:02.465954Z",
     "iopub.status.idle": "2022-10-09T07:15:02.498145Z",
     "shell.execute_reply": "2022-10-09T07:15:02.496092Z"
    },
    "papermill": {
     "duration": 0.051474,
     "end_time": "2022-10-09T07:15:02.501603",
     "exception": false,
     "start_time": "2022-10-09T07:15:02.450129",
     "status": "completed"
    },
    "tags": []
   },
   "outputs": [
    {
     "name": "stdout",
     "output_type": "stream",
     "text": [
      "0.9419991714167345\n"
     ]
    },
    {
     "data": {
      "text/plain": [
       "array([[61582,  1285],\n",
       "       [ 2775,  4357]])"
      ]
     },
     "execution_count": 24,
     "metadata": {},
     "output_type": "execute_result"
    }
   ],
   "source": [
    "from sklearn.metrics import confusion_matrix, accuracy_score\n",
    "print(accuracy_score(y, y_train_pred))\n",
    "confusion_matrix(y, y_train_pred)"
   ]
  },
  {
   "cell_type": "markdown",
   "id": "b7a448fd",
   "metadata": {
    "papermill": {
     "duration": 0.013666,
     "end_time": "2022-10-09T07:15:02.529260",
     "exception": false,
     "start_time": "2022-10-09T07:15:02.515594",
     "status": "completed"
    },
    "tags": []
   },
   "source": [
    "## "
   ]
  },
  {
   "cell_type": "code",
   "execution_count": 25,
   "id": "b515634b",
   "metadata": {
    "execution": {
     "iopub.execute_input": "2022-10-09T07:15:02.557838Z",
     "iopub.status.busy": "2022-10-09T07:15:02.557260Z",
     "iopub.status.idle": "2022-10-09T07:15:04.188304Z",
     "shell.execute_reply": "2022-10-09T07:15:04.187027Z"
    },
    "papermill": {
     "duration": 1.648941,
     "end_time": "2022-10-09T07:15:04.191415",
     "exception": false,
     "start_time": "2022-10-09T07:15:02.542474",
     "status": "completed"
    },
    "tags": []
   },
   "outputs": [],
   "source": [
    "test_data = pd.read_csv('/kaggle/input/telecom-churn-case-study-hackathon-c40/test.csv');\n",
    "#test_data.set_index('id', inplace=True)\n",
    "test_data = reform_dates(test_data)\n",
    "test_data['churn_probability'] = 0\n",
    "test_data = impute_missing_values(test_data)\n",
    "y_test = test_data.pop('churn_probability')\n",
    "X_test = test_data[X.columns]"
   ]
  },
  {
   "cell_type": "code",
   "execution_count": 26,
   "id": "ee39f2d5",
   "metadata": {
    "execution": {
     "iopub.execute_input": "2022-10-09T07:15:04.219906Z",
     "iopub.status.busy": "2022-10-09T07:15:04.219469Z",
     "iopub.status.idle": "2022-10-09T07:15:04.298400Z",
     "shell.execute_reply": "2022-10-09T07:15:04.297350Z"
    },
    "papermill": {
     "duration": 0.096099,
     "end_time": "2022-10-09T07:15:04.301128",
     "exception": false,
     "start_time": "2022-10-09T07:15:04.205029",
     "status": "completed"
    },
    "tags": []
   },
   "outputs": [],
   "source": [
    "\n",
    "test_data['churn_probability'] = dt_base.predict(X_test)\n",
    "solution = test_data[['id', 'churn_probability']]\n",
    "solution.set_index('id', inplace=True)\n",
    "solution.to_csv('solution.csv', header=True, index=True)"
   ]
  },
  {
   "cell_type": "code",
   "execution_count": 27,
   "id": "6cf7cd32",
   "metadata": {
    "execution": {
     "iopub.execute_input": "2022-10-09T07:15:04.329051Z",
     "iopub.status.busy": "2022-10-09T07:15:04.328656Z",
     "iopub.status.idle": "2022-10-09T07:15:04.431027Z",
     "shell.execute_reply": "2022-10-09T07:15:04.429525Z"
    },
    "papermill": {
     "duration": 0.119976,
     "end_time": "2022-10-09T07:15:04.434201",
     "exception": false,
     "start_time": "2022-10-09T07:15:04.314225",
     "status": "completed"
    },
    "tags": []
   },
   "outputs": [
    {
     "data": {
      "text/plain": [
       "array([0.95688115, 0.77224389])"
      ]
     },
     "execution_count": 27,
     "metadata": {},
     "output_type": "execute_result"
    }
   ],
   "source": [
    "from sklearn.metrics import precision_score\n",
    "precision_score(y, dt_base.predict(X), average=None)"
   ]
  },
  {
   "cell_type": "code",
   "execution_count": 28,
   "id": "01f01372",
   "metadata": {
    "execution": {
     "iopub.execute_input": "2022-10-09T07:15:04.463979Z",
     "iopub.status.busy": "2022-10-09T07:15:04.463509Z",
     "iopub.status.idle": "2022-10-09T07:15:04.474536Z",
     "shell.execute_reply": "2022-10-09T07:15:04.473235Z"
    },
    "papermill": {
     "duration": 0.029085,
     "end_time": "2022-10-09T07:15:04.477006",
     "exception": false,
     "start_time": "2022-10-09T07:15:04.447921",
     "status": "completed"
    },
    "tags": []
   },
   "outputs": [
    {
     "data": {
      "text/html": [
       "<div>\n",
       "<style scoped>\n",
       "    .dataframe tbody tr th:only-of-type {\n",
       "        vertical-align: middle;\n",
       "    }\n",
       "\n",
       "    .dataframe tbody tr th {\n",
       "        vertical-align: top;\n",
       "    }\n",
       "\n",
       "    .dataframe thead th {\n",
       "        text-align: right;\n",
       "    }\n",
       "</style>\n",
       "<table border=\"1\" class=\"dataframe\">\n",
       "  <thead>\n",
       "    <tr style=\"text-align: right;\">\n",
       "      <th></th>\n",
       "      <th>churn_probability</th>\n",
       "    </tr>\n",
       "    <tr>\n",
       "      <th>id</th>\n",
       "      <th></th>\n",
       "    </tr>\n",
       "  </thead>\n",
       "  <tbody>\n",
       "    <tr>\n",
       "      <th>69999</th>\n",
       "      <td>0</td>\n",
       "    </tr>\n",
       "    <tr>\n",
       "      <th>70000</th>\n",
       "      <td>0</td>\n",
       "    </tr>\n",
       "    <tr>\n",
       "      <th>70001</th>\n",
       "      <td>1</td>\n",
       "    </tr>\n",
       "    <tr>\n",
       "      <th>70002</th>\n",
       "      <td>0</td>\n",
       "    </tr>\n",
       "    <tr>\n",
       "      <th>70003</th>\n",
       "      <td>0</td>\n",
       "    </tr>\n",
       "  </tbody>\n",
       "</table>\n",
       "</div>"
      ],
      "text/plain": [
       "       churn_probability\n",
       "id                      \n",
       "69999                  0\n",
       "70000                  0\n",
       "70001                  1\n",
       "70002                  0\n",
       "70003                  0"
      ]
     },
     "execution_count": 28,
     "metadata": {},
     "output_type": "execute_result"
    }
   ],
   "source": [
    "solution.head()"
   ]
  },
  {
   "cell_type": "code",
   "execution_count": 29,
   "id": "02f6f995",
   "metadata": {
    "execution": {
     "iopub.execute_input": "2022-10-09T07:15:04.507204Z",
     "iopub.status.busy": "2022-10-09T07:15:04.506425Z",
     "iopub.status.idle": "2022-10-09T07:15:04.549213Z",
     "shell.execute_reply": "2022-10-09T07:15:04.547957Z"
    },
    "papermill": {
     "duration": 0.061387,
     "end_time": "2022-10-09T07:15:04.552303",
     "exception": false,
     "start_time": "2022-10-09T07:15:04.490916",
     "status": "completed"
    },
    "tags": []
   },
   "outputs": [],
   "source": [
    "solution.to_csv('solution.csv', header=True, index=True)"
   ]
  },
  {
   "cell_type": "code",
   "execution_count": 30,
   "id": "94eebeaa",
   "metadata": {
    "execution": {
     "iopub.execute_input": "2022-10-09T07:15:04.582756Z",
     "iopub.status.busy": "2022-10-09T07:15:04.582356Z",
     "iopub.status.idle": "2022-10-09T07:15:04.587544Z",
     "shell.execute_reply": "2022-10-09T07:15:04.585930Z"
    },
    "papermill": {
     "duration": 0.023266,
     "end_time": "2022-10-09T07:15:04.589828",
     "exception": false,
     "start_time": "2022-10-09T07:15:04.566562",
     "status": "completed"
    },
    "tags": []
   },
   "outputs": [],
   "source": [
    "## Use Random forest classifier"
   ]
  },
  {
   "cell_type": "markdown",
   "id": "6cc04f3f",
   "metadata": {
    "papermill": {
     "duration": 0.013014,
     "end_time": "2022-10-09T07:15:04.617296",
     "exception": false,
     "start_time": "2022-10-09T07:15:04.604282",
     "status": "completed"
    },
    "tags": []
   },
   "source": [
    "## .\n"
   ]
  },
  {
   "cell_type": "code",
   "execution_count": 31,
   "id": "55f1cac5",
   "metadata": {
    "execution": {
     "iopub.execute_input": "2022-10-09T07:15:04.645746Z",
     "iopub.status.busy": "2022-10-09T07:15:04.645341Z",
     "iopub.status.idle": "2022-10-09T07:15:04.651180Z",
     "shell.execute_reply": "2022-10-09T07:15:04.649942Z"
    },
    "papermill": {
     "duration": 0.023155,
     "end_time": "2022-10-09T07:15:04.653688",
     "exception": false,
     "start_time": "2022-10-09T07:15:04.630533",
     "status": "completed"
    },
    "tags": []
   },
   "outputs": [],
   "source": [
    "from sklearn.metrics import precision_score, make_scorer\n",
    "custom_scorer = make_scorer(precision_score, greater_is_better=True,  pos_label=0)"
   ]
  },
  {
   "cell_type": "code",
   "execution_count": null,
   "id": "87a3ce5d",
   "metadata": {
    "papermill": {
     "duration": 0.012879,
     "end_time": "2022-10-09T07:15:04.680337",
     "exception": false,
     "start_time": "2022-10-09T07:15:04.667458",
     "status": "completed"
    },
    "tags": []
   },
   "outputs": [],
   "source": []
  },
  {
   "cell_type": "code",
   "execution_count": 32,
   "id": "3d42a09f",
   "metadata": {
    "execution": {
     "iopub.execute_input": "2022-10-09T07:15:04.708847Z",
     "iopub.status.busy": "2022-10-09T07:15:04.708397Z",
     "iopub.status.idle": "2022-10-09T07:15:04.784877Z",
     "shell.execute_reply": "2022-10-09T07:15:04.783741Z"
    },
    "papermill": {
     "duration": 0.094261,
     "end_time": "2022-10-09T07:15:04.787690",
     "exception": false,
     "start_time": "2022-10-09T07:15:04.693429",
     "status": "completed"
    },
    "tags": []
   },
   "outputs": [],
   "source": [
    "from sklearn.ensemble import RandomForestClassifier\n",
    "from sklearn.model_selection import GridSearchCV, RandomizedSearchCV \n",
    "classifier_rf = RandomForestClassifier(random_state=42, n_jobs=-1)\n",
    "# Create the parameter grid based on the results of random search \n",
    "params = {\n",
    "    'max_depth': [6],\n",
    "    'min_samples_leaf': [100],\n",
    "    'max_features': [10],\n",
    "    'n_estimators': [1000],\n",
    "}\n",
    "# Instantiate the grid search model\n",
    "grid_search = GridSearchCV(estimator=classifier_rf, param_grid=params, \n",
    "                          cv=4, n_jobs=-1, verbose=2, scoring = 'roc_auc')"
   ]
  },
  {
   "cell_type": "code",
   "execution_count": 33,
   "id": "bdce08ae",
   "metadata": {
    "execution": {
     "iopub.execute_input": "2022-10-09T07:15:04.817297Z",
     "iopub.status.busy": "2022-10-09T07:15:04.816837Z",
     "iopub.status.idle": "2022-10-09T07:26:31.127224Z",
     "shell.execute_reply": "2022-10-09T07:26:31.125908Z"
    },
    "papermill": {
     "duration": 686.341104,
     "end_time": "2022-10-09T07:26:31.142835",
     "exception": false,
     "start_time": "2022-10-09T07:15:04.801731",
     "status": "completed"
    },
    "tags": []
   },
   "outputs": [
    {
     "name": "stdout",
     "output_type": "stream",
     "text": [
      "Fitting 4 folds for each of 1 candidates, totalling 4 fits\n",
      "CPU times: user 10min 34s, sys: 911 ms, total: 10min 35s\n",
      "Wall time: 11min 26s\n"
     ]
    },
    {
     "data": {
      "text/plain": [
       "GridSearchCV(cv=4, estimator=RandomForestClassifier(n_jobs=-1, random_state=42),\n",
       "             n_jobs=-1,\n",
       "             param_grid={'max_depth': [6], 'max_features': [10],\n",
       "                         'min_samples_leaf': [100], 'n_estimators': [1000]},\n",
       "             scoring='roc_auc', verbose=2)"
      ]
     },
     "execution_count": 33,
     "metadata": {},
     "output_type": "execute_result"
    }
   ],
   "source": [
    "%%time\n",
    "grid_search.fit(X_train_pca,y)"
   ]
  },
  {
   "cell_type": "code",
   "execution_count": 34,
   "id": "75e4691a",
   "metadata": {
    "execution": {
     "iopub.execute_input": "2022-10-09T07:26:31.172054Z",
     "iopub.status.busy": "2022-10-09T07:26:31.171594Z",
     "iopub.status.idle": "2022-10-09T07:26:31.180114Z",
     "shell.execute_reply": "2022-10-09T07:26:31.178819Z"
    },
    "papermill": {
     "duration": 0.026003,
     "end_time": "2022-10-09T07:26:31.182323",
     "exception": false,
     "start_time": "2022-10-09T07:26:31.156320",
     "status": "completed"
    },
    "tags": []
   },
   "outputs": [
    {
     "data": {
      "text/plain": [
       "RandomForestClassifier(max_depth=6, max_features=10, min_samples_leaf=100,\n",
       "                       n_estimators=1000, n_jobs=-1, random_state=42)"
      ]
     },
     "execution_count": 34,
     "metadata": {},
     "output_type": "execute_result"
    }
   ],
   "source": [
    "rf_best = grid_search.best_estimator_\n",
    "rf_best"
   ]
  },
  {
   "cell_type": "code",
   "execution_count": 35,
   "id": "c6147a73",
   "metadata": {
    "execution": {
     "iopub.execute_input": "2022-10-09T07:26:31.211271Z",
     "iopub.status.busy": "2022-10-09T07:26:31.210893Z",
     "iopub.status.idle": "2022-10-09T07:26:33.342000Z",
     "shell.execute_reply": "2022-10-09T07:26:33.340841Z"
    },
    "papermill": {
     "duration": 2.148426,
     "end_time": "2022-10-09T07:26:33.344404",
     "exception": false,
     "start_time": "2022-10-09T07:26:31.195978",
     "status": "completed"
    },
    "tags": []
   },
   "outputs": [
    {
     "data": {
      "text/plain": [
       "array([[61811,  1056],\n",
       "       [ 4851,  2281]])"
      ]
     },
     "execution_count": 35,
     "metadata": {},
     "output_type": "execute_result"
    }
   ],
   "source": [
    "from sklearn.metrics import confusion_matrix\n",
    "confusion_matrix(y, rf_best.predict(X_train_pca))"
   ]
  },
  {
   "cell_type": "code",
   "execution_count": 36,
   "id": "4be2451b",
   "metadata": {
    "execution": {
     "iopub.execute_input": "2022-10-09T07:26:33.373687Z",
     "iopub.status.busy": "2022-10-09T07:26:33.373245Z",
     "iopub.status.idle": "2022-10-09T07:26:35.398521Z",
     "shell.execute_reply": "2022-10-09T07:26:35.397324Z"
    },
    "papermill": {
     "duration": 2.043164,
     "end_time": "2022-10-09T07:26:35.401358",
     "exception": false,
     "start_time": "2022-10-09T07:26:33.358194",
     "status": "completed"
    },
    "tags": []
   },
   "outputs": [
    {
     "data": {
      "text/plain": [
       "0.9156130801868598"
      ]
     },
     "execution_count": 36,
     "metadata": {},
     "output_type": "execute_result"
    }
   ],
   "source": [
    "accuracy_score(y,rf_best.predict(X_train_pca))"
   ]
  },
  {
   "cell_type": "code",
   "execution_count": 37,
   "id": "7e2cf322",
   "metadata": {
    "execution": {
     "iopub.execute_input": "2022-10-09T07:26:35.431121Z",
     "iopub.status.busy": "2022-10-09T07:26:35.430656Z",
     "iopub.status.idle": "2022-10-09T07:26:37.474394Z",
     "shell.execute_reply": "2022-10-09T07:26:37.473255Z"
    },
    "papermill": {
     "duration": 2.061228,
     "end_time": "2022-10-09T07:26:37.476739",
     "exception": false,
     "start_time": "2022-10-09T07:26:35.415511",
     "status": "completed"
    },
    "tags": []
   },
   "outputs": [
    {
     "data": {
      "text/plain": [
       "array([0.92722991, 0.6835481 ])"
      ]
     },
     "execution_count": 37,
     "metadata": {},
     "output_type": "execute_result"
    }
   ],
   "source": [
    "from sklearn.metrics import precision_score\n",
    "precision_score(y, rf_best.predict(X_train_pca), average=None)"
   ]
  },
  {
   "cell_type": "code",
   "execution_count": 38,
   "id": "f2c013db",
   "metadata": {
    "execution": {
     "iopub.execute_input": "2022-10-09T07:26:37.506190Z",
     "iopub.status.busy": "2022-10-09T07:26:37.505778Z",
     "iopub.status.idle": "2022-10-09T07:26:38.756057Z",
     "shell.execute_reply": "2022-10-09T07:26:38.754845Z"
    },
    "papermill": {
     "duration": 1.268483,
     "end_time": "2022-10-09T07:26:38.759118",
     "exception": false,
     "start_time": "2022-10-09T07:26:37.490635",
     "status": "completed"
    },
    "tags": []
   },
   "outputs": [],
   "source": [
    "test_data = pd.read_csv('/kaggle/input/telecom-churn-case-study-hackathon-c40/test.csv', header=0);\n",
    "#test_data.set_index('id', inplace=True)\n",
    "test_data = reform_dates(test_data)\n",
    "test_data['churn_probability'] = 0\n",
    "test_data = impute_missing_values(test_data)\n",
    "y_test = test_data.pop('churn_probability')\n",
    "X_test = test_data[X.columns]\n",
    "X_test_std = scaler.transform(X_test)"
   ]
  },
  {
   "cell_type": "code",
   "execution_count": 39,
   "id": "57ca17bf",
   "metadata": {
    "execution": {
     "iopub.execute_input": "2022-10-09T07:26:38.788186Z",
     "iopub.status.busy": "2022-10-09T07:26:38.787741Z",
     "iopub.status.idle": "2022-10-09T07:26:40.095232Z",
     "shell.execute_reply": "2022-10-09T07:26:40.093920Z"
    },
    "papermill": {
     "duration": 1.325045,
     "end_time": "2022-10-09T07:26:40.097879",
     "exception": false,
     "start_time": "2022-10-09T07:26:38.772834",
     "status": "completed"
    },
    "tags": []
   },
   "outputs": [],
   "source": [
    "X_test_pca = pca.transform(X_test_std)\n",
    "test_data['churn_probability'] = rf_best.predict(X_test_pca)\n",
    "solution = test_data[['id', 'churn_probability']]\n",
    "solution.set_index('id', inplace=True)\n",
    "solution.to_csv('solution.csv', header=True, index=True)"
   ]
  },
  {
   "cell_type": "markdown",
   "id": "e314837a",
   "metadata": {
    "papermill": {
     "duration": 0.014095,
     "end_time": "2022-10-09T07:26:40.125776",
     "exception": false,
     "start_time": "2022-10-09T07:26:40.111681",
     "status": "completed"
    },
    "tags": []
   },
   "source": [
    "##Using Boosting"
   ]
  },
  {
   "cell_type": "code",
   "execution_count": 40,
   "id": "93134442",
   "metadata": {
    "execution": {
     "iopub.execute_input": "2022-10-09T07:26:40.156191Z",
     "iopub.status.busy": "2022-10-09T07:26:40.155743Z",
     "iopub.status.idle": "2022-10-09T07:26:54.563135Z",
     "shell.execute_reply": "2022-10-09T07:26:54.562168Z"
    },
    "papermill": {
     "duration": 14.426395,
     "end_time": "2022-10-09T07:26:54.566204",
     "exception": false,
     "start_time": "2022-10-09T07:26:40.139809",
     "status": "completed"
    },
    "tags": []
   },
   "outputs": [
    {
     "data": {
      "text/plain": [
       "XGBClassifier(base_score=0.5, booster='gbtree', callbacks=None,\n",
       "              colsample_bylevel=1, colsample_bynode=1, colsample_bytree=1,\n",
       "              early_stopping_rounds=None, enable_categorical=False,\n",
       "              eval_metric='aucpr', gamma=0, gpu_id=-1, grow_policy='depthwise',\n",
       "              importance_type=None, interaction_constraints='',\n",
       "              learning_rate=0.300000012, max_bin=256, max_cat_to_onehot=4,\n",
       "              max_delta_step=0, max_depth=6, max_leaves=0, min_child_weight=1,\n",
       "              missing=nan, monotone_constraints='()', n_estimators=100,\n",
       "              n_jobs=-1, num_parallel_tree=1, predictor='auto', random_state=0,\n",
       "              reg_alpha=0, reg_lambda=1, ...)"
      ]
     },
     "execution_count": 40,
     "metadata": {},
     "output_type": "execute_result"
    }
   ],
   "source": [
    "\n",
    "import xgboost as xgb  # Load this xgboost\n",
    "xgb_cfl = xgb.XGBClassifier(n_jobs = -1,objective = 'binary:logistic', eval_metric = 'aucpr')\n",
    "xgb_cfl.get_params()\n",
    "# Fit the model to our train and target\n",
    "xgb_cfl.fit(X_train_pca, y)  # default "
   ]
  },
  {
   "cell_type": "code",
   "execution_count": 41,
   "id": "8d2d4c06",
   "metadata": {
    "execution": {
     "iopub.execute_input": "2022-10-09T07:26:54.596559Z",
     "iopub.status.busy": "2022-10-09T07:26:54.595815Z",
     "iopub.status.idle": "2022-10-09T07:26:54.691821Z",
     "shell.execute_reply": "2022-10-09T07:26:54.690954Z"
    },
    "papermill": {
     "duration": 0.113791,
     "end_time": "2022-10-09T07:26:54.694238",
     "exception": false,
     "start_time": "2022-10-09T07:26:54.580447",
     "status": "completed"
    },
    "tags": []
   },
   "outputs": [
    {
     "data": {
      "text/plain": [
       "array([[62142,   725],\n",
       "       [ 3115,  4017]])"
      ]
     },
     "execution_count": 41,
     "metadata": {},
     "output_type": "execute_result"
    }
   ],
   "source": [
    "from sklearn.metrics import confusion_matrix\n",
    "confusion_matrix(y, xgb_cfl.predict(X_train_pca))"
   ]
  },
  {
   "cell_type": "code",
   "execution_count": 42,
   "id": "cb8899df",
   "metadata": {
    "execution": {
     "iopub.execute_input": "2022-10-09T07:26:54.725645Z",
     "iopub.status.busy": "2022-10-09T07:26:54.725053Z",
     "iopub.status.idle": "2022-10-09T07:26:54.772433Z",
     "shell.execute_reply": "2022-10-09T07:26:54.770801Z"
    },
    "papermill": {
     "duration": 0.067271,
     "end_time": "2022-10-09T07:26:54.776032",
     "exception": false,
     "start_time": "2022-10-09T07:26:54.708761",
     "status": "completed"
    },
    "tags": []
   },
   "outputs": [],
   "source": [
    "X_test_std = scaler.transform(X_test)"
   ]
  },
  {
   "cell_type": "code",
   "execution_count": 43,
   "id": "fa67ea58",
   "metadata": {
    "execution": {
     "iopub.execute_input": "2022-10-09T07:26:54.819517Z",
     "iopub.status.busy": "2022-10-09T07:26:54.818649Z",
     "iopub.status.idle": "2022-10-09T07:26:55.016321Z",
     "shell.execute_reply": "2022-10-09T07:26:55.015036Z"
    },
    "papermill": {
     "duration": 0.223704,
     "end_time": "2022-10-09T07:26:55.019150",
     "exception": false,
     "start_time": "2022-10-09T07:26:54.795446",
     "status": "completed"
    },
    "tags": []
   },
   "outputs": [],
   "source": [
    "X_test_pca = pca.transform(X_test_std)\n",
    "test_data['churn_probability'] = xgb_cfl.predict(X_test_pca)\n",
    "solution = test_data[['id', 'churn_probability']]\n",
    "solution.set_index('id', inplace=True)\n",
    "solution.to_csv('solution.csv', header=True, index=True)"
   ]
  },
  {
   "cell_type": "code",
   "execution_count": 44,
   "id": "65116f8e",
   "metadata": {
    "execution": {
     "iopub.execute_input": "2022-10-09T07:26:55.049749Z",
     "iopub.status.busy": "2022-10-09T07:26:55.049343Z",
     "iopub.status.idle": "2022-10-09T07:26:55.096320Z",
     "shell.execute_reply": "2022-10-09T07:26:55.094745Z"
    },
    "papermill": {
     "duration": 0.065195,
     "end_time": "2022-10-09T07:26:55.098964",
     "exception": false,
     "start_time": "2022-10-09T07:26:55.033769",
     "status": "completed"
    },
    "tags": []
   },
   "outputs": [
    {
     "data": {
      "text/html": [
       "<a href=solution.csv>Download CSV file</a>"
      ],
      "text/plain": [
       "<IPython.core.display.HTML object>"
      ]
     },
     "execution_count": 44,
     "metadata": {},
     "output_type": "execute_result"
    }
   ],
   "source": [
    "from IPython.display import HTML\n",
    "import pandas as pd\n",
    "import numpy as np\n",
    "\n",
    "solution.to_csv('solution.csv')\n",
    "\n",
    "def create_download_link(title = \"Download CSV file\", filename = \"data.csv\"):  \n",
    "    html = '<a href={filename}>{title}</a>'\n",
    "    html = html.format(title=title,filename=filename)\n",
    "    return HTML(html)\n",
    "\n",
    "# create a link to download the dataframe which was saved with .to_csv method\n",
    "create_download_link(filename='solution.csv')"
   ]
  },
  {
   "cell_type": "code",
   "execution_count": null,
   "id": "63427e6f",
   "metadata": {
    "papermill": {
     "duration": 0.013841,
     "end_time": "2022-10-09T07:26:55.127020",
     "exception": false,
     "start_time": "2022-10-09T07:26:55.113179",
     "status": "completed"
    },
    "tags": []
   },
   "outputs": [],
   "source": []
  }
 ],
 "metadata": {
  "kernelspec": {
   "display_name": "Python 3",
   "language": "python",
   "name": "python3"
  },
  "language_info": {
   "codemirror_mode": {
    "name": "ipython",
    "version": 3
   },
   "file_extension": ".py",
   "mimetype": "text/x-python",
   "name": "python",
   "nbconvert_exporter": "python",
   "pygments_lexer": "ipython3",
   "version": "3.7.12"
  },
  "papermill": {
   "default_parameters": {},
   "duration": 738.348345,
   "end_time": "2022-10-09T07:26:57.766340",
   "environment_variables": {},
   "exception": null,
   "input_path": "__notebook__.ipynb",
   "output_path": "__notebook__.ipynb",
   "parameters": {},
   "start_time": "2022-10-09T07:14:39.417995",
   "version": "2.3.4"
  }
 },
 "nbformat": 4,
 "nbformat_minor": 5
}
