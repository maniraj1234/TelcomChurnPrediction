{
 "cells": [
  {
   "cell_type": "markdown",
   "metadata": {},
   "source": [
    "## This notebook is intended to work on models that needed higher precesion, accuracy, for explainable model, refer to telcomchurnExplainablemodels.ipynb"
   ]
  },
  {
   "cell_type": "code",
   "execution_count": 140,
   "metadata": {
    "_cell_guid": "b1076dfc-b9ad-4769-8c92-a6c4dae69d19",
    "_uuid": "8f2839f25d086af736a60e9eeb907d3b93b6e0e5",
    "execution": {
     "iopub.execute_input": "2022-10-09T08:21:11.870911Z",
     "iopub.status.busy": "2022-10-09T08:21:11.870283Z",
     "iopub.status.idle": "2022-10-09T08:21:11.880548Z",
     "shell.execute_reply": "2022-10-09T08:21:11.879224Z",
     "shell.execute_reply.started": "2022-10-09T08:21:11.870842Z"
    }
   },
   "outputs": [
    {
     "name": "stdout",
     "output_type": "stream",
     "text": [
      "/kaggle/input/telecom-churn-case-study-hackathon-c40/data_dictionary.csv\n",
      "/kaggle/input/telecom-churn-case-study-hackathon-c40/train.csv\n",
      "/kaggle/input/telecom-churn-case-study-hackathon-c40/test.csv\n",
      "/kaggle/input/telecom-churn-case-study-hackathon-c40/solution.csv\n"
     ]
    }
   ],
   "source": [
    "# This Python 3 environment comes with many helpful analytics libraries installed\n",
    "# It is defined by the kaggle/python Docker image: https://github.com/kaggle/docker-python\n",
    "# For example, here's several helpful packages to load\n",
    "\n",
    "import numpy as np # linear algebra\n",
    "import pandas as pd # data processing, CSV file I/O (e.g. pd.read_csv)\n",
    "\n",
    "# Input data files are available in the read-only \"../input/\" directory\n",
    "# For example, running this (by clicking run or pressing Shift+Enter) will list all files under the input directory\n",
    "\n",
    "import os\n",
    "for dirname, _, filenames in os.walk('/kaggle/input'):\n",
    "    for filename in filenames:\n",
    "        print(os.path.join(dirname, filename))\n",
    "\n",
    "# You can write up to 20GB to the current directory (/kaggle/working/) that gets preserved as output when you create a version using \"Save & Run All\" \n",
    "# You can also write temporary files to /kaggle/temp/, but they won't be saved outside of the current session"
   ]
  },
  {
   "cell_type": "code",
   "execution_count": 141,
   "metadata": {
    "execution": {
     "iopub.execute_input": "2022-10-09T08:21:12.369109Z",
     "iopub.status.busy": "2022-10-09T08:21:12.368716Z",
     "iopub.status.idle": "2022-10-09T08:21:12.374604Z",
     "shell.execute_reply": "2022-10-09T08:21:12.373160Z",
     "shell.execute_reply.started": "2022-10-09T08:21:12.369077Z"
    }
   },
   "outputs": [],
   "source": [
    "#pd.set_option('display.max_rows', 30)"
   ]
  },
  {
   "cell_type": "code",
   "execution_count": 142,
   "metadata": {
    "execution": {
     "iopub.execute_input": "2022-10-09T08:21:12.867953Z",
     "iopub.status.busy": "2022-10-09T08:21:12.867529Z",
     "iopub.status.idle": "2022-10-09T08:21:14.246725Z",
     "shell.execute_reply": "2022-10-09T08:21:14.245714Z",
     "shell.execute_reply.started": "2022-10-09T08:21:12.867915Z"
    }
   },
   "outputs": [],
   "source": [
    "telcom_data = pd.read_csv('/kaggle/input/telecom-churn-case-study-hackathon-c40/train.csv');\n",
    "telcom_data.set_index('id', inplace=True)"
   ]
  },
  {
   "cell_type": "code",
   "execution_count": 143,
   "metadata": {
    "execution": {
     "iopub.execute_input": "2022-10-09T08:21:14.249035Z",
     "iopub.status.busy": "2022-10-09T08:21:14.248667Z",
     "iopub.status.idle": "2022-10-09T08:21:14.279916Z",
     "shell.execute_reply": "2022-10-09T08:21:14.278818Z",
     "shell.execute_reply.started": "2022-10-09T08:21:14.249002Z"
    }
   },
   "outputs": [
    {
     "data": {
      "text/html": [
       "<div>\n",
       "<style scoped>\n",
       "    .dataframe tbody tr th:only-of-type {\n",
       "        vertical-align: middle;\n",
       "    }\n",
       "\n",
       "    .dataframe tbody tr th {\n",
       "        vertical-align: top;\n",
       "    }\n",
       "\n",
       "    .dataframe thead th {\n",
       "        text-align: right;\n",
       "    }\n",
       "</style>\n",
       "<table border=\"1\" class=\"dataframe\">\n",
       "  <thead>\n",
       "    <tr style=\"text-align: right;\">\n",
       "      <th></th>\n",
       "      <th>circle_id</th>\n",
       "      <th>loc_og_t2o_mou</th>\n",
       "      <th>std_og_t2o_mou</th>\n",
       "      <th>loc_ic_t2o_mou</th>\n",
       "      <th>last_date_of_month_6</th>\n",
       "      <th>last_date_of_month_7</th>\n",
       "      <th>last_date_of_month_8</th>\n",
       "      <th>arpu_6</th>\n",
       "      <th>arpu_7</th>\n",
       "      <th>arpu_8</th>\n",
       "      <th>...</th>\n",
       "      <th>sachet_3g_7</th>\n",
       "      <th>sachet_3g_8</th>\n",
       "      <th>fb_user_6</th>\n",
       "      <th>fb_user_7</th>\n",
       "      <th>fb_user_8</th>\n",
       "      <th>aon</th>\n",
       "      <th>aug_vbc_3g</th>\n",
       "      <th>jul_vbc_3g</th>\n",
       "      <th>jun_vbc_3g</th>\n",
       "      <th>churn_probability</th>\n",
       "    </tr>\n",
       "    <tr>\n",
       "      <th>id</th>\n",
       "      <th></th>\n",
       "      <th></th>\n",
       "      <th></th>\n",
       "      <th></th>\n",
       "      <th></th>\n",
       "      <th></th>\n",
       "      <th></th>\n",
       "      <th></th>\n",
       "      <th></th>\n",
       "      <th></th>\n",
       "      <th></th>\n",
       "      <th></th>\n",
       "      <th></th>\n",
       "      <th></th>\n",
       "      <th></th>\n",
       "      <th></th>\n",
       "      <th></th>\n",
       "      <th></th>\n",
       "      <th></th>\n",
       "      <th></th>\n",
       "      <th></th>\n",
       "    </tr>\n",
       "  </thead>\n",
       "  <tbody>\n",
       "    <tr>\n",
       "      <th>0</th>\n",
       "      <td>109</td>\n",
       "      <td>0.0</td>\n",
       "      <td>0.0</td>\n",
       "      <td>0.0</td>\n",
       "      <td>6/30/2014</td>\n",
       "      <td>7/31/2014</td>\n",
       "      <td>8/31/2014</td>\n",
       "      <td>31.277</td>\n",
       "      <td>87.009</td>\n",
       "      <td>7.527</td>\n",
       "      <td>...</td>\n",
       "      <td>0</td>\n",
       "      <td>0</td>\n",
       "      <td>NaN</td>\n",
       "      <td>NaN</td>\n",
       "      <td>NaN</td>\n",
       "      <td>1958</td>\n",
       "      <td>0.0</td>\n",
       "      <td>0.0</td>\n",
       "      <td>0.0</td>\n",
       "      <td>0</td>\n",
       "    </tr>\n",
       "    <tr>\n",
       "      <th>1</th>\n",
       "      <td>109</td>\n",
       "      <td>0.0</td>\n",
       "      <td>0.0</td>\n",
       "      <td>0.0</td>\n",
       "      <td>6/30/2014</td>\n",
       "      <td>7/31/2014</td>\n",
       "      <td>8/31/2014</td>\n",
       "      <td>0.000</td>\n",
       "      <td>122.787</td>\n",
       "      <td>42.953</td>\n",
       "      <td>...</td>\n",
       "      <td>0</td>\n",
       "      <td>0</td>\n",
       "      <td>NaN</td>\n",
       "      <td>1.0</td>\n",
       "      <td>NaN</td>\n",
       "      <td>710</td>\n",
       "      <td>0.0</td>\n",
       "      <td>0.0</td>\n",
       "      <td>0.0</td>\n",
       "      <td>0</td>\n",
       "    </tr>\n",
       "    <tr>\n",
       "      <th>2</th>\n",
       "      <td>109</td>\n",
       "      <td>0.0</td>\n",
       "      <td>0.0</td>\n",
       "      <td>0.0</td>\n",
       "      <td>6/30/2014</td>\n",
       "      <td>7/31/2014</td>\n",
       "      <td>8/31/2014</td>\n",
       "      <td>60.806</td>\n",
       "      <td>103.176</td>\n",
       "      <td>0.000</td>\n",
       "      <td>...</td>\n",
       "      <td>0</td>\n",
       "      <td>0</td>\n",
       "      <td>NaN</td>\n",
       "      <td>NaN</td>\n",
       "      <td>NaN</td>\n",
       "      <td>882</td>\n",
       "      <td>0.0</td>\n",
       "      <td>0.0</td>\n",
       "      <td>0.0</td>\n",
       "      <td>0</td>\n",
       "    </tr>\n",
       "    <tr>\n",
       "      <th>3</th>\n",
       "      <td>109</td>\n",
       "      <td>0.0</td>\n",
       "      <td>0.0</td>\n",
       "      <td>0.0</td>\n",
       "      <td>6/30/2014</td>\n",
       "      <td>7/31/2014</td>\n",
       "      <td>8/31/2014</td>\n",
       "      <td>156.362</td>\n",
       "      <td>205.260</td>\n",
       "      <td>111.095</td>\n",
       "      <td>...</td>\n",
       "      <td>0</td>\n",
       "      <td>0</td>\n",
       "      <td>NaN</td>\n",
       "      <td>NaN</td>\n",
       "      <td>NaN</td>\n",
       "      <td>982</td>\n",
       "      <td>0.0</td>\n",
       "      <td>0.0</td>\n",
       "      <td>0.0</td>\n",
       "      <td>0</td>\n",
       "    </tr>\n",
       "    <tr>\n",
       "      <th>4</th>\n",
       "      <td>109</td>\n",
       "      <td>0.0</td>\n",
       "      <td>0.0</td>\n",
       "      <td>0.0</td>\n",
       "      <td>6/30/2014</td>\n",
       "      <td>7/31/2014</td>\n",
       "      <td>8/31/2014</td>\n",
       "      <td>240.708</td>\n",
       "      <td>128.191</td>\n",
       "      <td>101.565</td>\n",
       "      <td>...</td>\n",
       "      <td>1</td>\n",
       "      <td>0</td>\n",
       "      <td>1.0</td>\n",
       "      <td>1.0</td>\n",
       "      <td>1.0</td>\n",
       "      <td>647</td>\n",
       "      <td>0.0</td>\n",
       "      <td>0.0</td>\n",
       "      <td>0.0</td>\n",
       "      <td>0</td>\n",
       "    </tr>\n",
       "  </tbody>\n",
       "</table>\n",
       "<p>5 rows × 171 columns</p>\n",
       "</div>"
      ],
      "text/plain": [
       "    circle_id  loc_og_t2o_mou  std_og_t2o_mou  loc_ic_t2o_mou  \\\n",
       "id                                                              \n",
       "0         109             0.0             0.0             0.0   \n",
       "1         109             0.0             0.0             0.0   \n",
       "2         109             0.0             0.0             0.0   \n",
       "3         109             0.0             0.0             0.0   \n",
       "4         109             0.0             0.0             0.0   \n",
       "\n",
       "   last_date_of_month_6 last_date_of_month_7 last_date_of_month_8   arpu_6  \\\n",
       "id                                                                           \n",
       "0             6/30/2014            7/31/2014            8/31/2014   31.277   \n",
       "1             6/30/2014            7/31/2014            8/31/2014    0.000   \n",
       "2             6/30/2014            7/31/2014            8/31/2014   60.806   \n",
       "3             6/30/2014            7/31/2014            8/31/2014  156.362   \n",
       "4             6/30/2014            7/31/2014            8/31/2014  240.708   \n",
       "\n",
       "     arpu_7   arpu_8  ...  sachet_3g_7  sachet_3g_8  fb_user_6  fb_user_7  \\\n",
       "id                    ...                                                   \n",
       "0    87.009    7.527  ...            0            0        NaN        NaN   \n",
       "1   122.787   42.953  ...            0            0        NaN        1.0   \n",
       "2   103.176    0.000  ...            0            0        NaN        NaN   \n",
       "3   205.260  111.095  ...            0            0        NaN        NaN   \n",
       "4   128.191  101.565  ...            1            0        1.0        1.0   \n",
       "\n",
       "    fb_user_8   aon  aug_vbc_3g  jul_vbc_3g  jun_vbc_3g  churn_probability  \n",
       "id                                                                          \n",
       "0         NaN  1958         0.0         0.0         0.0                  0  \n",
       "1         NaN   710         0.0         0.0         0.0                  0  \n",
       "2         NaN   882         0.0         0.0         0.0                  0  \n",
       "3         NaN   982         0.0         0.0         0.0                  0  \n",
       "4         1.0   647         0.0         0.0         0.0                  0  \n",
       "\n",
       "[5 rows x 171 columns]"
      ]
     },
     "execution_count": 143,
     "metadata": {},
     "output_type": "execute_result"
    }
   ],
   "source": [
    "telcom_data.head()"
   ]
  },
  {
   "cell_type": "code",
   "execution_count": 144,
   "metadata": {
    "execution": {
     "iopub.execute_input": "2022-10-09T08:21:14.281380Z",
     "iopub.status.busy": "2022-10-09T08:21:14.281065Z",
     "iopub.status.idle": "2022-10-09T08:21:14.289615Z",
     "shell.execute_reply": "2022-10-09T08:21:14.288412Z",
     "shell.execute_reply.started": "2022-10-09T08:21:14.281351Z"
    }
   },
   "outputs": [
    {
     "data": {
      "text/plain": [
       "(69999, 171)"
      ]
     },
     "execution_count": 144,
     "metadata": {},
     "output_type": "execute_result"
    }
   ],
   "source": [
    "telcom_data.shape"
   ]
  },
  {
   "cell_type": "code",
   "execution_count": 145,
   "metadata": {
    "execution": {
     "iopub.execute_input": "2022-10-09T08:21:14.608963Z",
     "iopub.status.busy": "2022-10-09T08:21:14.608565Z",
     "iopub.status.idle": "2022-10-09T08:21:14.626009Z",
     "shell.execute_reply": "2022-10-09T08:21:14.624770Z",
     "shell.execute_reply.started": "2022-10-09T08:21:14.608930Z"
    }
   },
   "outputs": [
    {
     "data": {
      "text/plain": [
       "circle_id                     int64\n",
       "loc_og_t2o_mou              float64\n",
       "std_og_t2o_mou              float64\n",
       "loc_ic_t2o_mou              float64\n",
       "last_date_of_month_6         object\n",
       "last_date_of_month_7         object\n",
       "last_date_of_month_8         object\n",
       "arpu_6                      float64\n",
       "arpu_7                      float64\n",
       "arpu_8                      float64\n",
       "onnet_mou_6                 float64\n",
       "onnet_mou_7                 float64\n",
       "onnet_mou_8                 float64\n",
       "offnet_mou_6                float64\n",
       "offnet_mou_7                float64\n",
       "offnet_mou_8                float64\n",
       "roam_ic_mou_6               float64\n",
       "roam_ic_mou_7               float64\n",
       "roam_ic_mou_8               float64\n",
       "roam_og_mou_6               float64\n",
       "roam_og_mou_7               float64\n",
       "roam_og_mou_8               float64\n",
       "loc_og_t2t_mou_6            float64\n",
       "loc_og_t2t_mou_7            float64\n",
       "loc_og_t2t_mou_8            float64\n",
       "loc_og_t2m_mou_6            float64\n",
       "loc_og_t2m_mou_7            float64\n",
       "loc_og_t2m_mou_8            float64\n",
       "loc_og_t2f_mou_6            float64\n",
       "loc_og_t2f_mou_7            float64\n",
       "loc_og_t2f_mou_8            float64\n",
       "loc_og_t2c_mou_6            float64\n",
       "loc_og_t2c_mou_7            float64\n",
       "loc_og_t2c_mou_8            float64\n",
       "loc_og_mou_6                float64\n",
       "loc_og_mou_7                float64\n",
       "loc_og_mou_8                float64\n",
       "std_og_t2t_mou_6            float64\n",
       "std_og_t2t_mou_7            float64\n",
       "std_og_t2t_mou_8            float64\n",
       "std_og_t2m_mou_6            float64\n",
       "std_og_t2m_mou_7            float64\n",
       "std_og_t2m_mou_8            float64\n",
       "std_og_t2f_mou_6            float64\n",
       "std_og_t2f_mou_7            float64\n",
       "std_og_t2f_mou_8            float64\n",
       "std_og_t2c_mou_6            float64\n",
       "std_og_t2c_mou_7            float64\n",
       "std_og_t2c_mou_8            float64\n",
       "std_og_mou_6                float64\n",
       "std_og_mou_7                float64\n",
       "std_og_mou_8                float64\n",
       "isd_og_mou_6                float64\n",
       "isd_og_mou_7                float64\n",
       "isd_og_mou_8                float64\n",
       "spl_og_mou_6                float64\n",
       "spl_og_mou_7                float64\n",
       "spl_og_mou_8                float64\n",
       "og_others_6                 float64\n",
       "og_others_7                 float64\n",
       "og_others_8                 float64\n",
       "total_og_mou_6              float64\n",
       "total_og_mou_7              float64\n",
       "total_og_mou_8              float64\n",
       "loc_ic_t2t_mou_6            float64\n",
       "loc_ic_t2t_mou_7            float64\n",
       "loc_ic_t2t_mou_8            float64\n",
       "loc_ic_t2m_mou_6            float64\n",
       "loc_ic_t2m_mou_7            float64\n",
       "loc_ic_t2m_mou_8            float64\n",
       "loc_ic_t2f_mou_6            float64\n",
       "loc_ic_t2f_mou_7            float64\n",
       "loc_ic_t2f_mou_8            float64\n",
       "loc_ic_mou_6                float64\n",
       "loc_ic_mou_7                float64\n",
       "loc_ic_mou_8                float64\n",
       "std_ic_t2t_mou_6            float64\n",
       "std_ic_t2t_mou_7            float64\n",
       "std_ic_t2t_mou_8            float64\n",
       "std_ic_t2m_mou_6            float64\n",
       "std_ic_t2m_mou_7            float64\n",
       "std_ic_t2m_mou_8            float64\n",
       "std_ic_t2f_mou_6            float64\n",
       "std_ic_t2f_mou_7            float64\n",
       "std_ic_t2f_mou_8            float64\n",
       "std_ic_t2o_mou_6            float64\n",
       "std_ic_t2o_mou_7            float64\n",
       "std_ic_t2o_mou_8            float64\n",
       "std_ic_mou_6                float64\n",
       "std_ic_mou_7                float64\n",
       "std_ic_mou_8                float64\n",
       "total_ic_mou_6              float64\n",
       "total_ic_mou_7              float64\n",
       "total_ic_mou_8              float64\n",
       "spl_ic_mou_6                float64\n",
       "spl_ic_mou_7                float64\n",
       "spl_ic_mou_8                float64\n",
       "isd_ic_mou_6                float64\n",
       "isd_ic_mou_7                float64\n",
       "isd_ic_mou_8                float64\n",
       "ic_others_6                 float64\n",
       "ic_others_7                 float64\n",
       "ic_others_8                 float64\n",
       "total_rech_num_6              int64\n",
       "total_rech_num_7              int64\n",
       "total_rech_num_8              int64\n",
       "total_rech_amt_6              int64\n",
       "total_rech_amt_7              int64\n",
       "total_rech_amt_8              int64\n",
       "max_rech_amt_6                int64\n",
       "max_rech_amt_7                int64\n",
       "max_rech_amt_8                int64\n",
       "date_of_last_rech_6          object\n",
       "date_of_last_rech_7          object\n",
       "date_of_last_rech_8          object\n",
       "last_day_rch_amt_6            int64\n",
       "last_day_rch_amt_7            int64\n",
       "last_day_rch_amt_8            int64\n",
       "date_of_last_rech_data_6     object\n",
       "date_of_last_rech_data_7     object\n",
       "date_of_last_rech_data_8     object\n",
       "total_rech_data_6           float64\n",
       "total_rech_data_7           float64\n",
       "total_rech_data_8           float64\n",
       "max_rech_data_6             float64\n",
       "max_rech_data_7             float64\n",
       "max_rech_data_8             float64\n",
       "count_rech_2g_6             float64\n",
       "count_rech_2g_7             float64\n",
       "count_rech_2g_8             float64\n",
       "count_rech_3g_6             float64\n",
       "count_rech_3g_7             float64\n",
       "count_rech_3g_8             float64\n",
       "av_rech_amt_data_6          float64\n",
       "av_rech_amt_data_7          float64\n",
       "av_rech_amt_data_8          float64\n",
       "vol_2g_mb_6                 float64\n",
       "vol_2g_mb_7                 float64\n",
       "vol_2g_mb_8                 float64\n",
       "vol_3g_mb_6                 float64\n",
       "vol_3g_mb_7                 float64\n",
       "vol_3g_mb_8                 float64\n",
       "arpu_3g_6                   float64\n",
       "arpu_3g_7                   float64\n",
       "arpu_3g_8                   float64\n",
       "arpu_2g_6                   float64\n",
       "arpu_2g_7                   float64\n",
       "arpu_2g_8                   float64\n",
       "night_pck_user_6            float64\n",
       "night_pck_user_7            float64\n",
       "night_pck_user_8            float64\n",
       "monthly_2g_6                  int64\n",
       "monthly_2g_7                  int64\n",
       "monthly_2g_8                  int64\n",
       "sachet_2g_6                   int64\n",
       "sachet_2g_7                   int64\n",
       "sachet_2g_8                   int64\n",
       "monthly_3g_6                  int64\n",
       "monthly_3g_7                  int64\n",
       "monthly_3g_8                  int64\n",
       "sachet_3g_6                   int64\n",
       "sachet_3g_7                   int64\n",
       "sachet_3g_8                   int64\n",
       "fb_user_6                   float64\n",
       "fb_user_7                   float64\n",
       "fb_user_8                   float64\n",
       "aon                           int64\n",
       "aug_vbc_3g                  float64\n",
       "jul_vbc_3g                  float64\n",
       "jun_vbc_3g                  float64\n",
       "churn_probability             int64\n",
       "dtype: object"
      ]
     },
     "execution_count": 145,
     "metadata": {},
     "output_type": "execute_result"
    }
   ],
   "source": [
    "pd.set_option('display.max_rows', None)\n",
    "telcom_data.dtypes\n",
    "#pd.set_option('display.max_rows', 30)"
   ]
  },
  {
   "cell_type": "code",
   "execution_count": 146,
   "metadata": {
    "execution": {
     "iopub.execute_input": "2022-10-09T08:21:15.188949Z",
     "iopub.status.busy": "2022-10-09T08:21:15.188505Z",
     "iopub.status.idle": "2022-10-09T08:21:15.700837Z",
     "shell.execute_reply": "2022-10-09T08:21:15.699504Z",
     "shell.execute_reply.started": "2022-10-09T08:21:15.188909Z"
    }
   },
   "outputs": [
    {
     "name": "stdout",
     "output_type": "stream",
     "text": [
      "['circle_id', 'loc_og_t2o_mou', 'std_og_t2o_mou', 'loc_ic_t2o_mou', 'last_date_of_month_6', 'last_date_of_month_7', 'last_date_of_month_8', 'std_og_t2c_mou_6', 'std_og_t2c_mou_7', 'std_og_t2c_mou_8', 'std_ic_t2o_mou_6', 'std_ic_t2o_mou_7', 'std_ic_t2o_mou_8']\n"
     ]
    }
   ],
   "source": [
    "# clean the data for safe checks like empty columns and empty rows...\n",
    "def sanity_clean_data(telcom_data):\n",
    "    #columns with all empty values to be removed\n",
    "    telcom_data.dropna(axis=1, how='all', inplace=True)\n",
    "    \n",
    "    #columns with all same values to be removed as they dont provide any insight\n",
    "    cols_nounique = [i for i in telcom_data.columns if telcom_data[i].nunique()==1]\n",
    "    telcom_data.drop(columns=cols_nounique, inplace=True, axis=1)\n",
    "    print(cols_nounique)\n",
    "    \n",
    "    #rows with all NAs to be removed\n",
    "    telcom_data.dropna(axis=0,how='all',inplace=True)\n",
    "    \n",
    "sanity_clean_data(telcom_data)    "
   ]
  },
  {
   "cell_type": "code",
   "execution_count": 147,
   "metadata": {
    "execution": {
     "iopub.execute_input": "2022-10-09T08:21:15.854645Z",
     "iopub.status.busy": "2022-10-09T08:21:15.853942Z",
     "iopub.status.idle": "2022-10-09T08:21:15.860718Z",
     "shell.execute_reply": "2022-10-09T08:21:15.859659Z",
     "shell.execute_reply.started": "2022-10-09T08:21:15.854603Z"
    }
   },
   "outputs": [
    {
     "data": {
      "text/plain": [
       "(69999, 158)"
      ]
     },
     "execution_count": 147,
     "metadata": {},
     "output_type": "execute_result"
    }
   ],
   "source": [
    "telcom_data.shape"
   ]
  },
  {
   "cell_type": "code",
   "execution_count": 148,
   "metadata": {
    "execution": {
     "iopub.execute_input": "2022-10-09T08:21:16.550530Z",
     "iopub.status.busy": "2022-10-09T08:21:16.550116Z",
     "iopub.status.idle": "2022-10-09T08:21:16.775567Z",
     "shell.execute_reply": "2022-10-09T08:21:16.774210Z",
     "shell.execute_reply.started": "2022-10-09T08:21:16.550495Z"
    }
   },
   "outputs": [],
   "source": [
    "#since the data is only from year 2014, converting it to day of the year.\n",
    "# to keep it extensible for any other years, multiplying it with days in year + day in year\n",
    "def reform_dates(telcom_data):\n",
    "    date_cols = ['date_of_last_rech_6', 'date_of_last_rech_7', 'date_of_last_rech_8', 'date_of_last_rech_data_6', 'date_of_last_rech_data_7', 'date_of_last_rech_data_8']\n",
    "    for col_name in date_cols:\n",
    "        telcom_data[col_name] = pd.to_datetime(telcom_data[col_name]).dt.year*366 + pd.to_datetime(telcom_data[col_name]).dt.dayofyear\n",
    "    return telcom_data\n",
    "telcom_data = reform_dates(telcom_data)"
   ]
  },
  {
   "cell_type": "code",
   "execution_count": 149,
   "metadata": {
    "execution": {
     "iopub.execute_input": "2022-10-09T08:21:17.480236Z",
     "iopub.status.busy": "2022-10-09T08:21:17.479823Z",
     "iopub.status.idle": "2022-10-09T08:21:17.499208Z",
     "shell.execute_reply": "2022-10-09T08:21:17.498104Z",
     "shell.execute_reply.started": "2022-10-09T08:21:17.480200Z"
    }
   },
   "outputs": [
    {
     "data": {
      "text/plain": [
       "Index(['onnet_mou_6', 'onnet_mou_7', 'onnet_mou_8', 'offnet_mou_6',\n",
       "       'offnet_mou_7', 'offnet_mou_8', 'roam_ic_mou_6', 'roam_ic_mou_7',\n",
       "       'roam_ic_mou_8', 'roam_og_mou_6',\n",
       "       ...\n",
       "       'arpu_3g_8', 'arpu_2g_6', 'arpu_2g_7', 'arpu_2g_8', 'night_pck_user_6',\n",
       "       'night_pck_user_7', 'night_pck_user_8', 'fb_user_6', 'fb_user_7',\n",
       "       'fb_user_8'],\n",
       "      dtype='object', length=114)"
      ]
     },
     "execution_count": 149,
     "metadata": {},
     "output_type": "execute_result"
    }
   ],
   "source": [
    "telcom_data.columns[telcom_data.isna().any()]"
   ]
  },
  {
   "cell_type": "code",
   "execution_count": 150,
   "metadata": {
    "execution": {
     "iopub.execute_input": "2022-10-09T08:21:17.916387Z",
     "iopub.status.busy": "2022-10-09T08:21:17.915957Z",
     "iopub.status.idle": "2022-10-09T08:21:17.926576Z",
     "shell.execute_reply": "2022-10-09T08:21:17.924837Z",
     "shell.execute_reply.started": "2022-10-09T08:21:17.916349Z"
    }
   },
   "outputs": [
    {
     "data": {
      "text/plain": [
       "array([nan,  1.,  0.])"
      ]
     },
     "execution_count": 150,
     "metadata": {},
     "output_type": "execute_result"
    }
   ],
   "source": [
    "telcom_data['fb_user_6'].unique()"
   ]
  },
  {
   "cell_type": "code",
   "execution_count": 151,
   "metadata": {
    "execution": {
     "iopub.execute_input": "2022-10-09T08:21:18.354849Z",
     "iopub.status.busy": "2022-10-09T08:21:18.354427Z",
     "iopub.status.idle": "2022-10-09T08:21:18.387963Z",
     "shell.execute_reply": "2022-10-09T08:21:18.386833Z",
     "shell.execute_reply.started": "2022-10-09T08:21:18.354814Z"
    }
   },
   "outputs": [
    {
     "data": {
      "text/plain": [
       "Index(['date_of_last_rech_data_6', 'date_of_last_rech_data_7',\n",
       "       'date_of_last_rech_data_8', 'total_rech_data_6', 'total_rech_data_7',\n",
       "       'total_rech_data_8', 'max_rech_data_6', 'max_rech_data_7',\n",
       "       'max_rech_data_8', 'count_rech_2g_6', 'count_rech_2g_7',\n",
       "       'count_rech_2g_8', 'count_rech_3g_6', 'count_rech_3g_7',\n",
       "       'count_rech_3g_8', 'av_rech_amt_data_6', 'av_rech_amt_data_7',\n",
       "       'av_rech_amt_data_8', 'arpu_3g_6', 'arpu_3g_7', 'arpu_3g_8',\n",
       "       'arpu_2g_6', 'arpu_2g_7', 'arpu_2g_8', 'night_pck_user_6',\n",
       "       'night_pck_user_7', 'night_pck_user_8', 'fb_user_6', 'fb_user_7',\n",
       "       'fb_user_8'],\n",
       "      dtype='object')"
      ]
     },
     "execution_count": 151,
     "metadata": {},
     "output_type": "execute_result"
    }
   ],
   "source": [
    "telcom_data.columns[telcom_data.isnull().mean() > 0.70]"
   ]
  },
  {
   "cell_type": "markdown",
   "metadata": {},
   "source": [
    "There are columns that are having more than 70% missing values.\n",
    "but looking at these columns, it completely makes sense as they are not applicable. hence we need to impute them appropriately\n",
    "\n",
    "Here, date of last recharge can be imputed with mode and other columns with zero as it is not applicable"
   ]
  },
  {
   "cell_type": "code",
   "execution_count": 152,
   "metadata": {
    "execution": {
     "iopub.execute_input": "2022-10-09T08:21:19.219312Z",
     "iopub.status.busy": "2022-10-09T08:21:19.218897Z",
     "iopub.status.idle": "2022-10-09T08:21:19.228938Z",
     "shell.execute_reply": "2022-10-09T08:21:19.227470Z",
     "shell.execute_reply.started": "2022-10-09T08:21:19.219277Z"
    }
   },
   "outputs": [
    {
     "data": {
      "text/plain": [
       "['date_of_last_rech_6',\n",
       " 'date_of_last_rech_data_6',\n",
       " 'date_of_last_rech_7',\n",
       " 'date_of_last_rech_data_7',\n",
       " 'date_of_last_rech_8',\n",
       " 'date_of_last_rech_data_8']"
      ]
     },
     "execution_count": 152,
     "metadata": {},
     "output_type": "execute_result"
    }
   ],
   "source": [
    "#Lets look at the data dictionary and classify numeric vs categorical columns\n",
    "cat_col_prefix = ['date_of_last_rech_','date_of_last_rech_data_']\n",
    "cat_cols = []\n",
    "for i in range(6,9):\n",
    "    for prefix in cat_col_prefix:\n",
    "        cat_cols.append(prefix+str(i));\n",
    "cat_cols"
   ]
  },
  {
   "cell_type": "code",
   "execution_count": 153,
   "metadata": {
    "execution": {
     "iopub.execute_input": "2022-10-09T08:21:20.297612Z",
     "iopub.status.busy": "2022-10-09T08:21:20.297152Z",
     "iopub.status.idle": "2022-10-09T08:21:20.303955Z",
     "shell.execute_reply": "2022-10-09T08:21:20.302697Z",
     "shell.execute_reply.started": "2022-10-09T08:21:20.297571Z"
    }
   },
   "outputs": [],
   "source": [
    "num_cols = [i for i in telcom_data.columns if i not in cat_cols]"
   ]
  },
  {
   "cell_type": "code",
   "execution_count": 154,
   "metadata": {
    "execution": {
     "iopub.execute_input": "2022-10-09T08:21:20.934556Z",
     "iopub.status.busy": "2022-10-09T08:21:20.934122Z",
     "iopub.status.idle": "2022-10-09T08:21:20.940119Z",
     "shell.execute_reply": "2022-10-09T08:21:20.938860Z",
     "shell.execute_reply.started": "2022-10-09T08:21:20.934516Z"
    }
   },
   "outputs": [],
   "source": [
    "non_zero_cols = ['aon']"
   ]
  },
  {
   "cell_type": "code",
   "execution_count": 155,
   "metadata": {
    "execution": {
     "iopub.execute_input": "2022-10-09T08:21:21.571421Z",
     "iopub.status.busy": "2022-10-09T08:21:21.570962Z",
     "iopub.status.idle": "2022-10-09T08:21:22.266836Z",
     "shell.execute_reply": "2022-10-09T08:21:22.265386Z",
     "shell.execute_reply.started": "2022-10-09T08:21:21.571382Z"
    }
   },
   "outputs": [],
   "source": [
    "#Missing values imputation:\n",
    "# impute all numeric cols with median and categorical ones with mode\n",
    "#for col in num_cols:\n",
    "#    telcom_data[col].fillna(telcom_data[col].median(), inplace=True)\n",
    "def impute_missing_values(data):\n",
    "    #impute non applicable data with zeros\n",
    "    data[non_zero_cols] = data.filter(non_zero_cols).fillna(data.median(numeric_only=True).iloc[0])\n",
    "    data[num_cols] = data.filter(num_cols).fillna(0)\n",
    "    data[cat_cols] = data.filter(cat_cols).fillna(data.mode().iloc[0])\n",
    "    return data;\n",
    "telcom_data = impute_missing_values(telcom_data)"
   ]
  },
  {
   "cell_type": "code",
   "execution_count": 156,
   "metadata": {
    "execution": {
     "iopub.execute_input": "2022-10-09T08:21:22.269421Z",
     "iopub.status.busy": "2022-10-09T08:21:22.269009Z",
     "iopub.status.idle": "2022-10-09T08:21:22.276504Z",
     "shell.execute_reply": "2022-10-09T08:21:22.275574Z",
     "shell.execute_reply.started": "2022-10-09T08:21:22.269383Z"
    }
   },
   "outputs": [
    {
     "data": {
      "text/plain": [
       "(69999, 158)"
      ]
     },
     "execution_count": 156,
     "metadata": {},
     "output_type": "execute_result"
    }
   ],
   "source": [
    "telcom_data.shape"
   ]
  },
  {
   "cell_type": "code",
   "execution_count": 157,
   "metadata": {
    "execution": {
     "iopub.execute_input": "2022-10-09T08:21:22.802101Z",
     "iopub.status.busy": "2022-10-09T08:21:22.801232Z",
     "iopub.status.idle": "2022-10-09T08:21:22.837251Z",
     "shell.execute_reply": "2022-10-09T08:21:22.836055Z",
     "shell.execute_reply.started": "2022-10-09T08:21:22.802061Z"
    }
   },
   "outputs": [],
   "source": [
    "X = telcom_data.iloc[:,0:telcom_data.shape[1]-1]\n",
    "y = telcom_data['churn_probability']"
   ]
  },
  {
   "cell_type": "code",
   "execution_count": null,
   "metadata": {},
   "outputs": [],
   "source": [
    "print('Before OverSampling, the shape of train_X: {}'.format(X_train.shape))\n",
    "print('Before OverSampling, the shape of train_y: {} \\n'.format(y_train.ravel().shape))\n",
    "print(\"Before OverSampling, counts of label '1': {}\".format(sum(y_train == 1)))\n",
    "print(\"Before OverSampling, counts of label '0': {} \\n\".format(sum(y_train == 0)))\n",
    "\n",
    "# import SMOTE module from imblearn library\n",
    "# pip install imblearn (if you don't have imblearn in your system)\n",
    "from imblearn.over_sampling import SMOTE\n",
    "sm = SMOTE(random_state = 2)\n",
    "X, y = sm.fit_resample(X, y.ravel())\n",
    "\n",
    "print('After OverSampling, the shape of train_X: {}'.format(X_train.shape))\n",
    "print('After OverSampling, the shape of train_y: {} \\n'.format(y_train.shape))\n",
    "\n",
    "print(\"After OverSampling, counts of label '1': {}\".format(sum(y_train == 1)))\n",
    "print(\"After OverSampling, counts of label '0': {}\".format(sum(y_train == 0)))\n"
   ]
  },
  {
   "cell_type": "code",
   "execution_count": 158,
   "metadata": {
    "execution": {
     "iopub.execute_input": "2022-10-09T08:21:23.638972Z",
     "iopub.status.busy": "2022-10-09T08:21:23.638506Z",
     "iopub.status.idle": "2022-10-09T08:21:25.054298Z",
     "shell.execute_reply": "2022-10-09T08:21:25.053101Z",
     "shell.execute_reply.started": "2022-10-09T08:21:23.638934Z"
    }
   },
   "outputs": [
    {
     "data": {
      "text/plain": [
       "(69999, 77)"
      ]
     },
     "execution_count": 158,
     "metadata": {},
     "output_type": "execute_result"
    }
   ],
   "source": [
    "from sklearn.preprocessing import StandardScaler\n",
    "from sklearn.decomposition import PCA\n",
    "#scale the data\n",
    "scaler = StandardScaler()\n",
    "X_std = scaler.fit_transform(X)\n",
    "\n",
    "#PCA\n",
    "pca = PCA(n_components=0.95)\n",
    "X_train_pca = pca.fit_transform(X_std)\n",
    "X_train_pca.shape"
   ]
  },
  {
   "cell_type": "code",
   "execution_count": 159,
   "metadata": {
    "execution": {
     "iopub.execute_input": "2022-10-09T08:21:25.057585Z",
     "iopub.status.busy": "2022-10-09T08:21:25.056839Z",
     "iopub.status.idle": "2022-10-09T08:21:25.062365Z",
     "shell.execute_reply": "2022-10-09T08:21:25.061047Z",
     "shell.execute_reply.started": "2022-10-09T08:21:25.057537Z"
    }
   },
   "outputs": [],
   "source": [
    "## Use Random forest classifier"
   ]
  },
  {
   "cell_type": "code",
   "execution_count": 160,
   "metadata": {
    "execution": {
     "iopub.execute_input": "2022-10-09T08:21:25.064710Z",
     "iopub.status.busy": "2022-10-09T08:21:25.064091Z",
     "iopub.status.idle": "2022-10-09T08:21:25.078940Z",
     "shell.execute_reply": "2022-10-09T08:21:25.077686Z",
     "shell.execute_reply.started": "2022-10-09T08:21:25.064637Z"
    }
   },
   "outputs": [],
   "source": [
    "from sklearn.ensemble import RandomForestClassifier\n",
    "from sklearn.model_selection import GridSearchCV, RandomizedSearchCV \n",
    "classifier_rf = RandomForestClassifier(random_state=42, n_jobs=-1)\n",
    "# Create the parameter grid based on the results of random search \n",
    "params = {\n",
    "    'max_depth': [4, 6, 10],\n",
    "    'min_samples_leaf': [100, 500, 1000, 5000],\n",
    "    'max_features': [5, 10],\n",
    "    'n_estimators': [10, 50, 100, 1000],\n",
    "}\n",
    "# Instantiate the grid search model\n",
    "grid_search = GridSearchCV(estimator=classifier_rf, param_grid=params, \n",
    "                          cv=4, n_jobs=-1, verbose=2, scoring = 'roc_auc')"
   ]
  },
  {
   "cell_type": "code",
   "execution_count": 161,
   "metadata": {
    "execution": {
     "iopub.execute_input": "2022-10-09T08:21:26.362018Z",
     "iopub.status.busy": "2022-10-09T08:21:26.360540Z",
     "iopub.status.idle": "2022-10-09T08:21:26.368280Z",
     "shell.execute_reply": "2022-10-09T08:21:26.366933Z",
     "shell.execute_reply.started": "2022-10-09T08:21:26.361969Z"
    }
   },
   "outputs": [
    {
     "name": "stdout",
     "output_type": "stream",
     "text": [
      "CPU times: user 4 µs, sys: 0 ns, total: 4 µs\n",
      "Wall time: 8.34 µs\n"
     ]
    }
   ],
   "source": [
    "%%time\n",
    "grid_search.fit(X_train_pca,y)"
   ]
  },
  {
   "cell_type": "code",
   "execution_count": 162,
   "metadata": {
    "execution": {
     "iopub.execute_input": "2022-10-09T08:21:32.270037Z",
     "iopub.status.busy": "2022-10-09T08:21:32.269617Z",
     "iopub.status.idle": "2022-10-09T08:21:32.275750Z",
     "shell.execute_reply": "2022-10-09T08:21:32.274218Z",
     "shell.execute_reply.started": "2022-10-09T08:21:32.270002Z"
    }
   },
   "outputs": [],
   "source": [
    "rf_best = grid_search.best_estimator_\n",
    "rf_best"
   ]
  },
  {
   "cell_type": "code",
   "execution_count": 163,
   "metadata": {
    "execution": {
     "iopub.execute_input": "2022-10-09T08:21:35.809745Z",
     "iopub.status.busy": "2022-10-09T08:21:35.809319Z",
     "iopub.status.idle": "2022-10-09T08:21:35.815307Z",
     "shell.execute_reply": "2022-10-09T08:21:35.813931Z",
     "shell.execute_reply.started": "2022-10-09T08:21:35.809706Z"
    }
   },
   "outputs": [],
   "source": [
    "from sklearn.metrics import confusion_matrix\n",
    "confusion_matrix(y, rf_best.predict(X_train_pca))"
   ]
  },
  {
   "cell_type": "code",
   "execution_count": 164,
   "metadata": {
    "execution": {
     "iopub.execute_input": "2022-10-09T08:21:42.918967Z",
     "iopub.status.busy": "2022-10-09T08:21:42.918427Z",
     "iopub.status.idle": "2022-10-09T08:21:42.923974Z",
     "shell.execute_reply": "2022-10-09T08:21:42.922706Z",
     "shell.execute_reply.started": "2022-10-09T08:21:42.918926Z"
    }
   },
   "outputs": [],
   "source": [
    "accuracy_score(y,rf_best.predict(X_train_pca))"
   ]
  },
  {
   "cell_type": "code",
   "execution_count": 165,
   "metadata": {
    "execution": {
     "iopub.execute_input": "2022-10-09T08:21:45.733031Z",
     "iopub.status.busy": "2022-10-09T08:21:45.732539Z",
     "iopub.status.idle": "2022-10-09T08:21:45.738956Z",
     "shell.execute_reply": "2022-10-09T08:21:45.737539Z",
     "shell.execute_reply.started": "2022-10-09T08:21:45.732980Z"
    }
   },
   "outputs": [],
   "source": [
    "from sklearn.metrics import precision_score\n",
    "precision_score(y, rf_best.predict(X_train_pca), average=None)"
   ]
  },
  {
   "cell_type": "code",
   "execution_count": 166,
   "metadata": {
    "execution": {
     "iopub.execute_input": "2022-10-09T08:22:35.941381Z",
     "iopub.status.busy": "2022-10-09T08:22:35.940892Z",
     "iopub.status.idle": "2022-10-09T08:22:35.950307Z",
     "shell.execute_reply": "2022-10-09T08:22:35.948992Z",
     "shell.execute_reply.started": "2022-10-09T08:22:35.941338Z"
    }
   },
   "outputs": [
    {
     "data": {
      "text/plain": [
       "\"\\n\\ntest_data = pd.read_csv('/kaggle/input/telecom-churn-case-study-hackathon-c40/test.csv', header=0);\\n#test_data.set_index('id', inplace=True)\\ntest_data = reform_dates(test_data)\\ntest_data['churn_probability'] = 0\\ntest_data = impute_missing_values(test_data)\\ny_test = test_data.pop('churn_probability')\\nX_test = test_data[X.columns]\\nX_test_std = scaler.transform(X_test)\\n\\nX_test_pca = pca.transform(X_test_std)\\ntest_data['churn_probability'] = rf_best.predict(X_test_pca)\\nsolution = test_data[['id', 'churn_probability']]\\nsolution.set_index('id', inplace=True)\\nsolution.to_csv('solution.csv', header=True, index=True)\\n\""
      ]
     },
     "execution_count": 166,
     "metadata": {},
     "output_type": "execute_result"
    }
   ],
   "source": [
    "\n",
    "test_data = pd.read_csv('/kaggle/input/telecom-churn-case-study-hackathon-c40/test.csv', header=0);\n",
    "#test_data.set_index('id', inplace=True)\n",
    "test_data = reform_dates(test_data)\n",
    "test_data['churn_probability'] = 0\n",
    "test_data = impute_missing_values(test_data)\n",
    "y_test = test_data.pop('churn_probability')\n",
    "X_test = test_data[X.columns]\n",
    "X_test_std = scaler.transform(X_test)\n",
    "\n",
    "X_test_pca = pca.transform(X_test_std)\n",
    "test_data['churn_probability'] = rf_best.predict(X_test_pca)\n",
    "solution = test_data[['id', 'churn_probability']]\n",
    "solution.set_index('id', inplace=True)\n",
    "solution.to_csv('solution.csv', header=True, index=True)"
   ]
  },
  {
   "cell_type": "markdown",
   "metadata": {},
   "source": []
  },
  {
   "cell_type": "markdown",
   "metadata": {},
   "source": [
    "##Using Boosting"
   ]
  },
  {
   "cell_type": "code",
   "execution_count": 171,
   "metadata": {
    "execution": {
     "iopub.execute_input": "2022-10-09T08:23:44.766503Z",
     "iopub.status.busy": "2022-10-09T08:23:44.765974Z",
     "iopub.status.idle": "2022-10-09T08:24:47.116105Z",
     "shell.execute_reply": "2022-10-09T08:24:47.115021Z",
     "shell.execute_reply.started": "2022-10-09T08:23:44.766435Z"
    }
   },
   "outputs": [
    {
     "data": {
      "text/plain": [
       "XGBClassifier(base_score=0.5, booster='gbtree', callbacks=None,\n",
       "              colsample_bylevel=1, colsample_bynode=1, colsample_bytree=1,\n",
       "              early_stopping_rounds=None, enable_categorical=False,\n",
       "              eval_metric=None, gamma=0, gpu_id=-1, grow_policy='depthwise',\n",
       "              importance_type=None, interaction_constraints='',\n",
       "              learning_rate=0.300000012, max_bin=256, max_cat_to_onehot=4,\n",
       "              max_delta_step=0, max_depth=6, max_leaves=0, min_child_weight=1,\n",
       "              missing=nan, monotone_constraints='()', n_estimators=100,\n",
       "              n_jobs=-1, num_parallel_tree=1, predictor='auto', random_state=0,\n",
       "              reg_alpha=0, reg_lambda=1, ...)"
      ]
     },
     "execution_count": 171,
     "metadata": {},
     "output_type": "execute_result"
    }
   ],
   "source": [
    "\n",
    "import xgboost as xgb  # Load this xgboost\n",
    "xgb_cfl = xgb.XGBClassifier(n_jobs = -1,objective = 'binary:logistic')\n",
    "xgb_cfl.get_params()\n",
    "# Fit the model to our train and target\n",
    "xgb_cfl.fit(X_train_pca, y)  # default "
   ]
  },
  {
   "cell_type": "code",
   "execution_count": 172,
   "metadata": {
    "execution": {
     "iopub.execute_input": "2022-10-09T08:24:55.464855Z",
     "iopub.status.busy": "2022-10-09T08:24:55.464426Z",
     "iopub.status.idle": "2022-10-09T08:24:55.609052Z",
     "shell.execute_reply": "2022-10-09T08:24:55.608182Z",
     "shell.execute_reply.started": "2022-10-09T08:24:55.464818Z"
    }
   },
   "outputs": [
    {
     "data": {
      "text/plain": [
       "array([[62502,   365],\n",
       "       [ 1360,  5772]])"
      ]
     },
     "execution_count": 172,
     "metadata": {},
     "output_type": "execute_result"
    }
   ],
   "source": [
    "from sklearn.metrics import confusion_matrix\n",
    "confusion_matrix(y, xgb_cfl.predict(X_train_pca))"
   ]
  },
  {
   "cell_type": "code",
   "execution_count": 173,
   "metadata": {
    "execution": {
     "iopub.execute_input": "2022-10-09T08:24:56.893714Z",
     "iopub.status.busy": "2022-10-09T08:24:56.892960Z",
     "iopub.status.idle": "2022-10-09T08:24:57.002555Z",
     "shell.execute_reply": "2022-10-09T08:24:57.001551Z",
     "shell.execute_reply.started": "2022-10-09T08:24:56.893665Z"
    }
   },
   "outputs": [],
   "source": [
    "X_test_std = scaler.transform(X_test)"
   ]
  },
  {
   "cell_type": "code",
   "execution_count": 174,
   "metadata": {
    "execution": {
     "iopub.execute_input": "2022-10-09T08:24:58.602714Z",
     "iopub.status.busy": "2022-10-09T08:24:58.601679Z",
     "iopub.status.idle": "2022-10-09T08:24:58.842122Z",
     "shell.execute_reply": "2022-10-09T08:24:58.840865Z",
     "shell.execute_reply.started": "2022-10-09T08:24:58.602675Z"
    }
   },
   "outputs": [],
   "source": [
    "X_test_pca = pca.transform(X_test_std)\n",
    "test_data['churn_probability'] = xgb_cfl.predict(X_test_pca)\n",
    "solution = test_data[['id', 'churn_probability']]\n",
    "solution.set_index('id', inplace=True)\n",
    "solution.to_csv('solution.csv', header=True, index=True)"
   ]
  },
  {
   "cell_type": "code",
   "execution_count": null,
   "metadata": {},
   "outputs": [],
   "source": []
  },
  {
   "cell_type": "markdown",
   "metadata": {},
   "source": [
    "## This notebook is intended to work on models that needed higher precesion, accuracy, for explainable model, refer to telcomchurnExplainablemodels.ipynb"
   ]
  },
  {
   "cell_type": "code",
   "execution_count": null,
   "metadata": {},
   "outputs": [],
   "source": []
  }
 ],
 "metadata": {
  "kernelspec": {
   "display_name": "Python 3 (ipykernel)",
   "language": "python",
   "name": "python3"
  },
  "language_info": {
   "codemirror_mode": {
    "name": "ipython",
    "version": 3
   },
   "file_extension": ".py",
   "mimetype": "text/x-python",
   "name": "python",
   "nbconvert_exporter": "python",
   "pygments_lexer": "ipython3",
   "version": "3.9.7"
  }
 },
 "nbformat": 4,
 "nbformat_minor": 4
}
